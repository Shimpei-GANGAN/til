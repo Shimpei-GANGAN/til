{
 "cells": [
  {
   "cell_type": "code",
   "execution_count": null,
   "source": [
    "import scipy.io.wavfile\n",
    "import numpy as np\n",
    "import matplotlib.pyplot as plt\n",
    " \n",
    "\n",
    "#音声ファイル読み込み\n",
    "FILE_PATH = './kimigayo.wav'\n",
    "rate, data = scipy.io.wavfile.read(FILE_PATH)\n",
    "\n",
    "# 音声データをそのまま表示する\n",
    "data = data / 32768\n",
    "time = np.arange(0, data.shape[0]/rate, 1/rate)  \n",
    "\n",
    "plt.plot(time, data)\n",
    "plt.show()\n"
   ],
   "outputs": [],
   "metadata": {}
  },
  {
   "cell_type": "code",
   "execution_count": null,
   "source": [],
   "outputs": [],
   "metadata": {}
  }
 ],
 "metadata": {
  "orig_nbformat": 4,
  "language_info": {
   "name": "python"
  }
 },
 "nbformat": 4,
 "nbformat_minor": 2
}