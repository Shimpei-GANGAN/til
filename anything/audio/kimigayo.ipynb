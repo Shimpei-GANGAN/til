{
 "cells": [
  {
   "cell_type": "code",
   "execution_count": null,
   "source": [
    "import scipy.io.wavfile\n",
    "import numpy as np\n",
    "import matplotlib.pyplot as plt\n",
    " \n",
    "\n",
    "#音声ファイル読み込み\n",
    "FILE_PATH = './kimigayo.wav'\n",
    "rate, data = scipy.io.wavfile.read(FILE_PATH)\n",
    "\n",
    "# 音声データをそのまま表示する\n",
    "data = data / 32768\n",
    "time = np.arange(0, data.shape[0]/rate, 1/rate)  \n",
    "\n",
    "plt.plot(time, data)\n",
    "plt.show()\n"
   ],
   "outputs": [],
   "metadata": {}
  },
  {
   "cell_type": "code",
   "execution_count": null,
   "source": [],
   "outputs": [],
   "metadata": {}
  }
 ],
 "metadata": {
  "orig_nbformat": 4,
  "language_info": {
   "name": "python",
   "version": "3.7.6"
  },
  "kernelspec": {
   "name": "python3",
   "display_name": "Python 3.7.6 64-bit ('base': conda)"
  },
  "interpreter": {
   "hash": "43b9989f38d40a5c231a1f70062f9041d7099d76802c318d4091b56bc857bdf8"
  }
 },
 "nbformat": 4,
 "nbformat_minor": 2
}