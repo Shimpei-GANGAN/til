{
 "cells": [
  {
   "cell_type": "markdown",
   "source": [
    "## LSTM\n",
    "- Long Short-Term Memory\n",
    "- RNN の一種\n",
    "- 通常のRNNでは難しい、長期の記憶保持が得意\n",
    "  - ゲートの仕組みによる\n"
   ],
   "metadata": {}
  },
  {
   "cell_type": "code",
   "execution_count": null,
   "source": [],
   "outputs": [],
   "metadata": {}
  }
 ],
 "metadata": {
  "orig_nbformat": 4,
  "language_info": {
   "name": "python"
  }
 },
 "nbformat": 4,
 "nbformat_minor": 2
}