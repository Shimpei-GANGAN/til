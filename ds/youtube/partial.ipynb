{
 "cells": [
  {
   "cell_type": "code",
   "execution_count": null,
   "source": [
    "import numpy as np\n",
    "import matplotlib.pyplot as plt\n",
    "\n",
    "def my_func(x, y):\n",
    "    return x**4 + 2*x**3*y - 3*x*y**2 - 2*x + y - 1\n",
    "\n",
    "ys = [-2, -1, 0, 1, 2]\n",
    "xs = np.linspace(-1,1.5)\n",
    "\n",
    "for y in ys:\n",
    "    f_xy = my_func(xs, y)\n",
    "    plt.plot(xs, f_xy, label=\"y=\"+str(y), linestyle=\"dashed\")\n",
    "\n",
    "plt.xlabel(\"x\", size=14)\n",
    "plt.xlabel(\"f(x,y)\", size=14)\n",
    "plt.legend()\n",
    "plt.grid()\n",
    "\n",
    "plt.show()\n"
   ],
   "outputs": [],
   "metadata": {}
  },
  {
   "cell_type": "code",
   "execution_count": null,
   "source": [
    "import numpy as np\n",
    "import matplotlib.pyplot as plt\n",
    "\n",
    "# 最小値を求める関数\n",
    "def my_func(x):\n",
    "    return x**2 - 2*x\n",
    "\n",
    "def grad_func(x):\n",
    "    return 2*x - 2\n",
    "\n",
    "eta = 0.1\n",
    "x = 4.0\n",
    "record_x = []\n",
    "record_y = []\n",
    "for i in range(20): # 20回更新する\n",
    "    y = my_func(x)\n",
    "    record_x.append(x)\n",
    "    record_y.append(y)\n",
    "    x -= eta * grad_func(x)\n",
    "\n",
    "x_f = np.linespace(-2, 4)\n",
    "y_f = my_func(x_f)\n",
    "\n",
    "plt.plot(x_f, y_f, linestyle=\"dashed\")\n",
    "plt.scatter(record_x, record_y)\n",
    "\n",
    "plt.xlabel(\"x\", size=14)\n",
    "plt.xlabel(\"y\", size=14)\n",
    "plt.grid()\n",
    "\n",
    "plt.show()\n"
   ],
   "outputs": [],
   "metadata": {}
  },
  {
   "cell_type": "code",
   "execution_count": null,
   "source": [
    "import numpy as np\n",
    "import matplotlib.pyplot as plt\n",
    "\n",
    "def my_func(x):  # 最小値を求める関数\n",
    "    return x**4 + 2*x**3 - 3*x**2 - 2*x\n",
    "\n",
    "def grad_func(x):  # 導関数\n",
    "    return 4*x**3 + 6*x**2 - 6*x - 2\n",
    "\n",
    "eta = 0.01  # 学習係数\n",
    "x = 1.6  # xに初期値を設定\n",
    "record_x = []  # xの記録\n",
    "record_y = []  # yの記録\n",
    "for i in range(20):  # 20回xを更新する\n",
    "    y = my_func(x)\n",
    "    record_x.append(x)\n",
    "    record_y.append(y)\n",
    "    x -= eta * grad_func(x)  # （式1）\n",
    "\n",
    "x_f = np.linspace(-2.8, 1.6)  # 表示範囲\n",
    "y_f = my_func(x_f)  \n",
    "\n",
    "plt.plot(x_f, y_f, linestyle=\"dashed\")  # 関数を点線で描画\n",
    "plt.scatter(record_x, record_y)  # xとyの記録を点で表示\n",
    "\n",
    "plt.xlabel(\"x\", size=14)\n",
    "plt.ylabel(\"y\", size=14)\n",
    "plt.grid()\n",
    "\n",
    "plt.show()"
   ],
   "outputs": [],
   "metadata": {}
  }
 ],
 "metadata": {
  "orig_nbformat": 4,
  "language_info": {
   "name": "python",
   "version": "3.6.13"
  },
  "kernelspec": {
   "name": "python3",
   "display_name": "Python 3.6.13 64-bit ('ai_master': conda)"
  },
  "interpreter": {
   "hash": "ae40c206682057e3940821881872b7c1fd04ffd4d47fe0e3130e8e306ce46b5b"
  }
 },
 "nbformat": 4,
 "nbformat_minor": 2
}