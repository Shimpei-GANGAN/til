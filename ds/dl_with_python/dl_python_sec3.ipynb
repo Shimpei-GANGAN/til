{
  "nbformat": 4,
  "nbformat_minor": 0,
  "metadata": {
    "colab": {
      "name": "dl_python_sec3.ipynb",
      "provenance": []
    },
    "kernelspec": {
      "name": "python3",
      "display_name": "Python 3"
    },
    "language_info": {
      "name": "python"
    },
    "accelerator": "GPU"
  },
  "cells": [
    {
      "cell_type": "markdown",
      "source": [
        "低レベルのテンソル操作は TensorFlow API に置き換えられる\n",
        "\n",
        "ディープラーニングの高レベルの概念はKeras API に置き換えられる\n"
      ],
      "metadata": {
        "id": "qPF-W5nnygFi"
      }
    },
    {
      "cell_type": "code",
      "execution_count": 1,
      "metadata": {
        "id": "vJxwlSz5vQnZ"
      },
      "outputs": [],
      "source": [
        "import tensorflow as tf"
      ]
    },
    {
      "cell_type": "code",
      "source": [
        "x = tf.ones(shape=(2, 1))\n",
        "print(x)\n",
        "\n",
        "x = tf.zeros(shape=(2, 1))\n",
        "print(x)"
      ],
      "metadata": {
        "colab": {
          "base_uri": "https://localhost:8080/"
        },
        "id": "EZgdJLu10d5T",
        "outputId": "8a3a4994-5246-4149-a860-fdf79684e135"
      },
      "execution_count": 2,
      "outputs": [
        {
          "output_type": "stream",
          "name": "stdout",
          "text": [
            "tf.Tensor(\n",
            "[[1.]\n",
            " [1.]], shape=(2, 1), dtype=float32)\n",
            "tf.Tensor(\n",
            "[[0.]\n",
            " [0.]], shape=(2, 1), dtype=float32)\n"
          ]
        }
      ]
    },
    {
      "cell_type": "code",
      "source": [
        "x = tf.random.normal(shape=(3, 1), mean=0., stddev=1.)\n",
        "print(x)\n",
        "\n",
        "x = tf.random.uniform(shape=(3, 1), minval=0., maxval=1.)\n",
        "print(x)"
      ],
      "metadata": {
        "id": "wn48xq2T0oCI",
        "outputId": "85b965ad-f726-45ed-e5a6-2e97263c0172",
        "colab": {
          "base_uri": "https://localhost:8080/"
        }
      },
      "execution_count": 5,
      "outputs": [
        {
          "output_type": "stream",
          "name": "stdout",
          "text": [
            "tf.Tensor(\n",
            "[[ 1.7727511 ]\n",
            " [-1.6989117 ]\n",
            " [ 0.98579854]], shape=(3, 1), dtype=float32)\n",
            "tf.Tensor(\n",
            "[[0.88638866]\n",
            " [0.47654152]\n",
            " [0.6335156 ]], shape=(3, 1), dtype=float32)\n"
          ]
        }
      ]
    },
    {
      "cell_type": "markdown",
      "source": [
        "## NumPy との違い\n",
        "TensorFlowテンソルは定数であり、代入することはできない\n",
        "\n",
        "そこで、変数（tf.Variable）を使う\n"
      ],
      "metadata": {
        "id": "nqAyguqY08He"
      }
    },
    {
      "cell_type": "code",
      "source": [
        "v = tf.Variable(initial_value=tf.random.normal(shape=(3, 1)))\n",
        "print(v)"
      ],
      "metadata": {
        "id": "jwpvI-Y70zV6",
        "outputId": "235b3c00-3764-43d2-a6fd-602282ad4c83",
        "colab": {
          "base_uri": "https://localhost:8080/"
        }
      },
      "execution_count": 7,
      "outputs": [
        {
          "output_type": "stream",
          "name": "stdout",
          "text": [
            "<tf.Variable 'Variable:0' shape=(3, 1) dtype=float32, numpy=\n",
            "array([[ 0.18871385],\n",
            "       [ 1.0423586 ],\n",
            "       [-0.6760009 ]], dtype=float32)>\n"
          ]
        }
      ]
    },
    {
      "cell_type": "code",
      "source": [
        "v.assign(tf.ones((3, 1)))"
      ],
      "metadata": {
        "id": "_MPjd6OJ1Ovx",
        "outputId": "90af6a6a-546f-4dae-d991-2352fb608b39",
        "colab": {
          "base_uri": "https://localhost:8080/"
        }
      },
      "execution_count": 8,
      "outputs": [
        {
          "output_type": "execute_result",
          "data": {
            "text/plain": [
              "<tf.Variable 'UnreadVariable' shape=(3, 1) dtype=float32, numpy=\n",
              "array([[1.],\n",
              "       [1.],\n",
              "       [1.]], dtype=float32)>"
            ]
          },
          "metadata": {},
          "execution_count": 8
        }
      ]
    },
    {
      "cell_type": "code",
      "source": [
        "v[0, 0].assign(3.)"
      ],
      "metadata": {
        "id": "bGBIdyCl1XCM",
        "outputId": "1889e5ab-77ca-4d94-c3d0-af34e8ffea37",
        "colab": {
          "base_uri": "https://localhost:8080/"
        }
      },
      "execution_count": 9,
      "outputs": [
        {
          "output_type": "execute_result",
          "data": {
            "text/plain": [
              "<tf.Variable 'UnreadVariable' shape=(3, 1) dtype=float32, numpy=\n",
              "array([[3.],\n",
              "       [1.],\n",
              "       [1.]], dtype=float32)>"
            ]
          },
          "metadata": {},
          "execution_count": 9
        }
      ]
    },
    {
      "cell_type": "code",
      "source": [
        "v.assign_add(tf.ones((3, 1))) # assign_sub もある"
      ],
      "metadata": {
        "id": "XjMZa_qk1act",
        "outputId": "dd232a32-8766-46e9-b273-31380a9b3593",
        "colab": {
          "base_uri": "https://localhost:8080/"
        }
      },
      "execution_count": 10,
      "outputs": [
        {
          "output_type": "execute_result",
          "data": {
            "text/plain": [
              "<tf.Variable 'UnreadVariable' shape=(3, 1) dtype=float32, numpy=\n",
              "array([[4.],\n",
              "       [2.],\n",
              "       [2.]], dtype=float32)>"
            ]
          },
          "metadata": {},
          "execution_count": 10
        }
      ]
    },
    {
      "cell_type": "code",
      "source": [
        "# GradientTapeの入力として定数テンソルを使う\n",
        "input_const = tf.constant(3.)\n",
        "with tf.GradientTape() as tape:\n",
        "    tape.watch(input_const)\n",
        "    result = tf.square(input_const)\n",
        "gradient = tape.gradient(result, input_const)"
      ],
      "metadata": {
        "id": "pFWbAIMa1iCt"
      },
      "execution_count": 11,
      "outputs": []
    },
    {
      "cell_type": "markdown",
      "source": [
        "## 線形分類器"
      ],
      "metadata": {
        "id": "G_5UGoa16H2S"
      }
    },
    {
      "cell_type": "code",
      "source": [
        "import numpy as np\n",
        "\n",
        "num_samples_per_class = 1000\n",
        "negative_samples = np.random.multivariate_normal(mean=[0, 3],\n",
        "                                                 cov=[[1, 0.5],[0.5, 1]],\n",
        "                                                 size=num_samples_per_class)\n",
        "positive_samples = np.random.multivariate_normal(mean=[3, 0],\n",
        "                                                 cov=[[1, 0.5],[0.5, 1]],\n",
        "                                                 size=num_samples_per_class)"
      ],
      "metadata": {
        "id": "lDnczuBW5ujS"
      },
      "execution_count": 12,
      "outputs": []
    },
    {
      "cell_type": "code",
      "source": [
        "# 2つのクラスを１つの配列にまとめる\n",
        "inputs = np.vstack((negative_samples, positive_samples)).astype(np.float32)"
      ],
      "metadata": {
        "id": "rRvXLfsU6daQ"
      },
      "execution_count": 13,
      "outputs": []
    },
    {
      "cell_type": "code",
      "source": [
        "targets = np.vstack((np.zeros((num_samples_per_class, 1), dtype=\"float32\"),\n",
        "                     np.ones((num_samples_per_class, 1), dtype=\"float32\")))"
      ],
      "metadata": {
        "id": "ky2nt57h6oBn"
      },
      "execution_count": 14,
      "outputs": []
    },
    {
      "cell_type": "code",
      "source": [
        "import matplotlib.pyplot as plt\n",
        "\n",
        "plt.scatter(inputs[:, 0], inputs[:, 1], c=targets[:, 0])\n",
        "plt.show()"
      ],
      "metadata": {
        "id": "wHonugUI6yfR",
        "outputId": "15f7040c-c1a3-4677-e1ce-41afdc4f5039",
        "colab": {
          "base_uri": "https://localhost:8080/",
          "height": 265
        }
      },
      "execution_count": 16,
      "outputs": [
        {
          "output_type": "display_data",
          "data": {
            "text/plain": [
              "<Figure size 432x288 with 1 Axes>"
            ],
            "image/png": "[encoded data removed]"
          },
          "metadata": {
            "needs_background": "light"
          }
        }
      ]
    },
    {
      "cell_type": "code",
      "source": [
        "input_dim = 2\n",
        "output_dim = 1\n",
        "W = tf.Variable(initial_value=tf.random.uniform(shape=(input_dim, output_dim)))\n",
        "b = tf.Variable(initial_value=tf.zeros(shape=(output_dim)))"
      ],
      "metadata": {
        "id": "mQM-n0WG7Lcy"
      },
      "execution_count": 17,
      "outputs": []
    },
    {
      "cell_type": "code",
      "source": [
        "def model(inputs):\n",
        "    return tf.matmul(inputs, W) + b"
      ],
      "metadata": {
        "id": "FJ5N61987isS"
      },
      "execution_count": 18,
      "outputs": []
    },
    {
      "cell_type": "code",
      "source": [
        "def square_loss(targets, predictions):\n",
        "    per_sample_loss = tf.square(targets - predictions)\n",
        "    return tf.reduce_mean(per_sample_loss)"
      ],
      "metadata": {
        "id": "9X1FOhS_7sXz"
      },
      "execution_count": 19,
      "outputs": []
    },
    {
      "cell_type": "code",
      "source": [
        "learning_rate = 0.1\n",
        "\n",
        "def training_step(inputs, targets):\n",
        "    with tf.GradientTape() as tape:\n",
        "        predictions = model(inputs)\n",
        "        loss = square_loss(predictions, targets)\n",
        "    grad_loss_wrt_W, grad_loss_wrt_b = tape.gradient(loss, [W, b])\n",
        "    W.assign_sub(grad_loss_wrt_W * learning_rate)\n",
        "    b.assign_sub(grad_loss_wrt_b * learning_rate)\n",
        "    return loss"
      ],
      "metadata": {
        "id": "YStaFzgP73Jg"
      },
      "execution_count": 20,
      "outputs": []
    },
    {
      "cell_type": "code",
      "source": [
        "for step in range(40):\n",
        "    loss = training_step(inputs, targets)\n",
        "    print(f\"Loss at step {step}: {loss:.4f}\")"
      ],
      "metadata": {
        "id": "kAlKvOxn8a4V",
        "outputId": "1f962eca-87a4-4f40-d149-2bbe3deac3ef",
        "colab": {
          "base_uri": "https://localhost:8080/"
        }
      },
      "execution_count": 21,
      "outputs": [
        {
          "output_type": "stream",
          "name": "stdout",
          "text": [
            "Loss at step 0: 2.3584\n",
            "Loss at step 1: 0.4210\n",
            "Loss at step 2: 0.1575\n",
            "Loss at step 3: 0.1150\n",
            "Loss at step 4: 0.1030\n",
            "Loss at step 5: 0.0956\n",
            "Loss at step 6: 0.0894\n",
            "Loss at step 7: 0.0838\n",
            "Loss at step 8: 0.0787\n",
            "Loss at step 9: 0.0740\n",
            "Loss at step 10: 0.0697\n",
            "Loss at step 11: 0.0658\n",
            "Loss at step 12: 0.0622\n",
            "Loss at step 13: 0.0589\n",
            "Loss at step 14: 0.0559\n",
            "Loss at step 15: 0.0531\n",
            "Loss at step 16: 0.0506\n",
            "Loss at step 17: 0.0483\n",
            "Loss at step 18: 0.0462\n",
            "Loss at step 19: 0.0442\n",
            "Loss at step 20: 0.0425\n",
            "Loss at step 21: 0.0408\n",
            "Loss at step 22: 0.0394\n",
            "Loss at step 23: 0.0380\n",
            "Loss at step 24: 0.0368\n",
            "Loss at step 25: 0.0356\n",
            "Loss at step 26: 0.0346\n",
            "Loss at step 27: 0.0337\n",
            "Loss at step 28: 0.0328\n",
            "Loss at step 29: 0.0320\n",
            "Loss at step 30: 0.0313\n",
            "Loss at step 31: 0.0306\n",
            "Loss at step 32: 0.0300\n",
            "Loss at step 33: 0.0294\n",
            "Loss at step 34: 0.0289\n",
            "Loss at step 35: 0.0285\n",
            "Loss at step 36: 0.0280\n",
            "Loss at step 37: 0.0276\n",
            "Loss at step 38: 0.0273\n",
            "Loss at step 39: 0.0270\n"
          ]
        }
      ]
    },
    {
      "cell_type": "code",
      "source": [
        "predictions = model(inputs)\n",
        "plt.scatter(inputs[:, 0], inputs[:, 1], c=predictions[:, 0] > 0.5)"
      ],
      "metadata": {
        "id": "AlOhlUuY8h8s",
        "outputId": "78b032f7-04e5-4a21-903d-4d18f72a1a52",
        "colab": {
          "base_uri": "https://localhost:8080/",
          "height": 282
        }
      },
      "execution_count": 22,
      "outputs": [
        {
          "output_type": "execute_result",
          "data": {
            "text/plain": [
              "<matplotlib.collections.PathCollection at 0x7fe185ebe910>"
            ]
          },
          "metadata": {},
          "execution_count": 22
        },
        {
          "output_type": "display_data",
          "data": {
            "text/plain": [
              "<Figure size 432x288 with 1 Axes>"
            ],
            "image/png": "[encoded data removed]"
          },
          "metadata": {
            "needs_background": "light"
          }
        }
      ]
    },
    {
      "cell_type": "markdown",
      "source": [
        "## Layerクラス：Kerasのベースクラス\n",
        "単純なAPIでは、全ての中心に１つの単純な抽象化があるはず。KerasにおいてそれにあたるのはLayerクラス。\n",
        "\n",
        "Layerは状態（重み）と計算（フォワードパス）をカプセル化したオブジェクト。\n",
        "\n",
        "重みは一般に build メソッドで定義され、計算は call メソッドで定義される"
      ],
      "metadata": {
        "id": "LrcrpmEi9f-n"
      }
    },
    {
      "cell_type": "code",
      "source": [
        "from tensorflow import keras\n",
        "\n",
        "class SimpleDense(keras.layers.Layer):\n",
        "    def __init__(self, units, activation=None):\n",
        "        super().__init__()\n",
        "        self.units = units\n",
        "        self.activation = activation\n",
        "\n",
        "    def build(self, input_shape):\n",
        "        input_dim = input_shape[-1]\n",
        "        self.W = self.add_weight(shape=(input_dim, self.units),\n",
        "                                 initializer=\"random_normal\")\n",
        "        self.b = self.add_weight(shape=(self.units,),\n",
        "                                 initializer=\"zeros\")\n",
        "        \n",
        "    def call(self, inputs):\n",
        "        y = tf.matmul(inputs, self.W) + self.b\n",
        "        if self.activation is not None:\n",
        "            y = self.activation(y)\n",
        "        return y"
      ],
      "metadata": {
        "id": "qcP8ZkcY9fpv"
      },
      "execution_count": 24,
      "outputs": []
    },
    {
      "cell_type": "code",
      "source": [
        "my_dense = SimpleDense(units=32, activation=tf.nn.relu)\n",
        "\n",
        "input_tensor = tf.ones(shape=(2, 784))\n",
        "\n",
        "output_tensor = my_dense(input_tensor)\n",
        "print(output_tensor.shape)"
      ],
      "metadata": {
        "id": "BjmrHz2a8xZg",
        "outputId": "5586f898-0828-4eac-8547-55f80d5f5201",
        "colab": {
          "base_uri": "https://localhost:8080/"
        }
      },
      "execution_count": 25,
      "outputs": [
        {
          "output_type": "stream",
          "name": "stdout",
          "text": [
            "(2, 32)\n"
          ]
        }
      ]
    },
    {
      "cell_type": "code",
      "source": [
        "\"\"\"\n",
        "ベースクラスの __call__ には次のような実装が入っている\n",
        "\n",
        "def __call__(self, inputs):\n",
        "    if not self.build:\n",
        "        self.build(inputs.shape)\n",
        "        self.built = true\n",
        "    return self.call(inputs)\n",
        "\n",
        "そのため、カスタム層を実装する時には、「フォワードパスは call() で定義する」だけで良い\n",
        "\"\"\""
      ],
      "metadata": {
        "id": "86qlOmpn-sRx",
        "outputId": "dbddec1f-99e5-432d-fb74-2910cb466c40",
        "colab": {
          "base_uri": "https://localhost:8080/",
          "height": 53
        }
      },
      "execution_count": 28,
      "outputs": [
        {
          "output_type": "execute_result",
          "data": {
            "text/plain": [
              "'\\nベースクラスの __call__ には次のような実装が入っている\\n\\ndef __call__(self, inputs):\\n    if not self.build:\\n        self.build(inputs.shape)\\n        self.built = true\\n    return self.call(inputs)\\n'"
            ],
            "application/vnd.google.colaboratory.intrinsic+json": {
              "type": "string"
            }
          },
          "metadata": {},
          "execution_count": 28
        }
      ]
    },
    {
      "cell_type": "markdown",
      "source": [
        "## Model\n",
        "モデルを作成する方法は主に２つあり、Modelクラスをサブクラス化する方法と、Functional API を使う方法"
      ],
      "metadata": {
        "id": "0YAKwaRYAIv2"
      }
    },
    {
      "cell_type": "code",
      "source": [
        ""
      ],
      "metadata": {
        "id": "AQOxq7vR_iQp"
      },
      "execution_count": null,
      "outputs": []
    }
  ]
}