{
  "nbformat": 4,
  "nbformat_minor": 0,
  "metadata": {
    "colab": {
      "name": "RNN.ipynb",
      "provenance": [],
      "collapsed_sections": []
    },
    "kernelspec": {
      "name": "python3",
      "display_name": "Python 3"
    },
    "language_info": {
      "name": "python"
    },
    "accelerator": "GPU"
  },
  "cells": [
    {
      "cell_type": "code",
      "execution_count": 27,
      "metadata": {
        "id": "zxr3gpbYhesL"
      },
      "outputs": [],
      "source": [
        "import torch\n",
        "import torchvision"
      ]
    },
    {
      "cell_type": "code",
      "source": [
        "train_dataset = torchvision.datasets.MNIST(root='MNIST', train=True, transform=torchvision.transforms.ToTensor(), download=True)\n",
        "test_dataset = torchvision.datasets.MNIST(root='MNIST', train=False, transform=torchvision.transforms.ToTensor(), download=True)"
      ],
      "metadata": {
        "id": "CO18slxmijCo"
      },
      "execution_count": 28,
      "outputs": []
    },
    {
      "cell_type": "code",
      "source": [
        "print(len(train_dataset))\n",
        "print(len(test_dataset))"
      ],
      "metadata": {
        "colab": {
          "base_uri": "https://localhost:8080/"
        },
        "id": "QAdoWpDOivJr",
        "outputId": "096cd919-2321-4876-b969-200adc1a3d7d"
      },
      "execution_count": 29,
      "outputs": [
        {
          "output_type": "stream",
          "name": "stdout",
          "text": [
            "60000\n",
            "10000\n"
          ]
        }
      ]
    },
    {
      "cell_type": "code",
      "source": [
        "batch_size = 128\n",
        "\n",
        "train_loader = torch.utils.data.DataLoader(dataset=train_dataset, batch_size=batch_size, shuffle=True)\n",
        "test_loader = torch.utils.data.DataLoader(dataset=test_dataset, batch_size=batch_size, shuffle=True)"
      ],
      "metadata": {
        "id": "9_VWX-NiixuP"
      },
      "execution_count": 30,
      "outputs": []
    },
    {
      "cell_type": "code",
      "source": [
        "images, labels = iter(train_loader).next()"
      ],
      "metadata": {
        "id": "eXRcUvPVjFPR"
      },
      "execution_count": 31,
      "outputs": []
    },
    {
      "cell_type": "code",
      "source": [
        "images.shape"
      ],
      "metadata": {
        "colab": {
          "base_uri": "https://localhost:8080/"
        },
        "id": "iEgrsG0NjH_o",
        "outputId": "2e9f31a3-172d-477e-f8dd-438966303fcb"
      },
      "execution_count": 32,
      "outputs": [
        {
          "output_type": "execute_result",
          "data": {
            "text/plain": [
              "torch.Size([128, 1, 28, 28])"
            ]
          },
          "metadata": {},
          "execution_count": 32
        }
      ]
    },
    {
      "cell_type": "code",
      "source": [
        "labels.shape"
      ],
      "metadata": {
        "colab": {
          "base_uri": "https://localhost:8080/"
        },
        "id": "hvMMxuXejJJI",
        "outputId": "7057714e-524d-4729-a981-722672f76b17"
      },
      "execution_count": 33,
      "outputs": [
        {
          "output_type": "execute_result",
          "data": {
            "text/plain": [
              "torch.Size([128])"
            ]
          },
          "metadata": {},
          "execution_count": 33
        }
      ]
    },
    {
      "cell_type": "code",
      "source": [
        "import matplotlib.pyplot as plt\n",
        "\n",
        "plt.imshow(images[0].view(28, 28))"
      ],
      "metadata": {
        "colab": {
          "base_uri": "https://localhost:8080/",
          "height": 282
        },
        "id": "lXqMmIaljJ-1",
        "outputId": "91b9f9e9-e167-4a03-be68-4752f56f9d8a"
      },
      "execution_count": 34,
      "outputs": [
        {
          "output_type": "execute_result",
          "data": {
            "text/plain": [
              "<matplotlib.image.AxesImage at 0x7f62374b2290>"
            ]
          },
          "metadata": {},
          "execution_count": 34
        },
        {
          "output_type": "display_data",
          "data": {
            "image/png": "[encoded data removed]",
            "text/plain": [
              "<Figure size 432x288 with 1 Axes>"
            ]
          },
          "metadata": {
            "needs_background": "light"
          }
        }
      ]
    },
    {
      "cell_type": "code",
      "source": [
        "labels[0].item()"
      ],
      "metadata": {
        "colab": {
          "base_uri": "https://localhost:8080/"
        },
        "id": "1VzSGHsWjOkV",
        "outputId": "bfb3f236-19a7-4253-a3c9-3777a672e54a"
      },
      "execution_count": 35,
      "outputs": [
        {
          "output_type": "execute_result",
          "data": {
            "text/plain": [
              "2"
            ]
          },
          "metadata": {},
          "execution_count": 35
        }
      ]
    },
    {
      "cell_type": "markdown",
      "source": [
        "## RNN Model"
      ],
      "metadata": {
        "id": "9rUcnLppotBm"
      }
    },
    {
      "cell_type": "code",
      "source": [
        "import torch\n",
        "\n",
        "device = torch.device('cuda' if torch.cuda.is_available() else 'cpu')\n",
        "device"
      ],
      "metadata": {
        "colab": {
          "base_uri": "https://localhost:8080/"
        },
        "id": "StHYeBeljU1w",
        "outputId": "dbba27ae-917a-4526-8231-737fe0d28c79"
      },
      "execution_count": 36,
      "outputs": [
        {
          "output_type": "execute_result",
          "data": {
            "text/plain": [
              "device(type='cuda')"
            ]
          },
          "metadata": {},
          "execution_count": 36
        }
      ]
    },
    {
      "cell_type": "code",
      "source": [
        "input_size = 28\n",
        "sequential_length = 28\n",
        "num_layers = 2\n",
        "hidden_size = 256\n",
        "num_classes = 10\n",
        "learning_rate = 0.01"
      ],
      "metadata": {
        "id": "set01WjJo2lL"
      },
      "execution_count": 37,
      "outputs": []
    },
    {
      "cell_type": "code",
      "source": [
        "import torch.nn as nn"
      ],
      "metadata": {
        "id": "NXIcsvhQpAoj"
      },
      "execution_count": 38,
      "outputs": []
    },
    {
      "cell_type": "code",
      "source": [
        "class RNN(nn.Module):\n",
        "    def __init__(self, input_size, hidden_size, num_layers, num_classes):\n",
        "        super().__init__()\n",
        "        self.hidden_size = hidden_size\n",
        "        self.num_layers = num_layers\n",
        "        self.rnn = nn.RNN(input_size, hidden_size, num_layers, batch_first=True)    # batch_size, channel, height, width\n",
        "        self.fc = nn.Linear(hidden_size * sequential_length, num_classes)\n",
        "    \n",
        "    def forward(self, x):\n",
        "        h0 = torch.zeros(self.num_layers, x.size(0), self.hidden_size).to(device)\n",
        "        out, _ = self.rnn(x, h0)    # give hidden layer to RNN\n",
        "        out = out.reshape(out.shape[0], -1) # 128, 7168(28*28)\n",
        "        out = self.fc(out)\n",
        "        return out"
      ],
      "metadata": {
        "id": "99FCkM3tpCAL"
      },
      "execution_count": 39,
      "outputs": []
    },
    {
      "cell_type": "code",
      "source": [
        "net = RNN(input_size, hidden_size, num_layers, num_classes).to(device)"
      ],
      "metadata": {
        "id": "0at_g4hoBc0n"
      },
      "execution_count": 40,
      "outputs": []
    },
    {
      "cell_type": "code",
      "source": [
        "print(net(images[0].to(device)))\n",
        "print(net(images[0].to(device)).max(1))\n",
        "print(net(images[0].to(device)).max(1)[1])"
      ],
      "metadata": {
        "colab": {
          "base_uri": "https://localhost:8080/"
        },
        "id": "Atkd8F1aBee3",
        "outputId": "370345e6-2dbf-43d9-fe26-87cde7de99cd"
      },
      "execution_count": 41,
      "outputs": [
        {
          "output_type": "stream",
          "name": "stdout",
          "text": [
            "tensor([[-0.0177, -0.0058,  0.0223,  0.0049, -0.0077,  0.0368,  0.0456, -0.0419,\n",
            "         -0.1141,  0.0481]], device='cuda:0', grad_fn=<AddmmBackward0>)\n",
            "torch.return_types.max(\n",
            "values=tensor([0.0481], device='cuda:0', grad_fn=<MaxBackward0>),\n",
            "indices=tensor([9], device='cuda:0'))\n",
            "tensor([9], device='cuda:0')\n"
          ]
        }
      ]
    },
    {
      "cell_type": "code",
      "source": [
        "criterion = nn.CrossEntropyLoss()\n",
        "import torch.optim as optim\n",
        "optimizer = optim.Adam(net.parameters(), lr=learning_rate)"
      ],
      "metadata": {
        "id": "71U3uq4_BsSB"
      },
      "execution_count": 46,
      "outputs": []
    },
    {
      "cell_type": "code",
      "source": [
        "epochs = 5\n",
        "\n",
        "train_acc_list = []\n",
        "train_loss_list = []\n",
        "test_acc_list = []\n",
        "test_loss_list = []\n",
        "\n",
        "for epoch in range(epochs):\n",
        "    # Train\n",
        "    net.train()\n",
        "    train_loss = 0\n",
        "    train_acc = 0\n",
        "    for images, labels in train_loader:\n",
        "        images, labels = images.to(device), labels.to(device)\n",
        "\n",
        "        optimizer.zero_grad()\n",
        "        outputs = net(images.squeeze(1))    # 128, 1, 28, 28 => 128, 28, 28\n",
        "        loss = criterion(outputs, labels)\n",
        "        loss.backward()\n",
        "        optimizer.step()\n",
        "\n",
        "        train_acc += (outputs.max(1)[1] == labels).sum().item()\n",
        "        train_loss += loss\n",
        "    avg_train_acc = train_acc / len(train_loader.dataset)\n",
        "    avg_train_loss = train_loss / len(train_loader.dataset)\n",
        "\n",
        "    # Evaluation\n",
        "    net.eval()\n",
        "    with torch.no_grad():\n",
        "        test_loss = 0\n",
        "        test_acc = 0\n",
        "\n",
        "        for images, labels in test_loader:\n",
        "            images, labels = images.to(device), labels.to(device)\n",
        "\n",
        "            outputs = net(images.squeeze(1))    # 128, 1, 28, 28 => 128, 28, 28\n",
        "            loss = criterion(outputs, labels)\n",
        "\n",
        "            test_acc += (outputs.max(1)[1] == labels).sum().item()\n",
        "            test_loss += loss\n",
        "        avg_test_acc = test_acc / len(test_loader.dataset)\n",
        "        avg_test_loss = test_loss / len(test_loader.dataset)\n",
        "    \n",
        "    train_acc_list.append(avg_train_acc)\n",
        "    train_loss_list.append(avg_train_loss)\n",
        "    test_acc_list.append(avg_test_acc)\n",
        "    test_loss_list.append(avg_test_loss)\n",
        "\n",
        "    print(f'Epoch:{epoch+1}/{epochs}, Train Acc:{avg_train_acc:.4f}, Train Loss:{avg_train_loss:.4f}, Test Acc:{avg_test_acc:.4f}, Test Loss:{avg_test_loss:.4f}')\n"
      ],
      "metadata": {
        "colab": {
          "base_uri": "https://localhost:8080/"
        },
        "id": "goilr7C4CDn-",
        "outputId": "00a4347f-6bf4-4c85-bccb-4496530ba9ad"
      },
      "execution_count": 44,
      "outputs": [
        {
          "output_type": "stream",
          "name": "stdout",
          "text": [
            "Epoch:1/5, Train Acc:0.1010, Train Loss:0.2755, Test Acc:0.1028, Test Loss:0.2299\n",
            "Epoch:2/5, Train Acc:0.0993, Train Loss:0.2449, Test Acc:0.1028, Test Loss:0.2919\n",
            "Epoch:3/5, Train Acc:0.1003, Train Loss:0.2843, Test Acc:0.1028, Test Loss:0.3594\n",
            "Epoch:4/5, Train Acc:0.1014, Train Loss:0.2979, Test Acc:0.0982, Test Loss:0.3446\n",
            "Epoch:5/5, Train Acc:0.0992, Train Loss:0.2610, Test Acc:0.1010, Test Loss:0.2918\n"
          ]
        }
      ]
    },
    {
      "cell_type": "code",
      "source": [
        ""
      ],
      "metadata": {
        "id": "yNpqae9rW0bU"
      },
      "execution_count": 43,
      "outputs": []
    }
  ]
}