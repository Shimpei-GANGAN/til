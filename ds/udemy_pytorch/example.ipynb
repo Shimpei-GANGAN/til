{
  "nbformat": 4,
  "nbformat_minor": 0,
  "metadata": {
    "colab": {
      "name": "example.ipynb",
      "provenance": []
    },
    "kernelspec": {
      "name": "python3",
      "display_name": "Python 3"
    },
    "language_info": {
      "name": "python"
    },
    "accelerator": "GPU"
  },
  "cells": [
    {
      "cell_type": "code",
      "execution_count": 1,
      "metadata": {
        "id": "QtHXzGbxcixe"
      },
      "outputs": [],
      "source": [
        "import torch\n",
        "\n",
        "x = torch.Tensor([1, 2, 3])\n",
        "device = torch.device(\"cuda\" if torch.cuda.is_available() else \"cpu\")"
      ]
    },
    {
      "cell_type": "code",
      "source": [
        "device"
      ],
      "metadata": {
        "colab": {
          "base_uri": "https://localhost:8080/"
        },
        "id": "eR4klnz1c59_",
        "outputId": "36dcf8a6-cb36-46d1-cf35-57e47d7006b4"
      },
      "execution_count": 2,
      "outputs": [
        {
          "output_type": "execute_result",
          "data": {
            "text/plain": [
              "device(type='cuda')"
            ]
          },
          "metadata": {},
          "execution_count": 2
        }
      ]
    },
    {
      "cell_type": "code",
      "source": [
        "print(x)\n",
        "x = x.to(device)\n",
        "print(x)"
      ],
      "metadata": {
        "colab": {
          "base_uri": "https://localhost:8080/"
        },
        "id": "M0ze_4voc7J6",
        "outputId": "54401fc0-41a7-4f3f-e0df-0b2f27098491"
      },
      "execution_count": 3,
      "outputs": [
        {
          "output_type": "stream",
          "name": "stdout",
          "text": [
            "tensor([1., 2., 3.])\n",
            "tensor([1., 2., 3.], device='cuda:0')\n"
          ]
        }
      ]
    },
    {
      "cell_type": "code",
      "source": [
        "# Perceptron\n",
        "\n",
        "X = torch.Tensor([1, 170, 100])\n",
        "W = torch.Tensor([-120, 0.5, 0.5])"
      ],
      "metadata": {
        "id": "aqVdnTbSeYKx"
      },
      "execution_count": 6,
      "outputs": []
    },
    {
      "cell_type": "code",
      "source": [
        "X@W"
      ],
      "metadata": {
        "colab": {
          "base_uri": "https://localhost:8080/"
        },
        "id": "zDlnkTHYegd2",
        "outputId": "a3b34fb6-ebf6-4014-9748-cbbcd53ab440"
      },
      "execution_count": 7,
      "outputs": [
        {
          "output_type": "execute_result",
          "data": {
            "text/plain": [
              "tensor(15.)"
            ]
          },
          "metadata": {},
          "execution_count": 7
        }
      ]
    },
    {
      "cell_type": "code",
      "source": [
        "def step(u):\n",
        "    if u >= 0:\n",
        "        return 1\n",
        "    else:\n",
        "        return 0"
      ],
      "metadata": {
        "id": "16bjhuvfehB8"
      },
      "execution_count": 8,
      "outputs": []
    },
    {
      "cell_type": "code",
      "source": [
        "step(X@W)"
      ],
      "metadata": {
        "colab": {
          "base_uri": "https://localhost:8080/"
        },
        "id": "5mdWOZ9Jes4B",
        "outputId": "8983ccda-467c-458f-ecff-5645ab697f0d"
      },
      "execution_count": 9,
      "outputs": [
        {
          "output_type": "execute_result",
          "data": {
            "text/plain": [
              "1"
            ]
          },
          "metadata": {},
          "execution_count": 9
        }
      ]
    },
    {
      "cell_type": "code",
      "source": [
        "# Train\n",
        "X = torch.Tensor([[1, 170, 100], [1, 180, 55], [1, 160, 70], [1, 170, 70], [1, 145, 60]])\n",
        "y = torch.Tensor([1, 0, 1, 0, 1])   # 1. fat\n",
        "## normalize\n",
        "def normalize(X):  # min-max-normalize\n",
        "    x_max = X.max()\n",
        "    x_min = X.min()\n",
        "    return (X - x_min + 1.0) / (x_max - x_min + 1.0)\n",
        "\n",
        "print(X[:, 1])\n",
        "print(X[:, 2])\n",
        "normalized_h = normalize(X[:, 1])\n",
        "normalized_w = normalize(X[:, 1])\n",
        "print(X.shape)"
      ],
      "metadata": {
        "colab": {
          "base_uri": "https://localhost:8080/"
        },
        "id": "x2LK86L4idnn",
        "outputId": "6ddd6d92-b35b-4299-e9c8-74b1ab69fd2e"
      },
      "execution_count": 13,
      "outputs": [
        {
          "output_type": "stream",
          "name": "stdout",
          "text": [
            "tensor([170., 180., 160., 170., 145.])\n",
            "tensor([100.,  55.,  70.,  70.,  60.])\n",
            "torch.Size([5, 3])\n"
          ]
        }
      ]
    },
    {
      "cell_type": "code",
      "source": [
        "X_normalized = torch.Tensor([[i.item(), j.item(), k.item()] for i,j,k in zip(X[:, 0], normalized_h, normalized_w)])\n",
        "X_normalized"
      ],
      "metadata": {
        "colab": {
          "base_uri": "https://localhost:8080/"
        },
        "id": "S3bQB7BMjgiI",
        "outputId": "f3b10178-24f4-418e-94d2-318c7d3cab67"
      },
      "execution_count": 16,
      "outputs": [
        {
          "output_type": "execute_result",
          "data": {
            "text/plain": [
              "tensor([[1.0000, 0.7222, 0.7222],\n",
              "        [1.0000, 1.0000, 1.0000],\n",
              "        [1.0000, 0.4444, 0.4444],\n",
              "        [1.0000, 0.7222, 0.7222],\n",
              "        [1.0000, 0.0278, 0.0278]])"
            ]
          },
          "metadata": {},
          "execution_count": 16
        }
      ]
    },
    {
      "cell_type": "code",
      "source": [
        "X"
      ],
      "metadata": {
        "colab": {
          "base_uri": "https://localhost:8080/"
        },
        "id": "jPsn_Gmyj826",
        "outputId": "57540774-db9d-47ff-ed42-1c511fd0636f"
      },
      "execution_count": 17,
      "outputs": [
        {
          "output_type": "execute_result",
          "data": {
            "text/plain": [
              "tensor([[  1., 170., 100.],\n",
              "        [  1., 180.,  55.],\n",
              "        [  1., 160.,  70.],\n",
              "        [  1., 170.,  70.],\n",
              "        [  1., 145.,  60.]])"
            ]
          },
          "metadata": {},
          "execution_count": 17
        }
      ]
    },
    {
      "cell_type": "code",
      "source": [
        "# Activation Func\n",
        "import torch.nn as nn\n",
        "import torch\n",
        "\n",
        "def step(X):\n",
        "    return (X >= 0).type(torch.int)\n",
        "\n",
        "sigmoid = nn.Sigmoid()\n",
        "X = torch.arange(-10, 10, 0.1)\n",
        "y = sigmoid(X)\n",
        "import matplotlib.pyplot as plt\n",
        "plt.plot(X, y)\n",
        "plt.plot(X, step(X))\n",
        "plt.show()"
      ],
      "metadata": {
        "colab": {
          "base_uri": "https://localhost:8080/",
          "height": 265
        },
        "id": "qRpitACnkA9k",
        "outputId": "41801d7d-0a4d-40e2-f4c5-4a732e68ec70"
      },
      "execution_count": 21,
      "outputs": [
        {
          "output_type": "display_data",
          "data": {
            "image/png": "[encoded data removed]",
            "text/plain": [
              "<Figure size 432x288 with 1 Axes>"
            ]
          },
          "metadata": {
            "needs_background": "light"
          }
        }
      ]
    },
    {
      "cell_type": "code",
      "source": [
        "# Loss function\n",
        "import torch\n",
        "import torch.nn as nn\n",
        "\n",
        "loss_fn = nn.BCELoss()\n",
        "\n",
        "X = torch.Tensor([[1, 170, 100], [1, 180, 55], [1, 160, 70], [1, 170, 70], [1, 145, 60]])\n",
        "y = torch.Tensor([1, 0, 1, 0, 1])   # 1. fat\n",
        "\n",
        "W = torch.randn((3, 1), requires_grad=True)\n",
        "y_pred = sigmoid(X@W)\n",
        "loss_fn = (y_pred, y.view_as(y_pred))   # view_as で次元を合わせる"
      ],
      "metadata": {
        "id": "sUao2FQLkPSD"
      },
      "execution_count": 28,
      "outputs": []
    },
    {
      "cell_type": "markdown",
      "source": [
        "## Gradient Descent\n",
        "\n",
        "1. Initialize the gradient\n",
        "1. Make Prediction\n",
        "1. Calculate loss\n",
        "1. Calculate differenciation\n",
        "    * requires_grad\n",
        "1. Update weights\n",
        "1. Record loss history"
      ],
      "metadata": {
        "id": "btsnz-Pel0wW"
      }
    },
    {
      "cell_type": "code",
      "source": [
        "import torch\n",
        "import torch.nn"
      ],
      "metadata": {
        "id": "jjiVql5EltfF"
      },
      "execution_count": 25,
      "outputs": []
    },
    {
      "cell_type": "code",
      "source": [
        "X = torch.Tensor([[1, 170, 100], [1, 180, 55], [1, 160, 70], [1, 170, 70], [1, 145, 60]])\n",
        "y = torch.Tensor([1, 0, 1, 0, 1])   # 1. fat\n",
        "\n",
        "def normalize(X):  # min-max-normalize\n",
        "    x_max = X.max()\n",
        "    x_min = X.min()\n",
        "    return (X - x_min + 1.0) / (x_max - x_min + 1.0)\n",
        "\n",
        "print(X[:, 1])\n",
        "print(X[:, 2])\n",
        "normalized_h = normalize(X[:, 1])\n",
        "normalized_w = normalize(X[:, 2])\n",
        "X_normalized = torch.Tensor([[i.item(), j.item(), k.item()] for i,j,k in zip(X[:, 0], normalized_h, normalized_w)])\n",
        "\n",
        "W = torch.randn((3, 1), requires_grad=True)\n",
        "y_pred = sigmoid(X@W)\n",
        "loss_fn = (y_pred, y.view_as(y_pred))   # view_as で次元を合わせる\n",
        "\n",
        "epochs = 300\n",
        "eta = 0.5"
      ],
      "metadata": {
        "colab": {
          "base_uri": "https://localhost:8080/"
        },
        "id": "ChV_kQJemCEN",
        "outputId": "bda4d048-1479-40e7-9143-1773e0a0d918"
      },
      "execution_count": 42,
      "outputs": [
        {
          "output_type": "stream",
          "name": "stdout",
          "text": [
            "tensor([170., 180., 160., 170., 145.])\n",
            "tensor([100.,  55.,  70.,  70.,  60.])\n"
          ]
        }
      ]
    },
    {
      "cell_type": "code",
      "source": [
        "losses = []\n",
        "loss_fn = nn.BCELoss()\n",
        "\n",
        "for epoch in range(epochs):\n",
        "    W.grad = None\n",
        "    y_pred = sigmoid(X_normalized@W)\n",
        "    # print(y)\n",
        "    loss = loss_fn(y_pred, y.view_as(y_pred))\n",
        "    loss.backward()\n",
        "    W.data = W.data - eta * W.grad\n",
        "    losses.append(loss)\n"
      ],
      "metadata": {
        "id": "ALQYJH_dmRH1"
      },
      "execution_count": 43,
      "outputs": []
    },
    {
      "cell_type": "code",
      "source": [
        "import matplotlib.pyplot as plt\n",
        "plt.plot(losses)\n",
        "plt.show()"
      ],
      "metadata": {
        "colab": {
          "base_uri": "https://localhost:8080/",
          "height": 267
        },
        "id": "wuwo1W9ZnuSb",
        "outputId": "cbfdb8c1-108b-4d38-dd5b-6ad9b518e88d"
      },
      "execution_count": 44,
      "outputs": [
        {
          "output_type": "display_data",
          "data": {
            "image/png": "[encoded data removed]",
            "text/plain": [
              "<Figure size 432x288 with 1 Axes>"
            ]
          },
          "metadata": {
            "needs_background": "light"
          }
        }
      ]
    },
    {
      "cell_type": "code",
      "source": [
        "joshua = torch.Tensor([[1, 180, 55]])"
      ],
      "metadata": {
        "id": "xSptD2XRnzuI"
      },
      "execution_count": 40,
      "outputs": []
    },
    {
      "cell_type": "code",
      "source": [
        "# １つのデータだと、正規化したときに [1,1] になってしまうので、以下のようにする\n",
        "# min-max は train のデータを使うと思ってもいいかも\n",
        "X_new = torch.cat([X, joshua.reshape(1,3)])\n",
        "\n",
        "def normalize_array(X):\n",
        "    normalized_h = normalize(X[:, 1])\n",
        "    normalized_w = normalize(X[:, 2])\n",
        "    X_normalized = torch.Tensor([[i.item(), j.item(), k.item()] for i,j,k in zip(X[:, 0], normalized_h, normalized_w)])\n",
        "    return X_normalized\n",
        "\n",
        "X_new_normalized = normalize_array(X_new)"
      ],
      "metadata": {
        "id": "gcr0V2IyoC8q"
      },
      "execution_count": 49,
      "outputs": []
    },
    {
      "cell_type": "code",
      "source": [
        "'fat' if sigmoid(X_new_normalized[-1, :]@W) >= 0.5 else 'not fat'"
      ],
      "metadata": {
        "colab": {
          "base_uri": "https://localhost:8080/",
          "height": 35
        },
        "id": "dT1bXIT8oRDf",
        "outputId": "803128a2-5067-4aac-f263-b99d4bb7757c"
      },
      "execution_count": 52,
      "outputs": [
        {
          "output_type": "execute_result",
          "data": {
            "application/vnd.google.colaboratory.intrinsic+json": {
              "type": "string"
            },
            "text/plain": [
              "'not fat'"
            ]
          },
          "metadata": {},
          "execution_count": 52
        }
      ]
    }
  ]
}