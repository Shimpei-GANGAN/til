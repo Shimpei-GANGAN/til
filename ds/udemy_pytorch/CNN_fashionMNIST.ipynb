{
  "nbformat": 4,
  "nbformat_minor": 0,
  "metadata": {
    "colab": {
      "name": "CNN_fashionMNIST.ipynb",
      "provenance": [],
      "collapsed_sections": []
    },
    "kernelspec": {
      "name": "python3",
      "display_name": "Python 3"
    },
    "language_info": {
      "name": "python"
    },
    "accelerator": "GPU"
  },
  "cells": [
    {
      "cell_type": "code",
      "execution_count": 2,
      "metadata": {
        "id": "j8xF1Ek67DuX"
      },
      "outputs": [],
      "source": [
        "from torchvision.datasets import FashionMNIST\n",
        "from torch.utils.data import DataLoader\n",
        "from torchvision import transforms"
      ]
    },
    {
      "cell_type": "code",
      "source": [
        "fashion_mnist_train = FashionMNIST(\"FashionMNIST\", train=True, download=True, transform=transforms.ToTensor())\n",
        "fashion_mnist_test = FashionMNIST(\"FashionMNIST\", train=False, download=True, transform=transforms.ToTensor())"
      ],
      "metadata": {
        "id": "zPcQilYJ7eV6"
      },
      "execution_count": 6,
      "outputs": []
    },
    {
      "cell_type": "code",
      "source": [
        "batch_size = 128\n",
        "\n",
        "train_loader = DataLoader(fashion_mnist_train, batch_size=batch_size, shuffle=True)\n",
        "test_loader = DataLoader(fashion_mnist_test, batch_size=batch_size, shuffle=True)"
      ],
      "metadata": {
        "id": "aNgNNcg777qS"
      },
      "execution_count": 7,
      "outputs": []
    },
    {
      "cell_type": "code",
      "source": [
        "images, labels = iter(train_loader).next()"
      ],
      "metadata": {
        "id": "2ikB12ll8eMn"
      },
      "execution_count": 8,
      "outputs": []
    },
    {
      "cell_type": "code",
      "source": [
        "images.shape"
      ],
      "metadata": {
        "colab": {
          "base_uri": "https://localhost:8080/"
        },
        "id": "Ghr2w7ZU8rPH",
        "outputId": "9944e343-6d00-4e35-d1e0-96624d434578"
      },
      "execution_count": 10,
      "outputs": [
        {
          "output_type": "execute_result",
          "data": {
            "text/plain": [
              "torch.Size([128, 1, 28, 28])"
            ]
          },
          "metadata": {},
          "execution_count": 10
        }
      ]
    },
    {
      "cell_type": "code",
      "source": [
        "import matplotlib.pyplot as plt\n",
        "\n",
        "print(labels[0])\n",
        "plt.imshow(images[0].squeeze(0))"
      ],
      "metadata": {
        "colab": {
          "base_uri": "https://localhost:8080/",
          "height": 300
        },
        "id": "e-EUv2nt8ssw",
        "outputId": "0a83105a-1bb3-4bf0-d660-c64bfa653f7c"
      },
      "execution_count": 11,
      "outputs": [
        {
          "output_type": "stream",
          "name": "stdout",
          "text": [
            "tensor(6)\n"
          ]
        },
        {
          "output_type": "execute_result",
          "data": {
            "text/plain": [
              "<matplotlib.image.AxesImage at 0x7f116c6a3510>"
            ]
          },
          "metadata": {},
          "execution_count": 11
        },
        {
          "output_type": "display_data",
          "data": {
            "image/png": "[encoded data removed]",
            "text/plain": [
              "<Figure size 432x288 with 1 Axes>"
            ]
          },
          "metadata": {
            "needs_background": "light"
          }
        }
      ]
    },
    {
      "cell_type": "code",
      "source": [
        "classes = ['T-shirt/top', 'Trouser', 'Pullover', 'Dress', 'Coat',\n",
        "           'Sandal', 'Shirt', 'Sneaker', 'Bag', 'Ankle boot']"
      ],
      "metadata": {
        "id": "rbxM2rjO85Ib"
      },
      "execution_count": 12,
      "outputs": []
    },
    {
      "cell_type": "code",
      "source": [
        "import torch.nn as nn"
      ],
      "metadata": {
        "id": "1FrdkkrO-kCi"
      },
      "execution_count": 13,
      "outputs": []
    },
    {
      "cell_type": "markdown",
      "source": [
        "(height + 2*padding - filter_size)/stride + 1\n",
        "\n",
        "(width + 2*padding - filter_size)/stride + 1"
      ],
      "metadata": {
        "id": "PZduJkfI_WAy"
      }
    },
    {
      "cell_type": "code",
      "source": [
        "# fashion mnist のサイズが 28\n",
        "(28 + 2*0 - 5)/1 + 1"
      ],
      "metadata": {
        "colab": {
          "base_uri": "https://localhost:8080/"
        },
        "id": "sZ6enO02_1PZ",
        "outputId": "932b9cb8-b291-4524-b13d-1287cdcce52b"
      },
      "execution_count": 15,
      "outputs": [
        {
          "output_type": "execute_result",
          "data": {
            "text/plain": [
              "24.0"
            ]
          },
          "metadata": {},
          "execution_count": 15
        }
      ]
    },
    {
      "cell_type": "code",
      "source": [
        "(24 + 2*0 - 5)/1 + 1"
      ],
      "metadata": {
        "colab": {
          "base_uri": "https://localhost:8080/"
        },
        "id": "rR9We5E_AArX",
        "outputId": "9c841dae-f5ca-420a-f521-d1fab43b0b62"
      },
      "execution_count": 16,
      "outputs": [
        {
          "output_type": "execute_result",
          "data": {
            "text/plain": [
              "20.0"
            ]
          },
          "metadata": {},
          "execution_count": 16
        }
      ]
    },
    {
      "cell_type": "code",
      "source": [
        "(20 + 2*0 - 5)/1 + 1"
      ],
      "metadata": {
        "colab": {
          "base_uri": "https://localhost:8080/"
        },
        "id": "97xspQXCAJ5l",
        "outputId": "ff939e42-b534-40fa-fdf1-b1fa07523fb8"
      },
      "execution_count": 17,
      "outputs": [
        {
          "output_type": "execute_result",
          "data": {
            "text/plain": [
              "16.0"
            ]
          },
          "metadata": {},
          "execution_count": 17
        }
      ]
    },
    {
      "cell_type": "code",
      "source": [
        "16*16"
      ],
      "metadata": {
        "colab": {
          "base_uri": "https://localhost:8080/"
        },
        "id": "sPuTltHOAS0N",
        "outputId": "cacb77c6-6a70-460b-962d-54d928c3dfbc"
      },
      "execution_count": 18,
      "outputs": [
        {
          "output_type": "execute_result",
          "data": {
            "text/plain": [
              "256"
            ]
          },
          "metadata": {},
          "execution_count": 18
        }
      ]
    },
    {
      "cell_type": "code",
      "source": [
        "class CNN(nn.Module):\n",
        "    def __init__(self):\n",
        "        super().__init__()\n",
        "        self.conv_layers = nn.Sequential(\n",
        "            nn.Conv2d(1, 16, 5, 1, 0),\n",
        "            nn.ReLU(inplace=True),\n",
        "            nn.MaxPool2d(2, 2),\n",
        "            nn.Conv2d(16, 32, 5, 1, 0),\n",
        "            nn.Conv2d(32, 64, 5, 1, 0),\n",
        "            nn.MaxPool2d(2, 2)\n",
        "        )\n",
        "        self.dense = nn.Sequential(\n",
        "            nn.Linear(256, 128),\n",
        "            nn.Dropout(p=0.2),\n",
        "            nn.Linear(128, 128),\n",
        "            nn.Dropout(p=0.2),\n",
        "            nn.Linear(128, 10)\n",
        "        )\n",
        "    \n",
        "    def forward(self, x):\n",
        "        out = self.conv_layers(x)\n",
        "        out = out.view(out.size(0), -1) # Flatten data\n",
        "        out = self.dense(out)\n",
        "        return out"
      ],
      "metadata": {
        "id": "EtAIZJam9u3u"
      },
      "execution_count": 19,
      "outputs": []
    },
    {
      "cell_type": "code",
      "source": [
        "net = CNN()"
      ],
      "metadata": {
        "id": "KJg0sT9fCIAr"
      },
      "execution_count": 20,
      "outputs": []
    },
    {
      "cell_type": "code",
      "source": [
        "print(images[0].shape)\n",
        "print(images[0].unsqueeze(0).shape)"
      ],
      "metadata": {
        "colab": {
          "base_uri": "https://localhost:8080/"
        },
        "id": "pF6GBy4ICUuF",
        "outputId": "5f358cd1-1e9e-40b0-cb11-bcdcaa2a26c5"
      },
      "execution_count": 24,
      "outputs": [
        {
          "output_type": "stream",
          "name": "stdout",
          "text": [
            "torch.Size([1, 28, 28])\n",
            "torch.Size([1, 1, 28, 28])\n"
          ]
        }
      ]
    },
    {
      "cell_type": "code",
      "source": [
        "net(images[0].unsqueeze(0))"
      ],
      "metadata": {
        "colab": {
          "base_uri": "https://localhost:8080/"
        },
        "id": "6EVzJhlzCMPh",
        "outputId": "0fa296f2-6c15-4ac1-e5cf-d522c95a3bff"
      },
      "execution_count": 25,
      "outputs": [
        {
          "output_type": "execute_result",
          "data": {
            "text/plain": [
              "tensor([[-0.1079, -0.0871,  0.0738, -0.0894, -0.0167, -0.0278, -0.0347,  0.0870,\n",
              "          0.0627, -0.0262]], grad_fn=<AddmmBackward0>)"
            ]
          },
          "metadata": {},
          "execution_count": 25
        }
      ]
    },
    {
      "cell_type": "markdown",
      "source": [
        "## Train and Evaluate Model"
      ],
      "metadata": {
        "id": "AqBnAkxfCkDo"
      }
    },
    {
      "cell_type": "code",
      "source": [
        "import torch\n",
        "\n",
        "device = 'cuda' if torch.cuda.is_available() else 'cpu'\n",
        "cuda = torch.device(device)"
      ],
      "metadata": {
        "id": "dV4jDx9WCPPP"
      },
      "execution_count": 27,
      "outputs": []
    },
    {
      "cell_type": "code",
      "source": [
        "net = CNN().to(device)"
      ],
      "metadata": {
        "id": "r7QFGDkfCsc8"
      },
      "execution_count": 28,
      "outputs": []
    },
    {
      "cell_type": "code",
      "source": [
        "images = images.to(device)\n",
        "labels = labels.to(device)"
      ],
      "metadata": {
        "id": "mv27eUU8C275"
      },
      "execution_count": 29,
      "outputs": []
    },
    {
      "cell_type": "code",
      "source": [
        "import torch.nn as nn\n",
        "import torch.optim as optim\n",
        "\n",
        "criterion = nn.CrossEntropyLoss()\n",
        "optimizer = optim.Adam(net.parameters())\n",
        "epochs = 20\n",
        "\n",
        "train_loss_list = []\n",
        "train_acc_list = []\n",
        "\n",
        "val_loss_list = []\n",
        "val_acc_list = []\n",
        "\n",
        "import time\n",
        "start = time.time()\n",
        "\n",
        "for epoch in range(epochs):\n",
        "    # Train\n",
        "    net.train() # dropout がある時は少し挙動に気をつける？\n",
        "\n",
        "    train_loss = 0\n",
        "    train_acc = 0\n",
        "\n",
        "    for i, (images, labels) in enumerate(train_loader):\n",
        "        images, labels = images.to(device), labels.to(device)\n",
        "        optimizer.zero_grad()\n",
        "        outputs = net(images)\n",
        "        loss = criterion(outputs, labels)\n",
        "        loss.backward()\n",
        "        optimizer.step()\n",
        "\n",
        "        train_loss += loss\n",
        "        train_acc += (outputs.max(1)[1] == labels).sum().item()\n",
        "    \n",
        "    avg_train_loss = train_loss / len(train_loader.dataset)\n",
        "    avg_train_acc = train_acc / len(train_loader.dataset)\n",
        "\n",
        "    # Evaluation\n",
        "    net.eval()\n",
        "    val_loss = 0\n",
        "    val_acc = 0\n",
        "\n",
        "    with torch.no_grad():\n",
        "        for images, labels in test_loader:\n",
        "            images, labels = images.to(device), labels.to(device)\n",
        "            outputs = net(images)\n",
        "            loss = criterion(outputs, labels)\n",
        "            val_loss += loss.item()\n",
        "            val_acc += (outputs.max(1)[1] == labels).sum().item()\n",
        "        avg_val_loss = val_loss / len(test_loader.dataset)\n",
        "        avg_val_acc = val_acc / len(test_loader.dataset)\n",
        "    \n",
        "    train_loss_list.append(avg_train_loss)\n",
        "    train_acc_list.append(avg_train_acc)\n",
        "\n",
        "    val_loss_list.append(avg_val_loss)\n",
        "    val_acc_list.append(avg_val_acc)\n",
        "\n",
        "    end = time.time() - start\n",
        "    print(f\"Epoch{epoch+1}/{epochs}\")\n",
        "    print(f\"TrainLoss:{avg_train_loss:.4f}, ValLoss:{avg_val_loss:.4f}\")\n",
        "    print(f\"TrainAcc:{avg_train_acc:.4f}, ValAcc:{avg_val_acc:.4f}\")\n",
        "    print(f\"{end} sec.\")\n"
      ],
      "metadata": {
        "colab": {
          "base_uri": "https://localhost:8080/"
        },
        "id": "K1GAOIDeC8NE",
        "outputId": "c4488682-daea-4784-a930-c108bde115a7"
      },
      "execution_count": 32,
      "outputs": [
        {
          "output_type": "stream",
          "name": "stdout",
          "text": [
            "Epoch1/20\n",
            "TrainLoss:0.0026, ValLoss:0.0026\n",
            "TrainAcc:0.8788, ValAcc:0.8793\n",
            "6.012414455413818 sec.\n",
            "Epoch2/20\n",
            "TrainLoss:0.0024, ValLoss:0.0024\n",
            "TrainAcc:0.8910, ValAcc:0.8906\n",
            "12.009026050567627 sec.\n",
            "Epoch3/20\n",
            "TrainLoss:0.0022, ValLoss:0.0025\n",
            "TrainAcc:0.9013, ValAcc:0.8844\n",
            "18.006929397583008 sec.\n",
            "Epoch4/20\n",
            "TrainLoss:0.0020, ValLoss:0.0023\n",
            "TrainAcc:0.9061, ValAcc:0.8943\n",
            "24.03455901145935 sec.\n",
            "Epoch5/20\n",
            "TrainLoss:0.0019, ValLoss:0.0023\n",
            "TrainAcc:0.9115, ValAcc:0.8947\n",
            "30.21076488494873 sec.\n",
            "Epoch6/20\n",
            "TrainLoss:0.0018, ValLoss:0.0025\n",
            "TrainAcc:0.9175, ValAcc:0.8874\n",
            "36.243717670440674 sec.\n",
            "Epoch7/20\n",
            "TrainLoss:0.0017, ValLoss:0.0024\n",
            "TrainAcc:0.9203, ValAcc:0.8944\n",
            "42.401304721832275 sec.\n",
            "Epoch8/20\n",
            "TrainLoss:0.0016, ValLoss:0.0023\n",
            "TrainAcc:0.9260, ValAcc:0.8985\n",
            "48.43218183517456 sec.\n",
            "Epoch9/20\n",
            "TrainLoss:0.0015, ValLoss:0.0024\n",
            "TrainAcc:0.9289, ValAcc:0.8973\n",
            "54.50603723526001 sec.\n",
            "Epoch10/20\n",
            "TrainLoss:0.0014, ValLoss:0.0025\n",
            "TrainAcc:0.9352, ValAcc:0.8925\n",
            "60.541348934173584 sec.\n",
            "Epoch11/20\n",
            "TrainLoss:0.0014, ValLoss:0.0026\n",
            "TrainAcc:0.9357, ValAcc:0.8944\n",
            "66.54867601394653 sec.\n",
            "Epoch12/20\n",
            "TrainLoss:0.0013, ValLoss:0.0026\n",
            "TrainAcc:0.9411, ValAcc:0.8911\n",
            "72.55204772949219 sec.\n",
            "Epoch13/20\n",
            "TrainLoss:0.0012, ValLoss:0.0026\n",
            "TrainAcc:0.9428, ValAcc:0.8949\n",
            "78.55066847801208 sec.\n",
            "Epoch14/20\n",
            "TrainLoss:0.0011, ValLoss:0.0030\n",
            "TrainAcc:0.9476, ValAcc:0.8879\n",
            "84.55377507209778 sec.\n",
            "Epoch15/20\n",
            "TrainLoss:0.0011, ValLoss:0.0028\n",
            "TrainAcc:0.9496, ValAcc:0.8906\n",
            "90.54285550117493 sec.\n",
            "Epoch16/20\n",
            "TrainLoss:0.0010, ValLoss:0.0030\n",
            "TrainAcc:0.9534, ValAcc:0.8911\n",
            "96.56388306617737 sec.\n",
            "Epoch17/20\n",
            "TrainLoss:0.0010, ValLoss:0.0030\n",
            "TrainAcc:0.9549, ValAcc:0.8949\n",
            "102.60640978813171 sec.\n",
            "Epoch18/20\n",
            "TrainLoss:0.0009, ValLoss:0.0032\n",
            "TrainAcc:0.9584, ValAcc:0.8935\n",
            "108.65676641464233 sec.\n",
            "Epoch19/20\n",
            "TrainLoss:0.0009, ValLoss:0.0033\n",
            "TrainAcc:0.9579, ValAcc:0.8916\n",
            "114.68579244613647 sec.\n",
            "Epoch20/20\n",
            "TrainLoss:0.0008, ValLoss:0.0034\n",
            "TrainAcc:0.9604, ValAcc:0.8885\n",
            "120.78272247314453 sec.\n"
          ]
        }
      ]
    },
    {
      "cell_type": "code",
      "source": [
        "import matplotlib.pyplot as plt\n",
        "\n",
        "plt.plot(train_loss_list, color='red')\n",
        "plt.plot(val_loss_list, color='blue')\n",
        "plt.xlabel('# epochs')\n",
        "plt.ylabel('Loss')\n",
        "plt.title('Train/Validation Loss')\n",
        "plt.xticks(torch.arange(0, 21, 1))\n",
        "plt.legend('')\n",
        "plt.show()"
      ],
      "metadata": {
        "colab": {
          "base_uri": "https://localhost:8080/",
          "height": 295
        },
        "id": "2Ga9RIbZF13w",
        "outputId": "901e427a-e4eb-4c3e-c405-4ed5818cdad7"
      },
      "execution_count": 33,
      "outputs": [
        {
          "output_type": "display_data",
          "data": {
            "image/png": "[encoded data removed]",
            "text/plain": [
              "<Figure size 432x288 with 1 Axes>"
            ]
          },
          "metadata": {
            "needs_background": "light"
          }
        }
      ]
    },
    {
      "cell_type": "markdown",
      "source": [
        "## Inference"
      ],
      "metadata": {
        "id": "SpP6ubTIfsiS"
      }
    },
    {
      "cell_type": "code",
      "source": [
        "images, labels = iter(test_loader).next()"
      ],
      "metadata": {
        "id": "YndBVzpyGrHe"
      },
      "execution_count": 36,
      "outputs": []
    },
    {
      "cell_type": "code",
      "source": [
        "plt.imshow(images[0].view(28, 28))"
      ],
      "metadata": {
        "colab": {
          "base_uri": "https://localhost:8080/",
          "height": 282
        },
        "id": "R7jF8WlHgBv6",
        "outputId": "ff21bd8c-8f6b-4400-faab-1d0ae67a6acc"
      },
      "execution_count": 37,
      "outputs": [
        {
          "output_type": "execute_result",
          "data": {
            "text/plain": [
              "<matplotlib.image.AxesImage at 0x7f11626eef50>"
            ]
          },
          "metadata": {},
          "execution_count": 37
        },
        {
          "output_type": "display_data",
          "data": {
            "image/png": "[encoded data removed]",
            "text/plain": [
              "<Figure size 432x288 with 1 Axes>"
            ]
          },
          "metadata": {
            "needs_background": "light"
          }
        }
      ]
    },
    {
      "cell_type": "code",
      "source": [
        "classes[labels[0].item()]"
      ],
      "metadata": {
        "colab": {
          "base_uri": "https://localhost:8080/",
          "height": 35
        },
        "id": "QUFIFun9gDrC",
        "outputId": "91c38faa-3781-4f28-c7ba-854e90f828b3"
      },
      "execution_count": 39,
      "outputs": [
        {
          "output_type": "execute_result",
          "data": {
            "application/vnd.google.colaboratory.intrinsic+json": {
              "type": "string"
            },
            "text/plain": [
              "'Sneaker'"
            ]
          },
          "metadata": {},
          "execution_count": 39
        }
      ]
    },
    {
      "cell_type": "code",
      "source": [
        "images, labels = images.to(device), labels.to(device)"
      ],
      "metadata": {
        "id": "snuK7zdCfvyC"
      },
      "execution_count": 40,
      "outputs": []
    },
    {
      "cell_type": "code",
      "source": [
        "print(images[0].shape)\n",
        "print(images[0].unsqueeze(0).shape)"
      ],
      "metadata": {
        "colab": {
          "base_uri": "https://localhost:8080/"
        },
        "id": "YG-VhH5-gMPf",
        "outputId": "22ee3aaf-5470-4b7c-95de-01f4cc6a00b0"
      },
      "execution_count": 42,
      "outputs": [
        {
          "output_type": "stream",
          "name": "stdout",
          "text": [
            "torch.Size([1, 28, 28])\n",
            "torch.Size([1, 1, 28, 28])\n"
          ]
        }
      ]
    },
    {
      "cell_type": "code",
      "source": [
        "classes[net(images[0].unsqueeze(0)).max(dim=1)[1].item()]"
      ],
      "metadata": {
        "colab": {
          "base_uri": "https://localhost:8080/",
          "height": 35
        },
        "id": "aC_nvhN0f0L2",
        "outputId": "204331db-4501-4efe-c291-7b70113c7dd4"
      },
      "execution_count": 47,
      "outputs": [
        {
          "output_type": "execute_result",
          "data": {
            "application/vnd.google.colaboratory.intrinsic+json": {
              "type": "string"
            },
            "text/plain": [
              "'Sneaker'"
            ]
          },
          "metadata": {},
          "execution_count": 47
        }
      ]
    }
  ]
}