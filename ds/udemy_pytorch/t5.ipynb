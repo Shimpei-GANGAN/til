{
  "nbformat": 4,
  "nbformat_minor": 0,
  "metadata": {
    "colab": {
      "name": "t5.ipynb",
      "provenance": []
    },
    "kernelspec": {
      "name": "python3",
      "display_name": "Python 3"
    },
    "language_info": {
      "name": "python"
    },
    "accelerator": "GPU",
    "widgets": {
      "application/vnd.jupyter.widget-state+json": {
        "f085c8ec42e0492cb92143fc348e1347": {
          "model_module": "@jupyter-widgets/controls",
          "model_name": "HBoxModel",
          "model_module_version": "1.5.0",
          "state": {
            "_view_name": "HBoxView",
            "_dom_classes": [],
            "_model_name": "HBoxModel",
            "_view_module": "@jupyter-widgets/controls",
            "_model_module_version": "1.5.0",
            "_view_count": null,
            "_view_module_version": "1.5.0",
            "box_style": "",
            "layout": "IPY_MODEL_90df81b3e68740979069f265f14bdddd",
            "_model_module": "@jupyter-widgets/controls",
            "children": [
              "IPY_MODEL_577aacf74b0a41b98df7a59e7044a5f6",
              "IPY_MODEL_c0bb2deec2eb4f449b83824892ff18a7",
              "IPY_MODEL_491fb02b47624c1aa6ec1a0878148903"
            ]
          }
        },
        "90df81b3e68740979069f265f14bdddd": {
          "model_module": "@jupyter-widgets/base",
          "model_name": "LayoutModel",
          "model_module_version": "1.2.0",
          "state": {
            "_view_name": "LayoutView",
            "grid_template_rows": null,
            "right": null,
            "justify_content": null,
            "_view_module": "@jupyter-widgets/base",
            "overflow": null,
            "_model_module_version": "1.2.0",
            "_view_count": null,
            "flex_flow": null,
            "width": null,
            "min_width": null,
            "border": null,
            "align_items": null,
            "bottom": null,
            "_model_module": "@jupyter-widgets/base",
            "top": null,
            "grid_column": null,
            "overflow_y": null,
            "overflow_x": null,
            "grid_auto_flow": null,
            "grid_area": null,
            "grid_template_columns": null,
            "flex": null,
            "_model_name": "LayoutModel",
            "justify_items": null,
            "grid_row": null,
            "max_height": null,
            "align_content": null,
            "visibility": null,
            "align_self": null,
            "height": null,
            "min_height": null,
            "padding": null,
            "grid_auto_rows": null,
            "grid_gap": null,
            "max_width": null,
            "order": null,
            "_view_module_version": "1.2.0",
            "grid_template_areas": null,
            "object_position": null,
            "object_fit": null,
            "grid_auto_columns": null,
            "margin": null,
            "display": null,
            "left": null
          }
        },
        "577aacf74b0a41b98df7a59e7044a5f6": {
          "model_module": "@jupyter-widgets/controls",
          "model_name": "HTMLModel",
          "model_module_version": "1.5.0",
          "state": {
            "_view_name": "HTMLView",
            "style": "IPY_MODEL_8376abd4e58544e2a73cb26202b153ec",
            "_dom_classes": [],
            "description": "",
            "_model_name": "HTMLModel",
            "placeholder": "​",
            "_view_module": "@jupyter-widgets/controls",
            "_model_module_version": "1.5.0",
            "value": "Downloading: 100%",
            "_view_count": null,
            "_view_module_version": "1.5.0",
            "description_tooltip": null,
            "_model_module": "@jupyter-widgets/controls",
            "layout": "IPY_MODEL_28d1a07f315d4517bfa0ee8f354494e9"
          }
        },
        "c0bb2deec2eb4f449b83824892ff18a7": {
          "model_module": "@jupyter-widgets/controls",
          "model_name": "FloatProgressModel",
          "model_module_version": "1.5.0",
          "state": {
            "_view_name": "ProgressView",
            "style": "IPY_MODEL_3e247a42faee4cab8b6e2aafaf331865",
            "_dom_classes": [],
            "description": "",
            "_model_name": "FloatProgressModel",
            "bar_style": "success",
            "max": 242065649,
            "_view_module": "@jupyter-widgets/controls",
            "_model_module_version": "1.5.0",
            "value": 242065649,
            "_view_count": null,
            "_view_module_version": "1.5.0",
            "orientation": "horizontal",
            "min": 0,
            "description_tooltip": null,
            "_model_module": "@jupyter-widgets/controls",
            "layout": "IPY_MODEL_5ae499f8e2634ace9d7c6f9c4dd6c0af"
          }
        },
        "491fb02b47624c1aa6ec1a0878148903": {
          "model_module": "@jupyter-widgets/controls",
          "model_name": "HTMLModel",
          "model_module_version": "1.5.0",
          "state": {
            "_view_name": "HTMLView",
            "style": "IPY_MODEL_69ea16c879c142b199d46d844ff92b61",
            "_dom_classes": [],
            "description": "",
            "_model_name": "HTMLModel",
            "placeholder": "​",
            "_view_module": "@jupyter-widgets/controls",
            "_model_module_version": "1.5.0",
            "value": " 231M/231M [00:04&lt;00:00, 61.2MB/s]",
            "_view_count": null,
            "_view_module_version": "1.5.0",
            "description_tooltip": null,
            "_model_module": "@jupyter-widgets/controls",
            "layout": "IPY_MODEL_b8dade1caf574eed868def4e3f3138ca"
          }
        },
        "8376abd4e58544e2a73cb26202b153ec": {
          "model_module": "@jupyter-widgets/controls",
          "model_name": "DescriptionStyleModel",
          "model_module_version": "1.5.0",
          "state": {
            "_view_name": "StyleView",
            "_model_name": "DescriptionStyleModel",
            "description_width": "",
            "_view_module": "@jupyter-widgets/base",
            "_model_module_version": "1.5.0",
            "_view_count": null,
            "_view_module_version": "1.2.0",
            "_model_module": "@jupyter-widgets/controls"
          }
        },
        "28d1a07f315d4517bfa0ee8f354494e9": {
          "model_module": "@jupyter-widgets/base",
          "model_name": "LayoutModel",
          "model_module_version": "1.2.0",
          "state": {
            "_view_name": "LayoutView",
            "grid_template_rows": null,
            "right": null,
            "justify_content": null,
            "_view_module": "@jupyter-widgets/base",
            "overflow": null,
            "_model_module_version": "1.2.0",
            "_view_count": null,
            "flex_flow": null,
            "width": null,
            "min_width": null,
            "border": null,
            "align_items": null,
            "bottom": null,
            "_model_module": "@jupyter-widgets/base",
            "top": null,
            "grid_column": null,
            "overflow_y": null,
            "overflow_x": null,
            "grid_auto_flow": null,
            "grid_area": null,
            "grid_template_columns": null,
            "flex": null,
            "_model_name": "LayoutModel",
            "justify_items": null,
            "grid_row": null,
            "max_height": null,
            "align_content": null,
            "visibility": null,
            "align_self": null,
            "height": null,
            "min_height": null,
            "padding": null,
            "grid_auto_rows": null,
            "grid_gap": null,
            "max_width": null,
            "order": null,
            "_view_module_version": "1.2.0",
            "grid_template_areas": null,
            "object_position": null,
            "object_fit": null,
            "grid_auto_columns": null,
            "margin": null,
            "display": null,
            "left": null
          }
        },
        "3e247a42faee4cab8b6e2aafaf331865": {
          "model_module": "@jupyter-widgets/controls",
          "model_name": "ProgressStyleModel",
          "model_module_version": "1.5.0",
          "state": {
            "_view_name": "StyleView",
            "_model_name": "ProgressStyleModel",
            "description_width": "",
            "_view_module": "@jupyter-widgets/base",
            "_model_module_version": "1.5.0",
            "_view_count": null,
            "_view_module_version": "1.2.0",
            "bar_color": null,
            "_model_module": "@jupyter-widgets/controls"
          }
        },
        "5ae499f8e2634ace9d7c6f9c4dd6c0af": {
          "model_module": "@jupyter-widgets/base",
          "model_name": "LayoutModel",
          "model_module_version": "1.2.0",
          "state": {
            "_view_name": "LayoutView",
            "grid_template_rows": null,
            "right": null,
            "justify_content": null,
            "_view_module": "@jupyter-widgets/base",
            "overflow": null,
            "_model_module_version": "1.2.0",
            "_view_count": null,
            "flex_flow": null,
            "width": null,
            "min_width": null,
            "border": null,
            "align_items": null,
            "bottom": null,
            "_model_module": "@jupyter-widgets/base",
            "top": null,
            "grid_column": null,
            "overflow_y": null,
            "overflow_x": null,
            "grid_auto_flow": null,
            "grid_area": null,
            "grid_template_columns": null,
            "flex": null,
            "_model_name": "LayoutModel",
            "justify_items": null,
            "grid_row": null,
            "max_height": null,
            "align_content": null,
            "visibility": null,
            "align_self": null,
            "height": null,
            "min_height": null,
            "padding": null,
            "grid_auto_rows": null,
            "grid_gap": null,
            "max_width": null,
            "order": null,
            "_view_module_version": "1.2.0",
            "grid_template_areas": null,
            "object_position": null,
            "object_fit": null,
            "grid_auto_columns": null,
            "margin": null,
            "display": null,
            "left": null
          }
        },
        "69ea16c879c142b199d46d844ff92b61": {
          "model_module": "@jupyter-widgets/controls",
          "model_name": "DescriptionStyleModel",
          "model_module_version": "1.5.0",
          "state": {
            "_view_name": "StyleView",
            "_model_name": "DescriptionStyleModel",
            "description_width": "",
            "_view_module": "@jupyter-widgets/base",
            "_model_module_version": "1.5.0",
            "_view_count": null,
            "_view_module_version": "1.2.0",
            "_model_module": "@jupyter-widgets/controls"
          }
        },
        "b8dade1caf574eed868def4e3f3138ca": {
          "model_module": "@jupyter-widgets/base",
          "model_name": "LayoutModel",
          "model_module_version": "1.2.0",
          "state": {
            "_view_name": "LayoutView",
            "grid_template_rows": null,
            "right": null,
            "justify_content": null,
            "_view_module": "@jupyter-widgets/base",
            "overflow": null,
            "_model_module_version": "1.2.0",
            "_view_count": null,
            "flex_flow": null,
            "width": null,
            "min_width": null,
            "border": null,
            "align_items": null,
            "bottom": null,
            "_model_module": "@jupyter-widgets/base",
            "top": null,
            "grid_column": null,
            "overflow_y": null,
            "overflow_x": null,
            "grid_auto_flow": null,
            "grid_area": null,
            "grid_template_columns": null,
            "flex": null,
            "_model_name": "LayoutModel",
            "justify_items": null,
            "grid_row": null,
            "max_height": null,
            "align_content": null,
            "visibility": null,
            "align_self": null,
            "height": null,
            "min_height": null,
            "padding": null,
            "grid_auto_rows": null,
            "grid_gap": null,
            "max_width": null,
            "order": null,
            "_view_module_version": "1.2.0",
            "grid_template_areas": null,
            "object_position": null,
            "object_fit": null,
            "grid_auto_columns": null,
            "margin": null,
            "display": null,
            "left": null
          }
        },
        "6025af2c6c5a4277a90403a76da483e9": {
          "model_module": "@jupyter-widgets/controls",
          "model_name": "VBoxModel",
          "model_module_version": "1.5.0",
          "state": {
            "_view_name": "VBoxView",
            "_dom_classes": [],
            "_model_name": "VBoxModel",
            "_view_module": "@jupyter-widgets/controls",
            "_model_module_version": "1.5.0",
            "_view_count": null,
            "_view_module_version": "1.5.0",
            "box_style": "",
            "layout": "IPY_MODEL_4ac1bdda00c8428e8929f5d49e904257",
            "_model_module": "@jupyter-widgets/controls",
            "children": [
              "IPY_MODEL_252a840c906444e7a2f46a859685d1fb",
              "IPY_MODEL_a576685209fe46b1a7ecff7b93626dd4"
            ]
          }
        },
        "4ac1bdda00c8428e8929f5d49e904257": {
          "model_module": "@jupyter-widgets/base",
          "model_name": "LayoutModel",
          "model_module_version": "1.2.0",
          "state": {
            "_view_name": "LayoutView",
            "grid_template_rows": null,
            "right": null,
            "justify_content": null,
            "_view_module": "@jupyter-widgets/base",
            "overflow": null,
            "_model_module_version": "1.2.0",
            "_view_count": null,
            "flex_flow": null,
            "width": null,
            "min_width": null,
            "border": null,
            "align_items": null,
            "bottom": null,
            "_model_module": "@jupyter-widgets/base",
            "top": null,
            "grid_column": null,
            "overflow_y": null,
            "overflow_x": null,
            "grid_auto_flow": null,
            "grid_area": null,
            "grid_template_columns": null,
            "flex": null,
            "_model_name": "LayoutModel",
            "justify_items": null,
            "grid_row": null,
            "max_height": null,
            "align_content": null,
            "visibility": null,
            "align_self": null,
            "height": null,
            "min_height": null,
            "padding": null,
            "grid_auto_rows": null,
            "grid_gap": null,
            "max_width": null,
            "order": null,
            "_view_module_version": "1.2.0",
            "grid_template_areas": null,
            "object_position": null,
            "object_fit": null,
            "grid_auto_columns": null,
            "margin": null,
            "display": null,
            "left": null
          }
        },
        "252a840c906444e7a2f46a859685d1fb": {
          "model_module": "@jupyter-widgets/controls",
          "model_name": "LabelModel",
          "model_module_version": "1.5.0",
          "state": {
            "_view_name": "LabelView",
            "style": "IPY_MODEL_956d3e825b764f9a95902f71a246f523",
            "_dom_classes": [],
            "description": "",
            "_model_name": "LabelModel",
            "placeholder": "​",
            "_view_module": "@jupyter-widgets/controls",
            "_model_module_version": "1.5.0",
            "value": " 0.23MB of 0.23MB uploaded (0.00MB deduped)\r",
            "_view_count": null,
            "_view_module_version": "1.5.0",
            "description_tooltip": null,
            "_model_module": "@jupyter-widgets/controls",
            "layout": "IPY_MODEL_1b549d8229c745958e54415e32556879"
          }
        },
        "a576685209fe46b1a7ecff7b93626dd4": {
          "model_module": "@jupyter-widgets/controls",
          "model_name": "FloatProgressModel",
          "model_module_version": "1.5.0",
          "state": {
            "_view_name": "ProgressView",
            "style": "IPY_MODEL_30809671a0b74842bc476617dc94ef74",
            "_dom_classes": [],
            "description": "",
            "_model_name": "FloatProgressModel",
            "bar_style": "",
            "max": 1,
            "_view_module": "@jupyter-widgets/controls",
            "_model_module_version": "1.5.0",
            "value": 1,
            "_view_count": null,
            "_view_module_version": "1.5.0",
            "orientation": "horizontal",
            "min": 0,
            "description_tooltip": null,
            "_model_module": "@jupyter-widgets/controls",
            "layout": "IPY_MODEL_8a524844b3914b90af7025c703176ce6"
          }
        },
        "956d3e825b764f9a95902f71a246f523": {
          "model_module": "@jupyter-widgets/controls",
          "model_name": "DescriptionStyleModel",
          "model_module_version": "1.5.0",
          "state": {
            "_view_name": "StyleView",
            "_model_name": "DescriptionStyleModel",
            "description_width": "",
            "_view_module": "@jupyter-widgets/base",
            "_model_module_version": "1.5.0",
            "_view_count": null,
            "_view_module_version": "1.2.0",
            "_model_module": "@jupyter-widgets/controls"
          }
        },
        "1b549d8229c745958e54415e32556879": {
          "model_module": "@jupyter-widgets/base",
          "model_name": "LayoutModel",
          "model_module_version": "1.2.0",
          "state": {
            "_view_name": "LayoutView",
            "grid_template_rows": null,
            "right": null,
            "justify_content": null,
            "_view_module": "@jupyter-widgets/base",
            "overflow": null,
            "_model_module_version": "1.2.0",
            "_view_count": null,
            "flex_flow": null,
            "width": null,
            "min_width": null,
            "border": null,
            "align_items": null,
            "bottom": null,
            "_model_module": "@jupyter-widgets/base",
            "top": null,
            "grid_column": null,
            "overflow_y": null,
            "overflow_x": null,
            "grid_auto_flow": null,
            "grid_area": null,
            "grid_template_columns": null,
            "flex": null,
            "_model_name": "LayoutModel",
            "justify_items": null,
            "grid_row": null,
            "max_height": null,
            "align_content": null,
            "visibility": null,
            "align_self": null,
            "height": null,
            "min_height": null,
            "padding": null,
            "grid_auto_rows": null,
            "grid_gap": null,
            "max_width": null,
            "order": null,
            "_view_module_version": "1.2.0",
            "grid_template_areas": null,
            "object_position": null,
            "object_fit": null,
            "grid_auto_columns": null,
            "margin": null,
            "display": null,
            "left": null
          }
        },
        "30809671a0b74842bc476617dc94ef74": {
          "model_module": "@jupyter-widgets/controls",
          "model_name": "ProgressStyleModel",
          "model_module_version": "1.5.0",
          "state": {
            "_view_name": "StyleView",
            "_model_name": "ProgressStyleModel",
            "description_width": "",
            "_view_module": "@jupyter-widgets/base",
            "_model_module_version": "1.5.0",
            "_view_count": null,
            "_view_module_version": "1.2.0",
            "bar_color": null,
            "_model_module": "@jupyter-widgets/controls"
          }
        },
        "8a524844b3914b90af7025c703176ce6": {
          "model_module": "@jupyter-widgets/base",
          "model_name": "LayoutModel",
          "model_module_version": "1.2.0",
          "state": {
            "_view_name": "LayoutView",
            "grid_template_rows": null,
            "right": null,
            "justify_content": null,
            "_view_module": "@jupyter-widgets/base",
            "overflow": null,
            "_model_module_version": "1.2.0",
            "_view_count": null,
            "flex_flow": null,
            "width": null,
            "min_width": null,
            "border": null,
            "align_items": null,
            "bottom": null,
            "_model_module": "@jupyter-widgets/base",
            "top": null,
            "grid_column": null,
            "overflow_y": null,
            "overflow_x": null,
            "grid_auto_flow": null,
            "grid_area": null,
            "grid_template_columns": null,
            "flex": null,
            "_model_name": "LayoutModel",
            "justify_items": null,
            "grid_row": null,
            "max_height": null,
            "align_content": null,
            "visibility": null,
            "align_self": null,
            "height": null,
            "min_height": null,
            "padding": null,
            "grid_auto_rows": null,
            "grid_gap": null,
            "max_width": null,
            "order": null,
            "_view_module_version": "1.2.0",
            "grid_template_areas": null,
            "object_position": null,
            "object_fit": null,
            "grid_auto_columns": null,
            "margin": null,
            "display": null,
            "left": null
          }
        }
      }
    }
  },
  "cells": [
    {
      "cell_type": "code",
      "execution_count": 4,
      "metadata": {
        "colab": {
          "base_uri": "https://localhost:8080/"
        },
        "id": "gYjTceCrGQzg",
        "outputId": "97d7f08a-04e4-4936-b25b-3d53058baa86"
      },
      "outputs": [
        {
          "output_type": "stream",
          "name": "stdout",
          "text": [
            "Collecting transformers\n",
            "  Downloading transformers-4.15.0-py3-none-any.whl (3.4 MB)\n",
            "\u001b[?25l\r\u001b[K     |                                | 10 kB 42.2 MB/s eta 0:00:01\r\u001b[K     |▏                               | 20 kB 44.7 MB/s eta 0:00:01\r\u001b[K     |▎                               | 30 kB 23.8 MB/s eta 0:00:01\r\u001b[K     |▍                               | 40 kB 19.4 MB/s eta 0:00:01\r\u001b[K     |▌                               | 51 kB 16.6 MB/s eta 0:00:01\r\u001b[K     |▋                               | 61 kB 14.0 MB/s eta 0:00:01\r\u001b[K     |▊                               | 71 kB 13.8 MB/s eta 0:00:01\r\u001b[K     |▉                               | 81 kB 15.3 MB/s eta 0:00:01\r\u001b[K     |▉                               | 92 kB 15.8 MB/s eta 0:00:01\r\u001b[K     |█                               | 102 kB 13.1 MB/s eta 0:00:01\r\u001b[K     |█                               | 112 kB 13.1 MB/s eta 0:00:01\r\u001b[K     |█▏                              | 122 kB 13.1 MB/s eta 0:00:01\r\u001b[K     |█▎                              | 133 kB 13.1 MB/s eta 0:00:01\r\u001b[K     |█▍                              | 143 kB 13.1 MB/s eta 0:00:01\r\u001b[K     |█▌                              | 153 kB 13.1 MB/s eta 0:00:01\r\u001b[K     |█▋                              | 163 kB 13.1 MB/s eta 0:00:01\r\u001b[K     |█▋                              | 174 kB 13.1 MB/s eta 0:00:01\r\u001b[K     |█▊                              | 184 kB 13.1 MB/s eta 0:00:01\r\u001b[K     |█▉                              | 194 kB 13.1 MB/s eta 0:00:01\r\u001b[K     |██                              | 204 kB 13.1 MB/s eta 0:00:01\r\u001b[K     |██                              | 215 kB 13.1 MB/s eta 0:00:01\r\u001b[K     |██▏                             | 225 kB 13.1 MB/s eta 0:00:01\r\u001b[K     |██▎                             | 235 kB 13.1 MB/s eta 0:00:01\r\u001b[K     |██▍                             | 245 kB 13.1 MB/s eta 0:00:01\r\u001b[K     |██▍                             | 256 kB 13.1 MB/s eta 0:00:01\r\u001b[K     |██▌                             | 266 kB 13.1 MB/s eta 0:00:01\r\u001b[K     |██▋                             | 276 kB 13.1 MB/s eta 0:00:01\r\u001b[K     |██▊                             | 286 kB 13.1 MB/s eta 0:00:01\r\u001b[K     |██▉                             | 296 kB 13.1 MB/s eta 0:00:01\r\u001b[K     |███                             | 307 kB 13.1 MB/s eta 0:00:01\r\u001b[K     |███                             | 317 kB 13.1 MB/s eta 0:00:01\r\u001b[K     |███▏                            | 327 kB 13.1 MB/s eta 0:00:01\r\u001b[K     |███▎                            | 337 kB 13.1 MB/s eta 0:00:01\r\u001b[K     |███▎                            | 348 kB 13.1 MB/s eta 0:00:01\r\u001b[K     |███▍                            | 358 kB 13.1 MB/s eta 0:00:01\r\u001b[K     |███▌                            | 368 kB 13.1 MB/s eta 0:00:01\r\u001b[K     |███▋                            | 378 kB 13.1 MB/s eta 0:00:01\r\u001b[K     |███▊                            | 389 kB 13.1 MB/s eta 0:00:01\r\u001b[K     |███▉                            | 399 kB 13.1 MB/s eta 0:00:01\r\u001b[K     |████                            | 409 kB 13.1 MB/s eta 0:00:01\r\u001b[K     |████                            | 419 kB 13.1 MB/s eta 0:00:01\r\u001b[K     |████                            | 430 kB 13.1 MB/s eta 0:00:01\r\u001b[K     |████▏                           | 440 kB 13.1 MB/s eta 0:00:01\r\u001b[K     |████▎                           | 450 kB 13.1 MB/s eta 0:00:01\r\u001b[K     |████▍                           | 460 kB 13.1 MB/s eta 0:00:01\r\u001b[K     |████▌                           | 471 kB 13.1 MB/s eta 0:00:01\r\u001b[K     |████▋                           | 481 kB 13.1 MB/s eta 0:00:01\r\u001b[K     |████▊                           | 491 kB 13.1 MB/s eta 0:00:01\r\u001b[K     |████▉                           | 501 kB 13.1 MB/s eta 0:00:01\r\u001b[K     |████▉                           | 512 kB 13.1 MB/s eta 0:00:01\r\u001b[K     |█████                           | 522 kB 13.1 MB/s eta 0:00:01\r\u001b[K     |█████                           | 532 kB 13.1 MB/s eta 0:00:01\r\u001b[K     |█████▏                          | 542 kB 13.1 MB/s eta 0:00:01\r\u001b[K     |█████▎                          | 552 kB 13.1 MB/s eta 0:00:01\r\u001b[K     |█████▍                          | 563 kB 13.1 MB/s eta 0:00:01\r\u001b[K     |█████▌                          | 573 kB 13.1 MB/s eta 0:00:01\r\u001b[K     |█████▋                          | 583 kB 13.1 MB/s eta 0:00:01\r\u001b[K     |█████▋                          | 593 kB 13.1 MB/s eta 0:00:01\r\u001b[K     |█████▊                          | 604 kB 13.1 MB/s eta 0:00:01\r\u001b[K     |█████▉                          | 614 kB 13.1 MB/s eta 0:00:01\r\u001b[K     |██████                          | 624 kB 13.1 MB/s eta 0:00:01\r\u001b[K     |██████                          | 634 kB 13.1 MB/s eta 0:00:01\r\u001b[K     |██████▏                         | 645 kB 13.1 MB/s eta 0:00:01\r\u001b[K     |██████▎                         | 655 kB 13.1 MB/s eta 0:00:01\r\u001b[K     |██████▍                         | 665 kB 13.1 MB/s eta 0:00:01\r\u001b[K     |██████▌                         | 675 kB 13.1 MB/s eta 0:00:01\r\u001b[K     |██████▌                         | 686 kB 13.1 MB/s eta 0:00:01\r\u001b[K     |██████▋                         | 696 kB 13.1 MB/s eta 0:00:01\r\u001b[K     |██████▊                         | 706 kB 13.1 MB/s eta 0:00:01\r\u001b[K     |██████▉                         | 716 kB 13.1 MB/s eta 0:00:01\r\u001b[K     |███████                         | 727 kB 13.1 MB/s eta 0:00:01\r\u001b[K     |███████                         | 737 kB 13.1 MB/s eta 0:00:01\r\u001b[K     |███████▏                        | 747 kB 13.1 MB/s eta 0:00:01\r\u001b[K     |███████▎                        | 757 kB 13.1 MB/s eta 0:00:01\r\u001b[K     |███████▎                        | 768 kB 13.1 MB/s eta 0:00:01\r\u001b[K     |███████▍                        | 778 kB 13.1 MB/s eta 0:00:01\r\u001b[K     |███████▌                        | 788 kB 13.1 MB/s eta 0:00:01\r\u001b[K     |███████▋                        | 798 kB 13.1 MB/s eta 0:00:01\r\u001b[K     |███████▊                        | 808 kB 13.1 MB/s eta 0:00:01\r\u001b[K     |███████▉                        | 819 kB 13.1 MB/s eta 0:00:01\r\u001b[K     |████████                        | 829 kB 13.1 MB/s eta 0:00:01\r\u001b[K     |████████                        | 839 kB 13.1 MB/s eta 0:00:01\r\u001b[K     |████████                        | 849 kB 13.1 MB/s eta 0:00:01\r\u001b[K     |████████▏                       | 860 kB 13.1 MB/s eta 0:00:01\r\u001b[K     |████████▎                       | 870 kB 13.1 MB/s eta 0:00:01\r\u001b[K     |████████▍                       | 880 kB 13.1 MB/s eta 0:00:01\r\u001b[K     |████████▌                       | 890 kB 13.1 MB/s eta 0:00:01\r\u001b[K     |████████▋                       | 901 kB 13.1 MB/s eta 0:00:01\r\u001b[K     |████████▊                       | 911 kB 13.1 MB/s eta 0:00:01\r\u001b[K     |████████▉                       | 921 kB 13.1 MB/s eta 0:00:01\r\u001b[K     |████████▉                       | 931 kB 13.1 MB/s eta 0:00:01\r\u001b[K     |█████████                       | 942 kB 13.1 MB/s eta 0:00:01\r\u001b[K     |█████████                       | 952 kB 13.1 MB/s eta 0:00:01\r\u001b[K     |█████████▏                      | 962 kB 13.1 MB/s eta 0:00:01\r\u001b[K     |█████████▎                      | 972 kB 13.1 MB/s eta 0:00:01\r\u001b[K     |█████████▍                      | 983 kB 13.1 MB/s eta 0:00:01\r\u001b[K     |█████████▌                      | 993 kB 13.1 MB/s eta 0:00:01\r\u001b[K     |█████████▋                      | 1.0 MB 13.1 MB/s eta 0:00:01\r\u001b[K     |█████████▊                      | 1.0 MB 13.1 MB/s eta 0:00:01\r\u001b[K     |█████████▊                      | 1.0 MB 13.1 MB/s eta 0:00:01\r\u001b[K     |█████████▉                      | 1.0 MB 13.1 MB/s eta 0:00:01\r\u001b[K     |██████████                      | 1.0 MB 13.1 MB/s eta 0:00:01\r\u001b[K     |██████████                      | 1.1 MB 13.1 MB/s eta 0:00:01\r\u001b[K     |██████████▏                     | 1.1 MB 13.1 MB/s eta 0:00:01\r\u001b[K     |██████████▎                     | 1.1 MB 13.1 MB/s eta 0:00:01\r\u001b[K     |██████████▍                     | 1.1 MB 13.1 MB/s eta 0:00:01\r\u001b[K     |██████████▌                     | 1.1 MB 13.1 MB/s eta 0:00:01\r\u001b[K     |██████████▌                     | 1.1 MB 13.1 MB/s eta 0:00:01\r\u001b[K     |██████████▋                     | 1.1 MB 13.1 MB/s eta 0:00:01\r\u001b[K     |██████████▊                     | 1.1 MB 13.1 MB/s eta 0:00:01\r\u001b[K     |██████████▉                     | 1.1 MB 13.1 MB/s eta 0:00:01\r\u001b[K     |███████████                     | 1.1 MB 13.1 MB/s eta 0:00:01\r\u001b[K     |███████████                     | 1.2 MB 13.1 MB/s eta 0:00:01\r\u001b[K     |███████████▏                    | 1.2 MB 13.1 MB/s eta 0:00:01\r\u001b[K     |███████████▎                    | 1.2 MB 13.1 MB/s eta 0:00:01\r\u001b[K     |███████████▎                    | 1.2 MB 13.1 MB/s eta 0:00:01\r\u001b[K     |███████████▍                    | 1.2 MB 13.1 MB/s eta 0:00:01\r\u001b[K     |███████████▌                    | 1.2 MB 13.1 MB/s eta 0:00:01\r\u001b[K     |███████████▋                    | 1.2 MB 13.1 MB/s eta 0:00:01\r\u001b[K     |███████████▊                    | 1.2 MB 13.1 MB/s eta 0:00:01\r\u001b[K     |███████████▉                    | 1.2 MB 13.1 MB/s eta 0:00:01\r\u001b[K     |████████████                    | 1.2 MB 13.1 MB/s eta 0:00:01\r\u001b[K     |████████████                    | 1.3 MB 13.1 MB/s eta 0:00:01\r\u001b[K     |████████████                    | 1.3 MB 13.1 MB/s eta 0:00:01\r\u001b[K     |████████████▏                   | 1.3 MB 13.1 MB/s eta 0:00:01\r\u001b[K     |████████████▎                   | 1.3 MB 13.1 MB/s eta 0:00:01\r\u001b[K     |████████████▍                   | 1.3 MB 13.1 MB/s eta 0:00:01\r\u001b[K     |████████████▌                   | 1.3 MB 13.1 MB/s eta 0:00:01\r\u001b[K     |████████████▋                   | 1.3 MB 13.1 MB/s eta 0:00:01\r\u001b[K     |████████████▊                   | 1.3 MB 13.1 MB/s eta 0:00:01\r\u001b[K     |████████████▉                   | 1.3 MB 13.1 MB/s eta 0:00:01\r\u001b[K     |█████████████                   | 1.4 MB 13.1 MB/s eta 0:00:01\r\u001b[K     |█████████████                   | 1.4 MB 13.1 MB/s eta 0:00:01\r\u001b[K     |█████████████                   | 1.4 MB 13.1 MB/s eta 0:00:01\r\u001b[K     |█████████████▏                  | 1.4 MB 13.1 MB/s eta 0:00:01\r\u001b[K     |█████████████▎                  | 1.4 MB 13.1 MB/s eta 0:00:01\r\u001b[K     |█████████████▍                  | 1.4 MB 13.1 MB/s eta 0:00:01\r\u001b[K     |█████████████▌                  | 1.4 MB 13.1 MB/s eta 0:00:01\r\u001b[K     |█████████████▋                  | 1.4 MB 13.1 MB/s eta 0:00:01\r\u001b[K     |█████████████▊                  | 1.4 MB 13.1 MB/s eta 0:00:01\r\u001b[K     |█████████████▊                  | 1.4 MB 13.1 MB/s eta 0:00:01\r\u001b[K     |█████████████▉                  | 1.5 MB 13.1 MB/s eta 0:00:01\r\u001b[K     |██████████████                  | 1.5 MB 13.1 MB/s eta 0:00:01\r\u001b[K     |██████████████                  | 1.5 MB 13.1 MB/s eta 0:00:01\r\u001b[K     |██████████████▏                 | 1.5 MB 13.1 MB/s eta 0:00:01\r\u001b[K     |██████████████▎                 | 1.5 MB 13.1 MB/s eta 0:00:01\r\u001b[K     |██████████████▍                 | 1.5 MB 13.1 MB/s eta 0:00:01\r\u001b[K     |██████████████▌                 | 1.5 MB 13.1 MB/s eta 0:00:01\r\u001b[K     |██████████████▌                 | 1.5 MB 13.1 MB/s eta 0:00:01\r\u001b[K     |██████████████▋                 | 1.5 MB 13.1 MB/s eta 0:00:01\r\u001b[K     |██████████████▊                 | 1.5 MB 13.1 MB/s eta 0:00:01\r\u001b[K     |██████████████▉                 | 1.6 MB 13.1 MB/s eta 0:00:01\r\u001b[K     |███████████████                 | 1.6 MB 13.1 MB/s eta 0:00:01\r\u001b[K     |███████████████                 | 1.6 MB 13.1 MB/s eta 0:00:01\r\u001b[K     |███████████████▏                | 1.6 MB 13.1 MB/s eta 0:00:01\r\u001b[K     |███████████████▎                | 1.6 MB 13.1 MB/s eta 0:00:01\r\u001b[K     |███████████████▎                | 1.6 MB 13.1 MB/s eta 0:00:01\r\u001b[K     |███████████████▍                | 1.6 MB 13.1 MB/s eta 0:00:01\r\u001b[K     |███████████████▌                | 1.6 MB 13.1 MB/s eta 0:00:01\r\u001b[K     |███████████████▋                | 1.6 MB 13.1 MB/s eta 0:00:01\r\u001b[K     |███████████████▊                | 1.6 MB 13.1 MB/s eta 0:00:01\r\u001b[K     |███████████████▉                | 1.7 MB 13.1 MB/s eta 0:00:01\r\u001b[K     |████████████████                | 1.7 MB 13.1 MB/s eta 0:00:01\r\u001b[K     |████████████████                | 1.7 MB 13.1 MB/s eta 0:00:01\r\u001b[K     |████████████████▏               | 1.7 MB 13.1 MB/s eta 0:00:01\r\u001b[K     |████████████████▏               | 1.7 MB 13.1 MB/s eta 0:00:01\r\u001b[K     |████████████████▎               | 1.7 MB 13.1 MB/s eta 0:00:01\r\u001b[K     |████████████████▍               | 1.7 MB 13.1 MB/s eta 0:00:01\r\u001b[K     |████████████████▌               | 1.7 MB 13.1 MB/s eta 0:00:01\r\u001b[K     |████████████████▋               | 1.7 MB 13.1 MB/s eta 0:00:01\r\u001b[K     |████████████████▊               | 1.8 MB 13.1 MB/s eta 0:00:01\r\u001b[K     |████████████████▉               | 1.8 MB 13.1 MB/s eta 0:00:01\r\u001b[K     |█████████████████               | 1.8 MB 13.1 MB/s eta 0:00:01\r\u001b[K     |█████████████████               | 1.8 MB 13.1 MB/s eta 0:00:01\r\u001b[K     |█████████████████               | 1.8 MB 13.1 MB/s eta 0:00:01\r\u001b[K     |█████████████████▏              | 1.8 MB 13.1 MB/s eta 0:00:01\r\u001b[K     |█████████████████▎              | 1.8 MB 13.1 MB/s eta 0:00:01\r\u001b[K     |█████████████████▍              | 1.8 MB 13.1 MB/s eta 0:00:01\r\u001b[K     |█████████████████▌              | 1.8 MB 13.1 MB/s eta 0:00:01\r\u001b[K     |█████████████████▋              | 1.8 MB 13.1 MB/s eta 0:00:01\r\u001b[K     |█████████████████▊              | 1.9 MB 13.1 MB/s eta 0:00:01\r\u001b[K     |█████████████████▊              | 1.9 MB 13.1 MB/s eta 0:00:01\r\u001b[K     |█████████████████▉              | 1.9 MB 13.1 MB/s eta 0:00:01\r\u001b[K     |██████████████████              | 1.9 MB 13.1 MB/s eta 0:00:01\r\u001b[K     |██████████████████              | 1.9 MB 13.1 MB/s eta 0:00:01\r\u001b[K     |██████████████████▏             | 1.9 MB 13.1 MB/s eta 0:00:01\r\u001b[K     |██████████████████▎             | 1.9 MB 13.1 MB/s eta 0:00:01\r\u001b[K     |██████████████████▍             | 1.9 MB 13.1 MB/s eta 0:00:01\r\u001b[K     |██████████████████▌             | 1.9 MB 13.1 MB/s eta 0:00:01\r\u001b[K     |██████████████████▌             | 1.9 MB 13.1 MB/s eta 0:00:01\r\u001b[K     |██████████████████▋             | 2.0 MB 13.1 MB/s eta 0:00:01\r\u001b[K     |██████████████████▊             | 2.0 MB 13.1 MB/s eta 0:00:01\r\u001b[K     |██████████████████▉             | 2.0 MB 13.1 MB/s eta 0:00:01\r\u001b[K     |███████████████████             | 2.0 MB 13.1 MB/s eta 0:00:01\r\u001b[K     |███████████████████             | 2.0 MB 13.1 MB/s eta 0:00:01\r\u001b[K     |███████████████████▏            | 2.0 MB 13.1 MB/s eta 0:00:01\r\u001b[K     |███████████████████▎            | 2.0 MB 13.1 MB/s eta 0:00:01\r\u001b[K     |███████████████████▍            | 2.0 MB 13.1 MB/s eta 0:00:01\r\u001b[K     |███████████████████▍            | 2.0 MB 13.1 MB/s eta 0:00:01\r\u001b[K     |███████████████████▌            | 2.0 MB 13.1 MB/s eta 0:00:01\r\u001b[K     |███████████████████▋            | 2.1 MB 13.1 MB/s eta 0:00:01\r\u001b[K     |███████████████████▊            | 2.1 MB 13.1 MB/s eta 0:00:01\r\u001b[K     |███████████████████▉            | 2.1 MB 13.1 MB/s eta 0:00:01\r\u001b[K     |████████████████████            | 2.1 MB 13.1 MB/s eta 0:00:01\r\u001b[K     |████████████████████            | 2.1 MB 13.1 MB/s eta 0:00:01\r\u001b[K     |████████████████████▏           | 2.1 MB 13.1 MB/s eta 0:00:01\r\u001b[K     |████████████████████▏           | 2.1 MB 13.1 MB/s eta 0:00:01\r\u001b[K     |████████████████████▎           | 2.1 MB 13.1 MB/s eta 0:00:01\r\u001b[K     |████████████████████▍           | 2.1 MB 13.1 MB/s eta 0:00:01\r\u001b[K     |████████████████████▌           | 2.2 MB 13.1 MB/s eta 0:00:01\r\u001b[K     |████████████████████▋           | 2.2 MB 13.1 MB/s eta 0:00:01\r\u001b[K     |████████████████████▊           | 2.2 MB 13.1 MB/s eta 0:00:01\r\u001b[K     |████████████████████▉           | 2.2 MB 13.1 MB/s eta 0:00:01\r\u001b[K     |█████████████████████           | 2.2 MB 13.1 MB/s eta 0:00:01\r\u001b[K     |█████████████████████           | 2.2 MB 13.1 MB/s eta 0:00:01\r\u001b[K     |█████████████████████           | 2.2 MB 13.1 MB/s eta 0:00:01\r\u001b[K     |█████████████████████▏          | 2.2 MB 13.1 MB/s eta 0:00:01\r\u001b[K     |█████████████████████▎          | 2.2 MB 13.1 MB/s eta 0:00:01\r\u001b[K     |█████████████████████▍          | 2.2 MB 13.1 MB/s eta 0:00:01\r\u001b[K     |█████████████████████▌          | 2.3 MB 13.1 MB/s eta 0:00:01\r\u001b[K     |█████████████████████▋          | 2.3 MB 13.1 MB/s eta 0:00:01\r\u001b[K     |█████████████████████▊          | 2.3 MB 13.1 MB/s eta 0:00:01\r\u001b[K     |█████████████████████▊          | 2.3 MB 13.1 MB/s eta 0:00:01\r\u001b[K     |█████████████████████▉          | 2.3 MB 13.1 MB/s eta 0:00:01\r\u001b[K     |██████████████████████          | 2.3 MB 13.1 MB/s eta 0:00:01\r\u001b[K     |██████████████████████          | 2.3 MB 13.1 MB/s eta 0:00:01\r\u001b[K     |██████████████████████▏         | 2.3 MB 13.1 MB/s eta 0:00:01\r\u001b[K     |██████████████████████▎         | 2.3 MB 13.1 MB/s eta 0:00:01\r\u001b[K     |██████████████████████▍         | 2.3 MB 13.1 MB/s eta 0:00:01\r\u001b[K     |██████████████████████▌         | 2.4 MB 13.1 MB/s eta 0:00:01\r\u001b[K     |██████████████████████▋         | 2.4 MB 13.1 MB/s eta 0:00:01\r\u001b[K     |██████████████████████▋         | 2.4 MB 13.1 MB/s eta 0:00:01\r\u001b[K     |██████████████████████▊         | 2.4 MB 13.1 MB/s eta 0:00:01\r\u001b[K     |██████████████████████▉         | 2.4 MB 13.1 MB/s eta 0:00:01\r\u001b[K     |███████████████████████         | 2.4 MB 13.1 MB/s eta 0:00:01\r\u001b[K     |███████████████████████         | 2.4 MB 13.1 MB/s eta 0:00:01\r\u001b[K     |███████████████████████▏        | 2.4 MB 13.1 MB/s eta 0:00:01\r\u001b[K     |███████████████████████▎        | 2.4 MB 13.1 MB/s eta 0:00:01\r\u001b[K     |███████████████████████▍        | 2.4 MB 13.1 MB/s eta 0:00:01\r\u001b[K     |███████████████████████▍        | 2.5 MB 13.1 MB/s eta 0:00:01\r\u001b[K     |███████████████████████▌        | 2.5 MB 13.1 MB/s eta 0:00:01\r\u001b[K     |███████████████████████▋        | 2.5 MB 13.1 MB/s eta 0:00:01\r\u001b[K     |███████████████████████▊        | 2.5 MB 13.1 MB/s eta 0:00:01\r\u001b[K     |███████████████████████▉        | 2.5 MB 13.1 MB/s eta 0:00:01\r\u001b[K     |████████████████████████        | 2.5 MB 13.1 MB/s eta 0:00:01\r\u001b[K     |████████████████████████        | 2.5 MB 13.1 MB/s eta 0:00:01\r\u001b[K     |████████████████████████▏       | 2.5 MB 13.1 MB/s eta 0:00:01\r\u001b[K     |████████████████████████▏       | 2.5 MB 13.1 MB/s eta 0:00:01\r\u001b[K     |████████████████████████▎       | 2.5 MB 13.1 MB/s eta 0:00:01\r\u001b[K     |████████████████████████▍       | 2.6 MB 13.1 MB/s eta 0:00:01\r\u001b[K     |████████████████████████▌       | 2.6 MB 13.1 MB/s eta 0:00:01\r\u001b[K     |████████████████████████▋       | 2.6 MB 13.1 MB/s eta 0:00:01\r\u001b[K     |████████████████████████▊       | 2.6 MB 13.1 MB/s eta 0:00:01\r\u001b[K     |████████████████████████▉       | 2.6 MB 13.1 MB/s eta 0:00:01\r\u001b[K     |█████████████████████████       | 2.6 MB 13.1 MB/s eta 0:00:01\r\u001b[K     |█████████████████████████       | 2.6 MB 13.1 MB/s eta 0:00:01\r\u001b[K     |█████████████████████████       | 2.6 MB 13.1 MB/s eta 0:00:01\r\u001b[K     |█████████████████████████▏      | 2.6 MB 13.1 MB/s eta 0:00:01\r\u001b[K     |█████████████████████████▎      | 2.7 MB 13.1 MB/s eta 0:00:01\r\u001b[K     |█████████████████████████▍      | 2.7 MB 13.1 MB/s eta 0:00:01\r\u001b[K     |█████████████████████████▌      | 2.7 MB 13.1 MB/s eta 0:00:01\r\u001b[K     |█████████████████████████▋      | 2.7 MB 13.1 MB/s eta 0:00:01\r\u001b[K     |█████████████████████████▊      | 2.7 MB 13.1 MB/s eta 0:00:01\r\u001b[K     |█████████████████████████▉      | 2.7 MB 13.1 MB/s eta 0:00:01\r\u001b[K     |█████████████████████████▉      | 2.7 MB 13.1 MB/s eta 0:00:01\r\u001b[K     |██████████████████████████      | 2.7 MB 13.1 MB/s eta 0:00:01\r\u001b[K     |██████████████████████████      | 2.7 MB 13.1 MB/s eta 0:00:01\r\u001b[K     |██████████████████████████▏     | 2.7 MB 13.1 MB/s eta 0:00:01\r\u001b[K     |██████████████████████████▎     | 2.8 MB 13.1 MB/s eta 0:00:01\r\u001b[K     |██████████████████████████▍     | 2.8 MB 13.1 MB/s eta 0:00:01\r\u001b[K     |██████████████████████████▌     | 2.8 MB 13.1 MB/s eta 0:00:01\r\u001b[K     |██████████████████████████▋     | 2.8 MB 13.1 MB/s eta 0:00:01\r\u001b[K     |██████████████████████████▋     | 2.8 MB 13.1 MB/s eta 0:00:01\r\u001b[K     |██████████████████████████▊     | 2.8 MB 13.1 MB/s eta 0:00:01\r\u001b[K     |██████████████████████████▉     | 2.8 MB 13.1 MB/s eta 0:00:01\r\u001b[K     |███████████████████████████     | 2.8 MB 13.1 MB/s eta 0:00:01\r\u001b[K     |███████████████████████████     | 2.8 MB 13.1 MB/s eta 0:00:01\r\u001b[K     |███████████████████████████▏    | 2.8 MB 13.1 MB/s eta 0:00:01\r\u001b[K     |███████████████████████████▎    | 2.9 MB 13.1 MB/s eta 0:00:01\r\u001b[K     |███████████████████████████▍    | 2.9 MB 13.1 MB/s eta 0:00:01\r\u001b[K     |███████████████████████████▍    | 2.9 MB 13.1 MB/s eta 0:00:01\r\u001b[K     |███████████████████████████▌    | 2.9 MB 13.1 MB/s eta 0:00:01\r\u001b[K     |███████████████████████████▋    | 2.9 MB 13.1 MB/s eta 0:00:01\r\u001b[K     |███████████████████████████▊    | 2.9 MB 13.1 MB/s eta 0:00:01\r\u001b[K     |███████████████████████████▉    | 2.9 MB 13.1 MB/s eta 0:00:01\r\u001b[K     |████████████████████████████    | 2.9 MB 13.1 MB/s eta 0:00:01\r\u001b[K     |████████████████████████████    | 2.9 MB 13.1 MB/s eta 0:00:01\r\u001b[K     |████████████████████████████▏   | 2.9 MB 13.1 MB/s eta 0:00:01\r\u001b[K     |████████████████████████████▏   | 3.0 MB 13.1 MB/s eta 0:00:01\r\u001b[K     |████████████████████████████▎   | 3.0 MB 13.1 MB/s eta 0:00:01\r\u001b[K     |████████████████████████████▍   | 3.0 MB 13.1 MB/s eta 0:00:01\r\u001b[K     |████████████████████████████▌   | 3.0 MB 13.1 MB/s eta 0:00:01\r\u001b[K     |████████████████████████████▋   | 3.0 MB 13.1 MB/s eta 0:00:01\r\u001b[K     |████████████████████████████▊   | 3.0 MB 13.1 MB/s eta 0:00:01\r\u001b[K     |████████████████████████████▉   | 3.0 MB 13.1 MB/s eta 0:00:01\r\u001b[K     |█████████████████████████████   | 3.0 MB 13.1 MB/s eta 0:00:01\r\u001b[K     |█████████████████████████████   | 3.0 MB 13.1 MB/s eta 0:00:01\r\u001b[K     |█████████████████████████████   | 3.1 MB 13.1 MB/s eta 0:00:01\r\u001b[K     |█████████████████████████████▏  | 3.1 MB 13.1 MB/s eta 0:00:01\r\u001b[K     |█████████████████████████████▎  | 3.1 MB 13.1 MB/s eta 0:00:01\r\u001b[K     |█████████████████████████████▍  | 3.1 MB 13.1 MB/s eta 0:00:01\r\u001b[K     |█████████████████████████████▌  | 3.1 MB 13.1 MB/s eta 0:00:01\r\u001b[K     |█████████████████████████████▋  | 3.1 MB 13.1 MB/s eta 0:00:01\r\u001b[K     |█████████████████████████████▊  | 3.1 MB 13.1 MB/s eta 0:00:01\r\u001b[K     |█████████████████████████████▉  | 3.1 MB 13.1 MB/s eta 0:00:01\r\u001b[K     |█████████████████████████████▉  | 3.1 MB 13.1 MB/s eta 0:00:01\r\u001b[K     |██████████████████████████████  | 3.1 MB 13.1 MB/s eta 0:00:01\r\u001b[K     |██████████████████████████████  | 3.2 MB 13.1 MB/s eta 0:00:01\r\u001b[K     |██████████████████████████████▏ | 3.2 MB 13.1 MB/s eta 0:00:01\r\u001b[K     |██████████████████████████████▎ | 3.2 MB 13.1 MB/s eta 0:00:01\r\u001b[K     |██████████████████████████████▍ | 3.2 MB 13.1 MB/s eta 0:00:01\r\u001b[K     |██████████████████████████████▌ | 3.2 MB 13.1 MB/s eta 0:00:01\r\u001b[K     |██████████████████████████████▋ | 3.2 MB 13.1 MB/s eta 0:00:01\r\u001b[K     |██████████████████████████████▋ | 3.2 MB 13.1 MB/s eta 0:00:01\r\u001b[K     |██████████████████████████████▊ | 3.2 MB 13.1 MB/s eta 0:00:01\r\u001b[K     |██████████████████████████████▉ | 3.2 MB 13.1 MB/s eta 0:00:01\r\u001b[K     |███████████████████████████████ | 3.2 MB 13.1 MB/s eta 0:00:01\r\u001b[K     |███████████████████████████████ | 3.3 MB 13.1 MB/s eta 0:00:01\r\u001b[K     |███████████████████████████████▏| 3.3 MB 13.1 MB/s eta 0:00:01\r\u001b[K     |███████████████████████████████▎| 3.3 MB 13.1 MB/s eta 0:00:01\r\u001b[K     |███████████████████████████████▍| 3.3 MB 13.1 MB/s eta 0:00:01\r\u001b[K     |███████████████████████████████▍| 3.3 MB 13.1 MB/s eta 0:00:01\r\u001b[K     |███████████████████████████████▌| 3.3 MB 13.1 MB/s eta 0:00:01\r\u001b[K     |███████████████████████████████▋| 3.3 MB 13.1 MB/s eta 0:00:01\r\u001b[K     |███████████████████████████████▊| 3.3 MB 13.1 MB/s eta 0:00:01\r\u001b[K     |███████████████████████████████▉| 3.3 MB 13.1 MB/s eta 0:00:01\r\u001b[K     |████████████████████████████████| 3.3 MB 13.1 MB/s eta 0:00:01\r\u001b[K     |████████████████████████████████| 3.4 MB 13.1 MB/s \n",
            "\u001b[?25hRequirement already satisfied: numpy>=1.17 in /usr/local/lib/python3.7/dist-packages (from transformers) (1.19.5)\n",
            "Requirement already satisfied: tqdm>=4.27 in /usr/local/lib/python3.7/dist-packages (from transformers) (4.62.3)\n",
            "Requirement already satisfied: regex!=2019.12.17 in /usr/local/lib/python3.7/dist-packages (from transformers) (2019.12.20)\n",
            "Requirement already satisfied: packaging>=20.0 in /usr/local/lib/python3.7/dist-packages (from transformers) (21.3)\n",
            "Collecting tokenizers<0.11,>=0.10.1\n",
            "  Downloading tokenizers-0.10.3-cp37-cp37m-manylinux_2_5_x86_64.manylinux1_x86_64.manylinux_2_12_x86_64.manylinux2010_x86_64.whl (3.3 MB)\n",
            "\u001b[K     |████████████████████████████████| 3.3 MB 56.5 MB/s \n",
            "\u001b[?25hRequirement already satisfied: importlib-metadata in /usr/local/lib/python3.7/dist-packages (from transformers) (4.10.0)\n",
            "Requirement already satisfied: filelock in /usr/local/lib/python3.7/dist-packages (from transformers) (3.4.2)\n",
            "Collecting huggingface-hub<1.0,>=0.1.0\n",
            "  Downloading huggingface_hub-0.4.0-py3-none-any.whl (67 kB)\n",
            "\u001b[K     |████████████████████████████████| 67 kB 6.5 MB/s \n",
            "\u001b[?25hRequirement already satisfied: requests in /usr/local/lib/python3.7/dist-packages (from transformers) (2.23.0)\n",
            "Collecting sacremoses\n",
            "  Downloading sacremoses-0.0.47-py2.py3-none-any.whl (895 kB)\n",
            "\u001b[K     |████████████████████████████████| 895 kB 63.3 MB/s \n",
            "\u001b[?25hCollecting pyyaml>=5.1\n",
            "  Downloading PyYAML-6.0-cp37-cp37m-manylinux_2_5_x86_64.manylinux1_x86_64.manylinux_2_12_x86_64.manylinux2010_x86_64.whl (596 kB)\n",
            "\u001b[K     |████████████████████████████████| 596 kB 71.3 MB/s \n",
            "\u001b[?25hRequirement already satisfied: typing-extensions>=3.7.4.3 in /usr/local/lib/python3.7/dist-packages (from huggingface-hub<1.0,>=0.1.0->transformers) (3.10.0.2)\n",
            "Requirement already satisfied: pyparsing!=3.0.5,>=2.0.2 in /usr/local/lib/python3.7/dist-packages (from packaging>=20.0->transformers) (3.0.6)\n",
            "Requirement already satisfied: zipp>=0.5 in /usr/local/lib/python3.7/dist-packages (from importlib-metadata->transformers) (3.7.0)\n",
            "Requirement already satisfied: idna<3,>=2.5 in /usr/local/lib/python3.7/dist-packages (from requests->transformers) (2.10)\n",
            "Requirement already satisfied: certifi>=2017.4.17 in /usr/local/lib/python3.7/dist-packages (from requests->transformers) (2021.10.8)\n",
            "Requirement already satisfied: urllib3!=1.25.0,!=1.25.1,<1.26,>=1.21.1 in /usr/local/lib/python3.7/dist-packages (from requests->transformers) (1.24.3)\n",
            "Requirement already satisfied: chardet<4,>=3.0.2 in /usr/local/lib/python3.7/dist-packages (from requests->transformers) (3.0.4)\n",
            "Requirement already satisfied: joblib in /usr/local/lib/python3.7/dist-packages (from sacremoses->transformers) (1.1.0)\n",
            "Requirement already satisfied: six in /usr/local/lib/python3.7/dist-packages (from sacremoses->transformers) (1.15.0)\n",
            "Requirement already satisfied: click in /usr/local/lib/python3.7/dist-packages (from sacremoses->transformers) (7.1.2)\n",
            "Installing collected packages: pyyaml, tokenizers, sacremoses, huggingface-hub, transformers\n",
            "  Attempting uninstall: pyyaml\n",
            "    Found existing installation: PyYAML 3.13\n",
            "    Uninstalling PyYAML-3.13:\n",
            "      Successfully uninstalled PyYAML-3.13\n",
            "Successfully installed huggingface-hub-0.4.0 pyyaml-6.0 sacremoses-0.0.47 tokenizers-0.10.3 transformers-4.15.0\n",
            "Collecting wandb\n",
            "  Downloading wandb-0.12.9-py2.py3-none-any.whl (1.7 MB)\n",
            "\u001b[K     |████████████████████████████████| 1.7 MB 13.8 MB/s \n",
            "\u001b[?25hCollecting GitPython>=1.0.0\n",
            "  Downloading GitPython-3.1.26-py3-none-any.whl (180 kB)\n",
            "\u001b[K     |████████████████████████████████| 180 kB 76.9 MB/s \n",
            "\u001b[?25hCollecting docker-pycreds>=0.4.0\n",
            "  Downloading docker_pycreds-0.4.0-py2.py3-none-any.whl (9.0 kB)\n",
            "Requirement already satisfied: protobuf>=3.12.0 in /usr/local/lib/python3.7/dist-packages (from wandb) (3.17.3)\n",
            "Requirement already satisfied: requests<3,>=2.0.0 in /usr/local/lib/python3.7/dist-packages (from wandb) (2.23.0)\n",
            "Collecting sentry-sdk>=1.0.0\n",
            "  Downloading sentry_sdk-1.5.2-py2.py3-none-any.whl (142 kB)\n",
            "\u001b[K     |████████████████████████████████| 142 kB 80.5 MB/s \n",
            "\u001b[?25hRequirement already satisfied: Click!=8.0.0,>=7.0 in /usr/local/lib/python3.7/dist-packages (from wandb) (7.1.2)\n",
            "Requirement already satisfied: psutil>=5.0.0 in /usr/local/lib/python3.7/dist-packages (from wandb) (5.4.8)\n",
            "Collecting yaspin>=1.0.0\n",
            "  Downloading yaspin-2.1.0-py3-none-any.whl (18 kB)\n",
            "Collecting subprocess32>=3.5.3\n",
            "  Downloading subprocess32-3.5.4.tar.gz (97 kB)\n",
            "\u001b[K     |████████████████████████████████| 97 kB 7.5 MB/s \n",
            "\u001b[?25hRequirement already satisfied: promise<3,>=2.0 in /usr/local/lib/python3.7/dist-packages (from wandb) (2.3)\n",
            "Requirement already satisfied: PyYAML in /usr/local/lib/python3.7/dist-packages (from wandb) (6.0)\n",
            "Collecting shortuuid>=0.5.0\n",
            "  Downloading shortuuid-1.0.8-py3-none-any.whl (9.5 kB)\n",
            "Requirement already satisfied: six>=1.13.0 in /usr/local/lib/python3.7/dist-packages (from wandb) (1.15.0)\n",
            "Requirement already satisfied: python-dateutil>=2.6.1 in /usr/local/lib/python3.7/dist-packages (from wandb) (2.8.2)\n",
            "Collecting configparser>=3.8.1\n",
            "  Downloading configparser-5.2.0-py3-none-any.whl (19 kB)\n",
            "Collecting pathtools\n",
            "  Downloading pathtools-0.1.2.tar.gz (11 kB)\n",
            "Collecting gitdb<5,>=4.0.1\n",
            "  Downloading gitdb-4.0.9-py3-none-any.whl (63 kB)\n",
            "\u001b[K     |████████████████████████████████| 63 kB 2.5 MB/s \n",
            "\u001b[?25hRequirement already satisfied: typing-extensions>=3.7.4.3 in /usr/local/lib/python3.7/dist-packages (from GitPython>=1.0.0->wandb) (3.10.0.2)\n",
            "Collecting smmap<6,>=3.0.1\n",
            "  Downloading smmap-5.0.0-py3-none-any.whl (24 kB)\n",
            "Requirement already satisfied: certifi>=2017.4.17 in /usr/local/lib/python3.7/dist-packages (from requests<3,>=2.0.0->wandb) (2021.10.8)\n",
            "Requirement already satisfied: idna<3,>=2.5 in /usr/local/lib/python3.7/dist-packages (from requests<3,>=2.0.0->wandb) (2.10)\n",
            "Requirement already satisfied: urllib3!=1.25.0,!=1.25.1,<1.26,>=1.21.1 in /usr/local/lib/python3.7/dist-packages (from requests<3,>=2.0.0->wandb) (1.24.3)\n",
            "Requirement already satisfied: chardet<4,>=3.0.2 in /usr/local/lib/python3.7/dist-packages (from requests<3,>=2.0.0->wandb) (3.0.4)\n",
            "Requirement already satisfied: termcolor<2.0.0,>=1.1.0 in /usr/local/lib/python3.7/dist-packages (from yaspin>=1.0.0->wandb) (1.1.0)\n",
            "Building wheels for collected packages: subprocess32, pathtools\n",
            "  Building wheel for subprocess32 (setup.py) ... \u001b[?25l\u001b[?25hdone\n",
            "  Created wheel for subprocess32: filename=subprocess32-3.5.4-py3-none-any.whl size=6502 sha256=be05557609a8e5e85df70a35e2648e5f28fe2631ec52826ba976766baa0f716d\n",
            "  Stored in directory: /root/.cache/pip/wheels/50/ca/fa/8fca8d246e64f19488d07567547ddec8eb084e8c0d7a59226a\n",
            "  Building wheel for pathtools (setup.py) ... \u001b[?25l\u001b[?25hdone\n",
            "  Created wheel for pathtools: filename=pathtools-0.1.2-py3-none-any.whl size=8806 sha256=6545e4361feddddbc256401fa2fd015711248e1b193c7454033036091468c5ac\n",
            "  Stored in directory: /root/.cache/pip/wheels/3e/31/09/fa59cef12cdcfecc627b3d24273699f390e71828921b2cbba2\n",
            "Successfully built subprocess32 pathtools\n",
            "Installing collected packages: smmap, gitdb, yaspin, subprocess32, shortuuid, sentry-sdk, pathtools, GitPython, docker-pycreds, configparser, wandb\n",
            "Successfully installed GitPython-3.1.26 configparser-5.2.0 docker-pycreds-0.4.0 gitdb-4.0.9 pathtools-0.1.2 sentry-sdk-1.5.2 shortuuid-1.0.8 smmap-5.0.0 subprocess32-3.5.4 wandb-0.12.9 yaspin-2.1.0\n"
          ]
        }
      ],
      "source": [
        "!pip install transformers\n",
        "!pip install wandb"
      ]
    },
    {
      "cell_type": "code",
      "source": [
        "import numpy as np\n",
        "import pandas as pd\n",
        "import torch\n",
        "import torch.nn.functional as F"
      ],
      "metadata": {
        "id": "QurbAN0AGXcf"
      },
      "execution_count": 5,
      "outputs": []
    },
    {
      "cell_type": "code",
      "source": [
        "from torch.utils.data import Dataset, DataLoader, RandomSampler, SequentialSampler"
      ],
      "metadata": {
        "id": "bh8zbqAZgEio"
      },
      "execution_count": 6,
      "outputs": []
    },
    {
      "cell_type": "code",
      "source": [
        "from transformers import T5TokenizerFast, T5ForConditionalGeneration"
      ],
      "metadata": {
        "id": "iffi30UigI3d"
      },
      "execution_count": 7,
      "outputs": []
    },
    {
      "cell_type": "code",
      "source": [
        "import wandb"
      ],
      "metadata": {
        "id": "jXZ2ZjfrgUMM"
      },
      "execution_count": 8,
      "outputs": []
    },
    {
      "cell_type": "code",
      "source": [
        "!nvidia-smi     # The GPU is available?"
      ],
      "metadata": {
        "colab": {
          "base_uri": "https://localhost:8080/"
        },
        "id": "wiGLZwrWgo8K",
        "outputId": "5c854e6c-d5f9-45d0-b026-385b94d74e6c"
      },
      "execution_count": 10,
      "outputs": [
        {
          "output_type": "stream",
          "name": "stdout",
          "text": [
            "Fri Jan 14 21:34:04 2022       \n",
            "+-----------------------------------------------------------------------------+\n",
            "| NVIDIA-SMI 495.46       Driver Version: 460.32.03    CUDA Version: 11.2     |\n",
            "|-------------------------------+----------------------+----------------------+\n",
            "| GPU  Name        Persistence-M| Bus-Id        Disp.A | Volatile Uncorr. ECC |\n",
            "| Fan  Temp  Perf  Pwr:Usage/Cap|         Memory-Usage | GPU-Util  Compute M. |\n",
            "|                               |                      |               MIG M. |\n",
            "|===============================+======================+======================|\n",
            "|   0  Tesla P100-PCIE...  Off  | 00000000:00:04.0 Off |                    0 |\n",
            "| N/A   32C    P0    25W / 250W |      0MiB / 16280MiB |      0%      Default |\n",
            "|                               |                      |                  N/A |\n",
            "+-------------------------------+----------------------+----------------------+\n",
            "                                                                               \n",
            "+-----------------------------------------------------------------------------+\n",
            "| Processes:                                                                  |\n",
            "|  GPU   GI   CI        PID   Type   Process name                  GPU Memory |\n",
            "|        ID   ID                                                   Usage      |\n",
            "|=============================================================================|\n",
            "|  No running processes found                                                 |\n",
            "+-----------------------------------------------------------------------------+\n"
          ]
        }
      ]
    },
    {
      "cell_type": "code",
      "source": [
        "from torch import cuda\n",
        "device = 'cuda' if cuda.is_available() else 'cpu'"
      ],
      "metadata": {
        "id": "8TTkFTYQgqBA"
      },
      "execution_count": 11,
      "outputs": []
    },
    {
      "cell_type": "code",
      "source": [
        "device"
      ],
      "metadata": {
        "colab": {
          "base_uri": "https://localhost:8080/",
          "height": 35
        },
        "id": "1AU-xeTSg0ax",
        "outputId": "93b7574e-c1b9-4b8b-afd8-f67f41b7638d"
      },
      "execution_count": 12,
      "outputs": [
        {
          "output_type": "execute_result",
          "data": {
            "application/vnd.google.colaboratory.intrinsic+json": {
              "type": "string"
            },
            "text/plain": [
              "'cuda'"
            ]
          },
          "metadata": {},
          "execution_count": 12
        }
      ]
    },
    {
      "cell_type": "code",
      "source": [
        "!wandb login --relogin"
      ],
      "metadata": {
        "colab": {
          "base_uri": "https://localhost:8080/"
        },
        "id": "FZvyea93g1D8",
        "outputId": "f216ac36-6fee-4c5e-c68e-ffbfcfdfb36d"
      },
      "execution_count": 13,
      "outputs": [
        {
          "output_type": "stream",
          "name": "stdout",
          "text": [
            "\u001b[34m\u001b[1mwandb\u001b[0m: You can find your API key in your browser here: https://wandb.ai/authorize\n",
            "\u001b[34m\u001b[1mwandb\u001b[0m: Paste an API key from your profile and hit enter, or press ctrl+c to quit: \n",
            "\u001b[34m\u001b[1mwandb\u001b[0m: \u001b[32m\u001b[41mERROR\u001b[0m API key must be 40 characters long, yours was 39\n",
            "\u001b[34m\u001b[1mwandb\u001b[0m: You can find your API key in your browser here: https://wandb.ai/authorize\n",
            "\u001b[34m\u001b[1mwandb\u001b[0m: Paste an API key from your profile and hit enter, or press ctrl+c to quit: \n",
            "\u001b[34m\u001b[1mwandb\u001b[0m: Appending key for api.wandb.ai to your netrc file: /root/.netrc\n"
          ]
        }
      ]
    },
    {
      "cell_type": "code",
      "source": [
        "!pip install sentencepiece"
      ],
      "metadata": {
        "colab": {
          "base_uri": "https://localhost:8080/"
        },
        "id": "2dw_PGzSg5Kk",
        "outputId": "694c23dc-423c-47f0-a001-60f0b20b98af"
      },
      "execution_count": 14,
      "outputs": [
        {
          "output_type": "stream",
          "name": "stdout",
          "text": [
            "Collecting sentencepiece\n",
            "  Downloading sentencepiece-0.1.96-cp37-cp37m-manylinux_2_17_x86_64.manylinux2014_x86_64.whl (1.2 MB)\n",
            "\u001b[?25l\r\u001b[K     |▎                               | 10 kB 44.0 MB/s eta 0:00:01\r\u001b[K     |▌                               | 20 kB 30.7 MB/s eta 0:00:01\r\u001b[K     |▉                               | 30 kB 19.9 MB/s eta 0:00:01\r\u001b[K     |█                               | 40 kB 16.9 MB/s eta 0:00:01\r\u001b[K     |█▍                              | 51 kB 16.2 MB/s eta 0:00:01\r\u001b[K     |█▋                              | 61 kB 16.0 MB/s eta 0:00:01\r\u001b[K     |██                              | 71 kB 15.8 MB/s eta 0:00:01\r\u001b[K     |██▏                             | 81 kB 17.3 MB/s eta 0:00:01\r\u001b[K     |██▍                             | 92 kB 13.4 MB/s eta 0:00:01\r\u001b[K     |██▊                             | 102 kB 13.9 MB/s eta 0:00:01\r\u001b[K     |███                             | 112 kB 13.9 MB/s eta 0:00:01\r\u001b[K     |███▎                            | 122 kB 13.9 MB/s eta 0:00:01\r\u001b[K     |███▌                            | 133 kB 13.9 MB/s eta 0:00:01\r\u001b[K     |███▉                            | 143 kB 13.9 MB/s eta 0:00:01\r\u001b[K     |████                            | 153 kB 13.9 MB/s eta 0:00:01\r\u001b[K     |████▎                           | 163 kB 13.9 MB/s eta 0:00:01\r\u001b[K     |████▋                           | 174 kB 13.9 MB/s eta 0:00:01\r\u001b[K     |████▉                           | 184 kB 13.9 MB/s eta 0:00:01\r\u001b[K     |█████▏                          | 194 kB 13.9 MB/s eta 0:00:01\r\u001b[K     |█████▍                          | 204 kB 13.9 MB/s eta 0:00:01\r\u001b[K     |█████▊                          | 215 kB 13.9 MB/s eta 0:00:01\r\u001b[K     |██████                          | 225 kB 13.9 MB/s eta 0:00:01\r\u001b[K     |██████▏                         | 235 kB 13.9 MB/s eta 0:00:01\r\u001b[K     |██████▌                         | 245 kB 13.9 MB/s eta 0:00:01\r\u001b[K     |██████▊                         | 256 kB 13.9 MB/s eta 0:00:01\r\u001b[K     |███████                         | 266 kB 13.9 MB/s eta 0:00:01\r\u001b[K     |███████▎                        | 276 kB 13.9 MB/s eta 0:00:01\r\u001b[K     |███████▋                        | 286 kB 13.9 MB/s eta 0:00:01\r\u001b[K     |███████▉                        | 296 kB 13.9 MB/s eta 0:00:01\r\u001b[K     |████████                        | 307 kB 13.9 MB/s eta 0:00:01\r\u001b[K     |████████▍                       | 317 kB 13.9 MB/s eta 0:00:01\r\u001b[K     |████████▋                       | 327 kB 13.9 MB/s eta 0:00:01\r\u001b[K     |█████████                       | 337 kB 13.9 MB/s eta 0:00:01\r\u001b[K     |█████████▏                      | 348 kB 13.9 MB/s eta 0:00:01\r\u001b[K     |█████████▌                      | 358 kB 13.9 MB/s eta 0:00:01\r\u001b[K     |█████████▊                      | 368 kB 13.9 MB/s eta 0:00:01\r\u001b[K     |██████████                      | 378 kB 13.9 MB/s eta 0:00:01\r\u001b[K     |██████████▎                     | 389 kB 13.9 MB/s eta 0:00:01\r\u001b[K     |██████████▌                     | 399 kB 13.9 MB/s eta 0:00:01\r\u001b[K     |██████████▉                     | 409 kB 13.9 MB/s eta 0:00:01\r\u001b[K     |███████████                     | 419 kB 13.9 MB/s eta 0:00:01\r\u001b[K     |███████████▍                    | 430 kB 13.9 MB/s eta 0:00:01\r\u001b[K     |███████████▋                    | 440 kB 13.9 MB/s eta 0:00:01\r\u001b[K     |███████████▉                    | 450 kB 13.9 MB/s eta 0:00:01\r\u001b[K     |████████████▏                   | 460 kB 13.9 MB/s eta 0:00:01\r\u001b[K     |████████████▍                   | 471 kB 13.9 MB/s eta 0:00:01\r\u001b[K     |████████████▊                   | 481 kB 13.9 MB/s eta 0:00:01\r\u001b[K     |█████████████                   | 491 kB 13.9 MB/s eta 0:00:01\r\u001b[K     |█████████████▎                  | 501 kB 13.9 MB/s eta 0:00:01\r\u001b[K     |█████████████▌                  | 512 kB 13.9 MB/s eta 0:00:01\r\u001b[K     |█████████████▊                  | 522 kB 13.9 MB/s eta 0:00:01\r\u001b[K     |██████████████                  | 532 kB 13.9 MB/s eta 0:00:01\r\u001b[K     |██████████████▎                 | 542 kB 13.9 MB/s eta 0:00:01\r\u001b[K     |██████████████▋                 | 552 kB 13.9 MB/s eta 0:00:01\r\u001b[K     |██████████████▉                 | 563 kB 13.9 MB/s eta 0:00:01\r\u001b[K     |███████████████▏                | 573 kB 13.9 MB/s eta 0:00:01\r\u001b[K     |███████████████▍                | 583 kB 13.9 MB/s eta 0:00:01\r\u001b[K     |███████████████▋                | 593 kB 13.9 MB/s eta 0:00:01\r\u001b[K     |████████████████                | 604 kB 13.9 MB/s eta 0:00:01\r\u001b[K     |████████████████▏               | 614 kB 13.9 MB/s eta 0:00:01\r\u001b[K     |████████████████▌               | 624 kB 13.9 MB/s eta 0:00:01\r\u001b[K     |████████████████▊               | 634 kB 13.9 MB/s eta 0:00:01\r\u001b[K     |█████████████████               | 645 kB 13.9 MB/s eta 0:00:01\r\u001b[K     |█████████████████▎              | 655 kB 13.9 MB/s eta 0:00:01\r\u001b[K     |█████████████████▌              | 665 kB 13.9 MB/s eta 0:00:01\r\u001b[K     |█████████████████▉              | 675 kB 13.9 MB/s eta 0:00:01\r\u001b[K     |██████████████████              | 686 kB 13.9 MB/s eta 0:00:01\r\u001b[K     |██████████████████▍             | 696 kB 13.9 MB/s eta 0:00:01\r\u001b[K     |██████████████████▋             | 706 kB 13.9 MB/s eta 0:00:01\r\u001b[K     |███████████████████             | 716 kB 13.9 MB/s eta 0:00:01\r\u001b[K     |███████████████████▏            | 727 kB 13.9 MB/s eta 0:00:01\r\u001b[K     |███████████████████▍            | 737 kB 13.9 MB/s eta 0:00:01\r\u001b[K     |███████████████████▊            | 747 kB 13.9 MB/s eta 0:00:01\r\u001b[K     |████████████████████            | 757 kB 13.9 MB/s eta 0:00:01\r\u001b[K     |████████████████████▎           | 768 kB 13.9 MB/s eta 0:00:01\r\u001b[K     |████████████████████▌           | 778 kB 13.9 MB/s eta 0:00:01\r\u001b[K     |████████████████████▉           | 788 kB 13.9 MB/s eta 0:00:01\r\u001b[K     |█████████████████████           | 798 kB 13.9 MB/s eta 0:00:01\r\u001b[K     |█████████████████████▎          | 808 kB 13.9 MB/s eta 0:00:01\r\u001b[K     |█████████████████████▋          | 819 kB 13.9 MB/s eta 0:00:01\r\u001b[K     |█████████████████████▉          | 829 kB 13.9 MB/s eta 0:00:01\r\u001b[K     |██████████████████████▏         | 839 kB 13.9 MB/s eta 0:00:01\r\u001b[K     |██████████████████████▍         | 849 kB 13.9 MB/s eta 0:00:01\r\u001b[K     |██████████████████████▊         | 860 kB 13.9 MB/s eta 0:00:01\r\u001b[K     |███████████████████████         | 870 kB 13.9 MB/s eta 0:00:01\r\u001b[K     |███████████████████████▏        | 880 kB 13.9 MB/s eta 0:00:01\r\u001b[K     |███████████████████████▌        | 890 kB 13.9 MB/s eta 0:00:01\r\u001b[K     |███████████████████████▊        | 901 kB 13.9 MB/s eta 0:00:01\r\u001b[K     |████████████████████████        | 911 kB 13.9 MB/s eta 0:00:01\r\u001b[K     |████████████████████████▎       | 921 kB 13.9 MB/s eta 0:00:01\r\u001b[K     |████████████████████████▋       | 931 kB 13.9 MB/s eta 0:00:01\r\u001b[K     |████████████████████████▉       | 942 kB 13.9 MB/s eta 0:00:01\r\u001b[K     |█████████████████████████       | 952 kB 13.9 MB/s eta 0:00:01\r\u001b[K     |█████████████████████████▍      | 962 kB 13.9 MB/s eta 0:00:01\r\u001b[K     |█████████████████████████▋      | 972 kB 13.9 MB/s eta 0:00:01\r\u001b[K     |██████████████████████████      | 983 kB 13.9 MB/s eta 0:00:01\r\u001b[K     |██████████████████████████▏     | 993 kB 13.9 MB/s eta 0:00:01\r\u001b[K     |██████████████████████████▌     | 1.0 MB 13.9 MB/s eta 0:00:01\r\u001b[K     |██████████████████████████▊     | 1.0 MB 13.9 MB/s eta 0:00:01\r\u001b[K     |███████████████████████████     | 1.0 MB 13.9 MB/s eta 0:00:01\r\u001b[K     |███████████████████████████▎    | 1.0 MB 13.9 MB/s eta 0:00:01\r\u001b[K     |███████████████████████████▌    | 1.0 MB 13.9 MB/s eta 0:00:01\r\u001b[K     |███████████████████████████▉    | 1.1 MB 13.9 MB/s eta 0:00:01\r\u001b[K     |████████████████████████████    | 1.1 MB 13.9 MB/s eta 0:00:01\r\u001b[K     |████████████████████████████▍   | 1.1 MB 13.9 MB/s eta 0:00:01\r\u001b[K     |████████████████████████████▋   | 1.1 MB 13.9 MB/s eta 0:00:01\r\u001b[K     |████████████████████████████▉   | 1.1 MB 13.9 MB/s eta 0:00:01\r\u001b[K     |█████████████████████████████▏  | 1.1 MB 13.9 MB/s eta 0:00:01\r\u001b[K     |█████████████████████████████▍  | 1.1 MB 13.9 MB/s eta 0:00:01\r\u001b[K     |█████████████████████████████▊  | 1.1 MB 13.9 MB/s eta 0:00:01\r\u001b[K     |██████████████████████████████  | 1.1 MB 13.9 MB/s eta 0:00:01\r\u001b[K     |██████████████████████████████▎ | 1.1 MB 13.9 MB/s eta 0:00:01\r\u001b[K     |██████████████████████████████▌ | 1.2 MB 13.9 MB/s eta 0:00:01\r\u001b[K     |██████████████████████████████▊ | 1.2 MB 13.9 MB/s eta 0:00:01\r\u001b[K     |███████████████████████████████ | 1.2 MB 13.9 MB/s eta 0:00:01\r\u001b[K     |███████████████████████████████▎| 1.2 MB 13.9 MB/s eta 0:00:01\r\u001b[K     |███████████████████████████████▋| 1.2 MB 13.9 MB/s eta 0:00:01\r\u001b[K     |███████████████████████████████▉| 1.2 MB 13.9 MB/s eta 0:00:01\r\u001b[K     |████████████████████████████████| 1.2 MB 13.9 MB/s \n",
            "\u001b[?25hInstalling collected packages: sentencepiece\n",
            "Successfully installed sentencepiece-0.1.96\n"
          ]
        }
      ]
    },
    {
      "cell_type": "code",
      "source": [
        "# df = pd.read_csv('/content/drive/MyDrive/data/news/news_summary.csv', encoding='latin-1')\n",
        "df = pd.read_csv('/content/drive/MyDrive/data/news/news_summary.csv', encoding='latin-1', engine='python')"
      ],
      "metadata": {
        "id": "09Q6Bx6Uhlss"
      },
      "execution_count": 17,
      "outputs": []
    },
    {
      "cell_type": "code",
      "source": [
        "df.head()"
      ],
      "metadata": {
        "colab": {
          "base_uri": "https://localhost:8080/",
          "height": 635
        },
        "id": "JfxcHIG6hrjY",
        "outputId": "792f0a94-1b50-4e63-bebd-b74b0f7ddd9d"
      },
      "execution_count": 18,
      "outputs": [
        {
          "output_type": "execute_result",
          "data": {
            "text/html": [
              "\n",
              "  <div id=\"df-10b95770-434c-4b64-84dd-f2843619e5d7\">\n",
              "    <div class=\"colab-df-container\">\n",
              "      <div>\n",
              "<style scoped>\n",
              "    .dataframe tbody tr th:only-of-type {\n",
              "        vertical-align: middle;\n",
              "    }\n",
              "\n",
              "    .dataframe tbody tr th {\n",
              "        vertical-align: top;\n",
              "    }\n",
              "\n",
              "    .dataframe thead th {\n",
              "        text-align: right;\n",
              "    }\n",
              "</style>\n",
              "<table border=\"1\" class=\"dataframe\">\n",
              "  <thead>\n",
              "    <tr style=\"text-align: right;\">\n",
              "      <th></th>\n",
              "      <th>author</th>\n",
              "      <th>date</th>\n",
              "      <th>headlines</th>\n",
              "      <th>read_more</th>\n",
              "      <th>text</th>\n",
              "      <th>ctext</th>\n",
              "    </tr>\n",
              "  </thead>\n",
              "  <tbody>\n",
              "    <tr>\n",
              "      <th>0</th>\n",
              "      <td>Chhavi Tyagi</td>\n",
              "      <td>03 Aug 2017,Thursday</td>\n",
              "      <td>Daman &amp; Diu revokes mandatory Rakshabandhan in...</td>\n",
              "      <td>http://www.hindustantimes.com/india-news/raksh...</td>\n",
              "      <td>The Administration of Union Territory Daman an...</td>\n",
              "      <td>The Daman and Diu administration on Wednesday ...</td>\n",
              "    </tr>\n",
              "    <tr>\n",
              "      <th>1</th>\n",
              "      <td>Daisy Mowke</td>\n",
              "      <td>03 Aug 2017,Thursday</td>\n",
              "      <td>Malaika slams user who trolled her for 'divorc...</td>\n",
              "      <td>http://www.hindustantimes.com/bollywood/malaik...</td>\n",
              "      <td>Malaika Arora slammed an Instagram user who tr...</td>\n",
              "      <td>From her special numbers to TV?appearances, Bo...</td>\n",
              "    </tr>\n",
              "    <tr>\n",
              "      <th>2</th>\n",
              "      <td>Arshiya Chopra</td>\n",
              "      <td>03 Aug 2017,Thursday</td>\n",
              "      <td>'Virgin' now corrected to 'Unmarried' in IGIMS...</td>\n",
              "      <td>http://www.hindustantimes.com/patna/bihar-igim...</td>\n",
              "      <td>The Indira Gandhi Institute of Medical Science...</td>\n",
              "      <td>The Indira Gandhi Institute of Medical Science...</td>\n",
              "    </tr>\n",
              "    <tr>\n",
              "      <th>3</th>\n",
              "      <td>Sumedha Sehra</td>\n",
              "      <td>03 Aug 2017,Thursday</td>\n",
              "      <td>Aaj aapne pakad liya: LeT man Dujana before be...</td>\n",
              "      <td>http://indiatoday.intoday.in/story/abu-dujana-...</td>\n",
              "      <td>Lashkar-e-Taiba's Kashmir commander Abu Dujana...</td>\n",
              "      <td>Lashkar-e-Taiba's Kashmir commander Abu Dujana...</td>\n",
              "    </tr>\n",
              "    <tr>\n",
              "      <th>4</th>\n",
              "      <td>Aarushi Maheshwari</td>\n",
              "      <td>03 Aug 2017,Thursday</td>\n",
              "      <td>Hotel staff to get training to spot signs of s...</td>\n",
              "      <td>http://indiatoday.intoday.in/story/sex-traffic...</td>\n",
              "      <td>Hotels in Maharashtra will train their staff t...</td>\n",
              "      <td>Hotels in Mumbai and other Indian cities are t...</td>\n",
              "    </tr>\n",
              "  </tbody>\n",
              "</table>\n",
              "</div>\n",
              "      <button class=\"colab-df-convert\" onclick=\"convertToInteractive('df-10b95770-434c-4b64-84dd-f2843619e5d7')\"\n",
              "              title=\"Convert this dataframe to an interactive table.\"\n",
              "              style=\"display:none;\">\n",
              "        \n",
              "  <svg xmlns=\"http://www.w3.org/2000/svg\" height=\"24px\"viewBox=\"0 0 24 24\"\n",
              "       width=\"24px\">\n",
              "    <path d=\"M0 0h24v24H0V0z\" fill=\"none\"/>\n",
              "    <path d=\"M18.56 5.44l.94 2.06.94-2.06 2.06-.94-2.06-.94-.94-2.06-.94 2.06-2.06.94zm-11 1L8.5 8.5l.94-2.06 2.06-.94-2.06-.94L8.5 2.5l-.94 2.06-2.06.94zm10 10l.94 2.06.94-2.06 2.06-.94-2.06-.94-.94-2.06-.94 2.06-2.06.94z\"/><path d=\"M17.41 7.96l-1.37-1.37c-.4-.4-.92-.59-1.43-.59-.52 0-1.04.2-1.43.59L10.3 9.45l-7.72 7.72c-.78.78-.78 2.05 0 2.83L4 21.41c.39.39.9.59 1.41.59.51 0 1.02-.2 1.41-.59l7.78-7.78 2.81-2.81c.8-.78.8-2.07 0-2.86zM5.41 20L4 18.59l7.72-7.72 1.47 1.35L5.41 20z\"/>\n",
              "  </svg>\n",
              "      </button>\n",
              "      \n",
              "  <style>\n",
              "    .colab-df-container {\n",
              "      display:flex;\n",
              "      flex-wrap:wrap;\n",
              "      gap: 12px;\n",
              "    }\n",
              "\n",
              "    .colab-df-convert {\n",
              "      background-color: #E8F0FE;\n",
              "      border: none;\n",
              "      border-radius: 50%;\n",
              "      cursor: pointer;\n",
              "      display: none;\n",
              "      fill: #1967D2;\n",
              "      height: 32px;\n",
              "      padding: 0 0 0 0;\n",
              "      width: 32px;\n",
              "    }\n",
              "\n",
              "    .colab-df-convert:hover {\n",
              "      background-color: #E2EBFA;\n",
              "      box-shadow: 0px 1px 2px rgba(60, 64, 67, 0.3), 0px 1px 3px 1px rgba(60, 64, 67, 0.15);\n",
              "      fill: #174EA6;\n",
              "    }\n",
              "\n",
              "    [theme=dark] .colab-df-convert {\n",
              "      background-color: #3B4455;\n",
              "      fill: #D2E3FC;\n",
              "    }\n",
              "\n",
              "    [theme=dark] .colab-df-convert:hover {\n",
              "      background-color: #434B5C;\n",
              "      box-shadow: 0px 1px 3px 1px rgba(0, 0, 0, 0.15);\n",
              "      filter: drop-shadow(0px 1px 2px rgba(0, 0, 0, 0.3));\n",
              "      fill: #FFFFFF;\n",
              "    }\n",
              "  </style>\n",
              "\n",
              "      <script>\n",
              "        const buttonEl =\n",
              "          document.querySelector('#df-10b95770-434c-4b64-84dd-f2843619e5d7 button.colab-df-convert');\n",
              "        buttonEl.style.display =\n",
              "          google.colab.kernel.accessAllowed ? 'block' : 'none';\n",
              "\n",
              "        async function convertToInteractive(key) {\n",
              "          const element = document.querySelector('#df-10b95770-434c-4b64-84dd-f2843619e5d7');\n",
              "          const dataTable =\n",
              "            await google.colab.kernel.invokeFunction('convertToInteractive',\n",
              "                                                     [key], {});\n",
              "          if (!dataTable) return;\n",
              "\n",
              "          const docLinkHtml = 'Like what you see? Visit the ' +\n",
              "            '<a target=\"_blank\" href=https://colab.research.google.com/notebooks/data_table.ipynb>data table notebook</a>'\n",
              "            + ' to learn more about interactive tables.';\n",
              "          element.innerHTML = '';\n",
              "          dataTable['output_type'] = 'display_data';\n",
              "          await google.colab.output.renderOutput(dataTable, element);\n",
              "          const docLink = document.createElement('div');\n",
              "          docLink.innerHTML = docLinkHtml;\n",
              "          element.appendChild(docLink);\n",
              "        }\n",
              "      </script>\n",
              "    </div>\n",
              "  </div>\n",
              "  "
            ],
            "text/plain": [
              "               author  ...                                              ctext\n",
              "0        Chhavi Tyagi  ...  The Daman and Diu administration on Wednesday ...\n",
              "1         Daisy Mowke  ...  From her special numbers to TV?appearances, Bo...\n",
              "2      Arshiya Chopra  ...  The Indira Gandhi Institute of Medical Science...\n",
              "3       Sumedha Sehra  ...  Lashkar-e-Taiba's Kashmir commander Abu Dujana...\n",
              "4  Aarushi Maheshwari  ...  Hotels in Mumbai and other Indian cities are t...\n",
              "\n",
              "[5 rows x 6 columns]"
            ]
          },
          "metadata": {},
          "execution_count": 18
        }
      ]
    },
    {
      "cell_type": "code",
      "source": [
        "df.ctext.iat[0]"
      ],
      "metadata": {
        "colab": {
          "base_uri": "https://localhost:8080/",
          "height": 261
        },
        "id": "pUDZY47rjVui",
        "outputId": "91f4956b-7c5d-4ebe-c6ad-9c3671f26414"
      },
      "execution_count": 19,
      "outputs": [
        {
          "output_type": "execute_result",
          "data": {
            "application/vnd.google.colaboratory.intrinsic+json": {
              "type": "string"
            },
            "text/plain": [
              "'The Daman and Diu administration on Wednesday withdrew a circular that asked women staff to tie rakhis on male colleagues after the order triggered a backlash from employees and was ripped apart on social media.The union territory?s administration was forced to retreat within 24 hours of issuing the circular that made it compulsory for its staff to celebrate Rakshabandhan at workplace.?It has been decided to celebrate the festival of Rakshabandhan on August 7. In this connection, all offices/ departments shall remain open and celebrate the festival collectively at a suitable time wherein all the lady staff shall tie rakhis to their colleagues,? the order, issued on August 1 by Gurpreet Singh, deputy secretary (personnel), had said.To ensure that no one skipped office, an attendance report was to be sent to the government the next evening.The two notifications ? one mandating the celebration of Rakshabandhan (left) and the other withdrawing the mandate (right) ? were issued by the Daman and Diu administration a day apart. The circular was withdrawn through a one-line order issued late in the evening by the UT?s department of personnel and administrative reforms.?The circular is ridiculous. There are sensitivities involved. How can the government dictate who I should tie rakhi to? We should maintain the professionalism of a workplace? an official told Hindustan Times earlier in the day. She refused to be identified.The notice was issued on Daman and Diu administrator and former Gujarat home minister Praful Kodabhai Patel?s direction, sources said.Rakshabandhan, a celebration of the bond between brothers and sisters, is one of several Hindu festivities and rituals that are no longer confined of private, family affairs but have become tools to push politic al ideologies.In 2014, the year BJP stormed to power at the Centre, Rashtriya Swayamsevak Sangh (RSS) chief Mohan Bhagwat said the festival had ?national significance? and should be celebrated widely ?to protect Hindu culture and live by the values enshrined in it?. The RSS is the ideological parent of the ruling BJP.Last year, women ministers in the Modi government went to the border areas to celebrate the festival with soldiers. A year before, all cabinet ministers were asked to go to their constituencies for the festival.'"
            ]
          },
          "metadata": {},
          "execution_count": 19
        }
      ]
    },
    {
      "cell_type": "code",
      "source": [
        "df.text.iat[0]"
      ],
      "metadata": {
        "colab": {
          "base_uri": "https://localhost:8080/",
          "height": 105
        },
        "id": "7dWvfLH2jZnZ",
        "outputId": "ef72d294-1c82-4e23-8fc1-941f2e63692b"
      },
      "execution_count": 20,
      "outputs": [
        {
          "output_type": "execute_result",
          "data": {
            "application/vnd.google.colaboratory.intrinsic+json": {
              "type": "string"
            },
            "text/plain": [
              "'The Administration of Union Territory Daman and Diu has revoked its order that made it compulsory for women to tie rakhis to their male colleagues on the occasion of Rakshabandhan on August 7. The administration was forced to withdraw the decision within 24 hours of issuing the circular after it received flak from employees and was slammed on social media.'"
            ]
          },
          "metadata": {},
          "execution_count": 20
        }
      ]
    },
    {
      "cell_type": "code",
      "source": [
        "df.columns"
      ],
      "metadata": {
        "colab": {
          "base_uri": "https://localhost:8080/"
        },
        "id": "3Iyjq1_-jaxf",
        "outputId": "0aefc579-d573-4a2e-80e6-106fb5a0db7f"
      },
      "execution_count": 21,
      "outputs": [
        {
          "output_type": "execute_result",
          "data": {
            "text/plain": [
              "Index(['author', 'date', 'headlines', 'read_more', 'text', 'ctext'], dtype='object')"
            ]
          },
          "metadata": {},
          "execution_count": 21
        }
      ]
    },
    {
      "cell_type": "code",
      "source": [
        "df = df[['text', 'ctext']]"
      ],
      "metadata": {
        "id": "TYEwnOXyjcVv"
      },
      "execution_count": 22,
      "outputs": []
    },
    {
      "cell_type": "code",
      "source": [
        "len(df)"
      ],
      "metadata": {
        "colab": {
          "base_uri": "https://localhost:8080/"
        },
        "id": "Zln0WzZJjfdJ",
        "outputId": "57162ada-c35f-488c-cc2e-c2e329e78ff9"
      },
      "execution_count": 23,
      "outputs": [
        {
          "output_type": "execute_result",
          "data": {
            "text/plain": [
              "4514"
            ]
          },
          "metadata": {},
          "execution_count": 23
        }
      ]
    },
    {
      "cell_type": "code",
      "source": [
        "df = df.sample(100)     # Reduce data size for time "
      ],
      "metadata": {
        "id": "qKPyQu8ujhEE"
      },
      "execution_count": 24,
      "outputs": []
    },
    {
      "cell_type": "code",
      "source": [
        "train_size = 0.8\n",
        "\n",
        "train_dataset = df.sample(frac=train_size, random_state=0)\n",
        "val_dataset = df.drop(train_dataset.index).reset_index(drop=True)\n",
        "train_dataset = train_dataset.reset_index(drop=True)"
      ],
      "metadata": {
        "id": "JqcYBQjnjsio"
      },
      "execution_count": 25,
      "outputs": []
    },
    {
      "cell_type": "code",
      "source": [
        "len(train_dataset.index)"
      ],
      "metadata": {
        "colab": {
          "base_uri": "https://localhost:8080/"
        },
        "id": "1pHxDSTrj7aW",
        "outputId": "a4bb14b3-e901-4421-90a8-e37c84b0f5bb"
      },
      "execution_count": 26,
      "outputs": [
        {
          "output_type": "execute_result",
          "data": {
            "text/plain": [
              "80"
            ]
          },
          "metadata": {},
          "execution_count": 26
        }
      ]
    },
    {
      "cell_type": "code",
      "source": [
        "len(val_dataset.index)"
      ],
      "metadata": {
        "colab": {
          "base_uri": "https://localhost:8080/"
        },
        "id": "yCunNtoTj9PY",
        "outputId": "455d7861-f0f3-4de5-fb88-6d0af372d1ad"
      },
      "execution_count": 27,
      "outputs": [
        {
          "output_type": "execute_result",
          "data": {
            "text/plain": [
              "20"
            ]
          },
          "metadata": {},
          "execution_count": 27
        }
      ]
    },
    {
      "cell_type": "code",
      "source": [
        "class CustomDataset(Dataset):\n",
        "\n",
        "    def __init__(self, dataframe, tokenizer, source_len, summ_len):\n",
        "        self.tokenizer = tokenizer\n",
        "        self.data = dataframe\n",
        "        self.source_len = source_len\n",
        "        self.summ_len = summ_len\n",
        "        self.text = self.data.text\n",
        "        self.ctext = self.data.ctext\n",
        "    def __len__(self):\n",
        "        return len(self.text)\n",
        "    \n",
        "    def __getitem__(self, index):\n",
        "        ctext = str(self.ctext[index])\n",
        "        ctext = ''.join(ctext.split())\n",
        "\n",
        "        text = str(self.text[index])\n",
        "        text = ' '.join(text.split())\n",
        "\n",
        "        source = self.tokenizer.batch_encode_plus([ctext], max_length=self.source_len, pad_to_max_length=True, return_tensors='pt')\n",
        "        target = self.tokenizer.batch_encode_plus([text], max_length=self.source_len, pad_to_max_length=True, return_tensors='pt')\n",
        "\n",
        "        source_ids = source['input_ids'].squeeze()\n",
        "        source_mask = source['attention_mask'].squeeze()\n",
        "        target_ids = target['input_ids'].squeeze()\n",
        "        target_mask = source['attention_mask'].squeeze()\n",
        "\n",
        "        return {\n",
        "            'source_ids': source_ids,\n",
        "            'source_mask': source_mask,\n",
        "            'target_ids': target_ids,\n",
        "            'target_mask': target_mask\n",
        "        }"
      ],
      "metadata": {
        "id": "2C5jgSW8kALO"
      },
      "execution_count": 62,
      "outputs": []
    },
    {
      "cell_type": "code",
      "source": [
        "tokenizer = T5TokenizerFast.from_pretrained('t5-small')"
      ],
      "metadata": {
        "id": "ZTFNVmX5lGSF"
      },
      "execution_count": 63,
      "outputs": []
    },
    {
      "cell_type": "code",
      "source": [
        "tokenizer.batch_encode_plus(['I can do it better'], max_length=32, pad_to_max_length=True, return_tensors='pt')"
      ],
      "metadata": {
        "colab": {
          "base_uri": "https://localhost:8080/"
        },
        "id": "pxyDQ8GklLUr",
        "outputId": "46c41552-2902-46c7-d684-ca5d8f633356"
      },
      "execution_count": 64,
      "outputs": [
        {
          "output_type": "stream",
          "name": "stderr",
          "text": [
            "Truncation was not explicitly activated but `max_length` is provided a specific value, please use `truncation=True` to explicitly truncate examples to max length. Defaulting to 'longest_first' truncation strategy. If you encode pairs of sequences (GLUE-style) with the tokenizer you can select this strategy more precisely by providing a specific strategy to `truncation`.\n",
            "/usr/local/lib/python3.7/dist-packages/transformers/tokenization_utils_base.py:2232: FutureWarning: The `pad_to_max_length` argument is deprecated and will be removed in a future version, use `padding=True` or `padding='longest'` to pad to the longest sequence in the batch, or use `padding='max_length'` to pad to a max length. In this case, you can give a specific length with `max_length` (e.g. `max_length=45`) or leave max_length to None to pad to the maximal input size of the model (e.g. 512 for Bert).\n",
            "  FutureWarning,\n"
          ]
        },
        {
          "output_type": "execute_result",
          "data": {
            "text/plain": [
              "{'input_ids': tensor([[ 27,  54, 103,  34, 394,   1,   0,   0,   0,   0,   0,   0,   0,   0,\n",
              "           0,   0,   0,   0,   0,   0,   0,   0,   0,   0,   0,   0,   0,   0,\n",
              "           0,   0,   0,   0]]), 'attention_mask': tensor([[1, 1, 1, 1, 1, 1, 0, 0, 0, 0, 0, 0, 0, 0, 0, 0, 0, 0, 0, 0, 0, 0, 0, 0,\n",
              "         0, 0, 0, 0, 0, 0, 0, 0]])}"
            ]
          },
          "metadata": {},
          "execution_count": 64
        }
      ]
    },
    {
      "cell_type": "code",
      "source": [
        "training_set = CustomDataset(train_dataset, tokenizer, 512, 150)\n",
        "val_set = CustomDataset(val_dataset, tokenizer, 512, 150)"
      ],
      "metadata": {
        "id": "B35ALWf4lXrB"
      },
      "execution_count": 65,
      "outputs": []
    },
    {
      "cell_type": "code",
      "source": [
        "train_params = {\n",
        "    'batch_size': 2,\n",
        "    'shuffle': True,\n",
        "    'num_workers': 0\n",
        "}"
      ],
      "metadata": {
        "id": "BlRXwGmAlvzN"
      },
      "execution_count": 66,
      "outputs": []
    },
    {
      "cell_type": "code",
      "source": [
        "val_params = {\n",
        "    'batch_size': 2,\n",
        "    'shuffle': False,\n",
        "    'num_workers': 0\n",
        "}"
      ],
      "metadata": {
        "id": "AwLHp5o0ni_w"
      },
      "execution_count": 67,
      "outputs": []
    },
    {
      "cell_type": "code",
      "source": [
        "training_loader = DataLoader(training_set, **train_params)\n",
        "val_loader = DataLoader(val_set, **val_params)"
      ],
      "metadata": {
        "id": "EchymoT5nmz2"
      },
      "execution_count": 68,
      "outputs": []
    },
    {
      "cell_type": "code",
      "source": [
        "for i in training_loader:\n",
        "    print(i)\n",
        "    break"
      ],
      "metadata": {
        "colab": {
          "base_uri": "https://localhost:8080/"
        },
        "id": "7w0FZVtOnuO1",
        "outputId": "c3672d8b-9c76-4c1a-80c8-91b982c187ea"
      },
      "execution_count": 69,
      "outputs": [
        {
          "output_type": "stream",
          "name": "stdout",
          "text": [
            "{'source_ids': tensor([[  621,     9, 23862,  ...,     0,     0,     0],\n",
            "        [ 1029, 14851,   202,  ..., 17686,  8910,     1]]), 'source_mask': tensor([[1, 1, 1,  ..., 0, 0, 0],\n",
            "        [1, 1, 1,  ..., 1, 1, 1]]), 'target_ids': tensor([[ 621,    8,   95,  ...,    0,    0,    0],\n",
            "        [1793,   17, 1639,  ...,    0,    0,    0]]), 'target_mask': tensor([[1, 1, 1,  ..., 0, 0, 0],\n",
            "        [1, 1, 1,  ..., 1, 1, 1]])}\n"
          ]
        },
        {
          "output_type": "stream",
          "name": "stderr",
          "text": [
            "/usr/local/lib/python3.7/dist-packages/transformers/tokenization_utils_base.py:2232: FutureWarning: The `pad_to_max_length` argument is deprecated and will be removed in a future version, use `padding=True` or `padding='longest'` to pad to the longest sequence in the batch, or use `padding='max_length'` to pad to a max length. In this case, you can give a specific length with `max_length` (e.g. `max_length=45`) or leave max_length to None to pad to the maximal input size of the model (e.g. 512 for Bert).\n",
            "  FutureWarning,\n"
          ]
        }
      ]
    },
    {
      "cell_type": "code",
      "source": [
        "model = T5ForConditionalGeneration.from_pretrained(\"t5-small\")\n",
        "model = model.to(device)"
      ],
      "metadata": {
        "colab": {
          "base_uri": "https://localhost:8080/",
          "height": 77,
          "referenced_widgets": [
            "f085c8ec42e0492cb92143fc348e1347",
            "90df81b3e68740979069f265f14bdddd",
            "577aacf74b0a41b98df7a59e7044a5f6",
            "c0bb2deec2eb4f449b83824892ff18a7",
            "491fb02b47624c1aa6ec1a0878148903",
            "8376abd4e58544e2a73cb26202b153ec",
            "28d1a07f315d4517bfa0ee8f354494e9",
            "3e247a42faee4cab8b6e2aafaf331865",
            "5ae499f8e2634ace9d7c6f9c4dd6c0af",
            "69ea16c879c142b199d46d844ff92b61",
            "b8dade1caf574eed868def4e3f3138ca"
          ]
        },
        "id": "xOVfv0KDnxZn",
        "outputId": "4d176f36-fef9-4424-c5e4-37fae48fd838"
      },
      "execution_count": 70,
      "outputs": [
        {
          "output_type": "display_data",
          "data": {
            "application/vnd.jupyter.widget-view+json": {
              "model_id": "f085c8ec42e0492cb92143fc348e1347",
              "version_minor": 0,
              "version_major": 2
            },
            "text/plain": [
              "Downloading:   0%|          | 0.00/231M [00:00<?, ?B/s]"
            ]
          },
          "metadata": {}
        }
      ]
    },
    {
      "cell_type": "code",
      "source": [
        "def train(epoch, tokenizer, model, device, loader, optimizer):\n",
        "    model.train()\n",
        "    for i, data in enumerate(loader, 0):\n",
        "        y = data['target_ids'].to(device, dtype=torch.long)\n",
        "        y_ids = y[:, :-1].contiguous()\n",
        "        lm_labels = y[:, 1:].clone().detach()\n",
        "        lm_labels[y[:, 1:] == tokenizer.pad_token_id] = -100\n",
        "        ids = data['source_ids'].to(device, dtype = torch.long)\n",
        "        mask = data['source_mask'].to(device, dtype=torch.long)\n",
        "\n",
        "        outputs = model(input_ids = ids, attention_mask = mask, decoder_input_ids=y_ids, labels=lm_labels)\n",
        "        loss = outputs[0]\n",
        "\n",
        "        if i % 10  == 0:\n",
        "            wandb.log({\"Training Loss\": loss.item()})\n",
        "\n",
        "        if i % 500 == 0:\n",
        "            print(f'Epoch:{epoch+1}, Loss:{loss.item()}')\n",
        "        \n",
        "        optimizer.zero_grad()\n",
        "        loss.backward()\n",
        "        optimizer.step()"
      ],
      "metadata": {
        "id": "1dJkaZOsoR9w"
      },
      "execution_count": 72,
      "outputs": []
    },
    {
      "cell_type": "code",
      "source": [
        "def validate(epoch, tokenizer, model, device, loader):\n",
        "    model.eval()\n",
        "    predictions = []\n",
        "    actuals = []\n",
        "\n",
        "    with torch.no_grad():\n",
        "        for i, data in enumerate(loader, 0):\n",
        "            y = data['target_ids'].to(device, dtype=torch.long)\n",
        "            ids = data['source_ids'].to(device, dtype=torch.long)\n",
        "            mask = data['source_mask'].to(device, dtype=torch.long)\n",
        "\n",
        "            generated_ids = model.generate(\n",
        "                input_ids = ids,\n",
        "                attention_mask = mask,\n",
        "                max_length = 150, \n",
        "                num_beams = 2,\n",
        "                repetition_penalty = 2.5,\n",
        "                length_penalty = 1.0,\n",
        "                early_stopping = True\n",
        "            )\n",
        "            preds = [tokenizer.decode(g, skip_special_tokens=True, clean_up_tokenization_spaces=True) for g in generated_ids]\n",
        "            target = [tokenizer.decode(t, skip_special_tokens=True, clean_up_tokenization_spaces=True) for t in y]\n",
        "\n",
        "            predictions.extend(preds)\n",
        "            actuals.extend(target)\n",
        "\n",
        "            if i % 100 == 0:\n",
        "                print(f'Completed: {i}')\n",
        "    return predictions, actuals"
      ],
      "metadata": {
        "id": "bFVxMSZAoa9Q"
      },
      "execution_count": 73,
      "outputs": []
    },
    {
      "cell_type": "code",
      "source": [
        "def main():\n",
        "    wandb.init(project=\"transformers_tutorials_summarization\")\n",
        "\n",
        "    config = wandb.config\n",
        "    config.TRAIN_BATCH_SIZE = 2\n",
        "    config.VALID_BATCH_SIZE = 2\n",
        "    config.TRAIN_EPOCHS = 2\n",
        "    config.VAL_EPOCHS = 1\n",
        "    config.LEARNING_RATE = 1e-4\n",
        "    config.SEED = 42\n",
        "    config.MAX_LEN = 512\n",
        "    config.SUMMARY_LEN = 150\n",
        "\n",
        "    # Reproductivity\n",
        "    torch.manual_seed(config.SEED)\n",
        "    np.random.seed(config.SEED)\n",
        "    torch.backends.cudnn.deterministic = True\n",
        "\n",
        "    optimizer = torch.optim.Adam(model.parameters(), lr=config.LEARNING_RATE)\n",
        "    wandb.watch(model, log=\"all\")\n",
        "\n",
        "    for epoch in range(config.TRAIN_EPOCHS):\n",
        "        train(epoch, tokenizer, model, device, training_loader, optimizer)\n",
        "\n",
        "    for epoch in range(config.VAL_EPOCHS):\n",
        "        predictions, actuals = validate(epoch, tokenizer, model, device, val_loader)\n",
        "        final_df = pd.DataFrame({'Generated Text':predictions, 'Actual Text':actuals})\n",
        "        final_df.to_csv('/content/drive/MyDrive/result/models/predictions.csv')\n",
        "        print('Ouput files generated for review')"
      ],
      "metadata": {
        "id": "0W505mfOomlQ"
      },
      "execution_count": 76,
      "outputs": []
    },
    {
      "cell_type": "code",
      "source": [
        "main()"
      ],
      "metadata": {
        "colab": {
          "base_uri": "https://localhost:8080/",
          "height": 416,
          "referenced_widgets": [
            "6025af2c6c5a4277a90403a76da483e9",
            "4ac1bdda00c8428e8929f5d49e904257",
            "252a840c906444e7a2f46a859685d1fb",
            "a576685209fe46b1a7ecff7b93626dd4",
            "956d3e825b764f9a95902f71a246f523",
            "1b549d8229c745958e54415e32556879",
            "30809671a0b74842bc476617dc94ef74",
            "8a524844b3914b90af7025c703176ce6"
          ]
        },
        "id": "eoeMszY8osCn",
        "outputId": "663efbe1-c949-409e-cfa6-3a5e5ab89ac7"
      },
      "execution_count": 77,
      "outputs": [
        {
          "output_type": "display_data",
          "data": {
            "text/html": [
              "Finishing last run (ID:3u0rp74c) before initializing another..."
            ],
            "text/plain": [
              "<IPython.core.display.HTML object>"
            ]
          },
          "metadata": {}
        },
        {
          "output_type": "display_data",
          "data": {
            "text/html": [
              "<br/>Waiting for W&B process to finish, PID 821... <strong style=\"color:green\">(success).</strong>"
            ],
            "text/plain": [
              "<IPython.core.display.HTML object>"
            ]
          },
          "metadata": {}
        },
        {
          "output_type": "display_data",
          "data": {
            "application/vnd.jupyter.widget-view+json": {
              "model_id": "6025af2c6c5a4277a90403a76da483e9",
              "version_minor": 0,
              "version_major": 2
            },
            "text/plain": [
              "VBox(children=(Label(value=' 0.00MB of 0.00MB uploaded (0.00MB deduped)\\r'), FloatProgress(value=1.0, max=1.0)…"
            ]
          },
          "metadata": {}
        },
        {
          "output_type": "display_data",
          "data": {
            "text/html": [
              "<style>\n",
              "    table.wandb td:nth-child(1) { padding: 0 10px; text-align: right }\n",
              "    .wandb-row { display: flex; flex-direction: row; flex-wrap: wrap; width: 100% }\n",
              "    .wandb-col { display: flex; flex-direction: column; flex-basis: 100%; flex: 1; padding: 10px; }\n",
              "    </style>\n",
              "<div class=\"wandb-row\"><div class=\"wandb-col\">\n",
              "<h3>Run history:</h3><br/><table class=\"wandb\"><tr><td>Training Loss</td><td>█▅▁▁▃▃▅▃</td></tr></table><br/></div><div class=\"wandb-col\">\n",
              "<h3>Run summary:</h3><br/><table class=\"wandb\"><tr><td>Training Loss</td><td>4.02091</td></tr></table>\n",
              "</div></div>\n",
              "Synced 5 W&B file(s), 0 media file(s), 0 artifact file(s) and 0 other file(s)\n",
              "<br/>Synced <strong style=\"color:#cdcd00\">denim-spaceship-1</strong>: <a href=\"https://wandb.ai/kokoichi/transformers_tutorials_summarization/runs/3u0rp74c\" target=\"_blank\">https://wandb.ai/kokoichi/transformers_tutorials_summarization/runs/3u0rp74c</a><br/>\n",
              "Find logs at: <code>./wandb/run-20220114_220848-3u0rp74c/logs</code><br/>\n"
            ],
            "text/plain": [
              "<IPython.core.display.HTML object>"
            ]
          },
          "metadata": {}
        },
        {
          "output_type": "display_data",
          "data": {
            "text/html": [
              "Successfully finished last run (ID:3u0rp74c). Initializing new run:<br/>"
            ],
            "text/plain": [
              "<IPython.core.display.HTML object>"
            ]
          },
          "metadata": {}
        },
        {
          "output_type": "display_data",
          "data": {
            "text/html": [
              "\n",
              "                    Syncing run <strong><a href=\"https://wandb.ai/kokoichi/transformers_tutorials_summarization/runs/1fk9huxa\" target=\"_blank\">twilight-dew-2</a></strong> to <a href=\"https://wandb.ai/kokoichi/transformers_tutorials_summarization\" target=\"_blank\">Weights & Biases</a> (<a href=\"https://docs.wandb.com/integrations/jupyter.html\" target=\"_blank\">docs</a>).<br/>\n",
              "\n",
              "                "
            ],
            "text/plain": [
              "<IPython.core.display.HTML object>"
            ]
          },
          "metadata": {}
        },
        {
          "output_type": "stream",
          "name": "stderr",
          "text": [
            "/usr/local/lib/python3.7/dist-packages/transformers/tokenization_utils_base.py:2232: FutureWarning: The `pad_to_max_length` argument is deprecated and will be removed in a future version, use `padding=True` or `padding='longest'` to pad to the longest sequence in the batch, or use `padding='max_length'` to pad to a max length. In this case, you can give a specific length with `max_length` (e.g. `max_length=45`) or leave max_length to None to pad to the maximal input size of the model (e.g. 512 for Bert).\n",
            "  FutureWarning,\n"
          ]
        },
        {
          "output_type": "stream",
          "name": "stdout",
          "text": [
            "Epoch:1, Loss:3.741318941116333\n",
            "Epoch:2, Loss:3.427143096923828\n",
            "Completed: 0\n",
            "Ouput files generated for review\n"
          ]
        }
      ]
    },
    {
      "cell_type": "code",
      "source": [
        ""
      ],
      "metadata": {
        "id": "vDMfHigKop05"
      },
      "execution_count": null,
      "outputs": []
    }
  ]
}