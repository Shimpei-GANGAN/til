{
  "nbformat": 4,
  "nbformat_minor": 0,
  "metadata": {
    "colab": {
      "name": "pytorch.ipynb",
      "provenance": []
    },
    "kernelspec": {
      "name": "python3",
      "display_name": "Python 3"
    },
    "language_info": {
      "name": "python"
    },
    "accelerator": "GPU"
  },
  "cells": [
    {
      "cell_type": "code",
      "execution_count": 14,
      "metadata": {
        "id": "kUqFojmBpo_7"
      },
      "outputs": [],
      "source": [
        "import torch\n",
        "import torch.nn as nn\n",
        "\n",
        "class LearnablePerceptron(nn.Module):\n",
        "    def __init__(self):\n",
        "        super().__init__()\n",
        "        self.fc1 = nn.Linear(2, 1, bias=True)\n",
        "    \n",
        "    def forward(self, x):\n",
        "        x = self.fc1(x)\n",
        "        sigmoid = nn.Sigmoid()\n",
        "        return sigmoid(x)\n"
      ]
    },
    {
      "cell_type": "code",
      "source": [
        "net = LearnablePerceptron()"
      ],
      "metadata": {
        "id": "O179OWPCqDtA"
      },
      "execution_count": 15,
      "outputs": []
    },
    {
      "cell_type": "code",
      "source": [
        "# 1 はバイアス\n",
        "X = torch.Tensor([[1, 170, 100], [1, 180, 55], [1, 160, 70], [1, 170, 70], [1, 145, 60]])\n",
        "y = torch.Tensor([1, 0, 1, 0, 1])   # 1. fat\n",
        "\n",
        "def normalize(X):  # min-max-normalize\n",
        "    x_max = X.max()\n",
        "    x_min = X.min()\n",
        "    return (X - x_min + 1.0) / (x_max - x_min + 1.0)\n",
        "\n",
        "print(X[:, 1])\n",
        "print(X[:, 2])\n",
        "normalized_h = normalize(X[:, 1])\n",
        "normalized_w = normalize(X[:, 2])\n",
        "X_normalized = torch.Tensor([[i.item(), j.item(), k.item()] for i,j,k in zip(X[:, 0], normalized_h, normalized_w)])\n"
      ],
      "metadata": {
        "colab": {
          "base_uri": "https://localhost:8080/"
        },
        "id": "SqcWsE3nqhQ3",
        "outputId": "bb63c0be-9164-4d66-94ab-b76d95267d23"
      },
      "execution_count": 16,
      "outputs": [
        {
          "output_type": "stream",
          "name": "stdout",
          "text": [
            "tensor([170., 180., 160., 170., 145.])\n",
            "tensor([100.,  55.,  70.,  70.,  60.])\n"
          ]
        }
      ]
    },
    {
      "cell_type": "code",
      "source": [
        "# bias はクラスに持たせることにしたので、削除する\n",
        "X_normalized = X_normalized[:, 1:]"
      ],
      "metadata": {
        "id": "JF7lcGzcq16r"
      },
      "execution_count": 17,
      "outputs": []
    },
    {
      "cell_type": "code",
      "source": [
        "net(X_normalized)"
      ],
      "metadata": {
        "colab": {
          "base_uri": "https://localhost:8080/"
        },
        "id": "P0TDU5n_qTtf",
        "outputId": "83cbea12-f640-4af7-ff20-5a00955d0de2"
      },
      "execution_count": 18,
      "outputs": [
        {
          "output_type": "execute_result",
          "data": {
            "text/plain": [
              "tensor([[0.5287],\n",
              "        [0.6017],\n",
              "        [0.5251],\n",
              "        [0.5568],\n",
              "        [0.4867]], grad_fn=<SigmoidBackward0>)"
            ]
          },
          "metadata": {},
          "execution_count": 18
        }
      ]
    },
    {
      "cell_type": "code",
      "source": [
        "import torch.optim as optim\n",
        "optimizer = optim.Adam(net.parameters(), lr=0.5)"
      ],
      "metadata": {
        "id": "YUigOYyMr35E"
      },
      "execution_count": 19,
      "outputs": []
    },
    {
      "cell_type": "code",
      "source": [
        "epochs = 100"
      ],
      "metadata": {
        "id": "qm7GB3WTr_N3"
      },
      "execution_count": 20,
      "outputs": []
    },
    {
      "cell_type": "code",
      "source": [
        "losses = []\n",
        "loss_fn = nn.BCELoss()\n",
        "\n",
        "for epoch in range(epochs):\n",
        "    optimizer.zero_grad()\n",
        "    y_pred = net(X_normalized)\n",
        "    loss = loss_fn(y_pred, y.view_as(y_pred))\n",
        "    loss.backward()\n",
        "    optimizer.step()\n",
        "    losses.append(loss)\n"
      ],
      "metadata": {
        "id": "f1pGIsW5sBFv"
      },
      "execution_count": 21,
      "outputs": []
    },
    {
      "cell_type": "code",
      "source": [
        "joshua = torch.Tensor([[1, 180, 55]])\n",
        "\n",
        "# １つのデータだと、正規化したときに [1,1] になってしまうので、以下のようにする\n",
        "# min-max は train のデータを使うと思ってもいいかも\n",
        "X_new = torch.cat([X, joshua.reshape(1,3)])\n",
        "\n",
        "def normalize_array(X):\n",
        "    normalized_h = normalize(X[:, 1])\n",
        "    normalized_w = normalize(X[:, 2])\n",
        "    X_normalized = torch.Tensor([[i.item(), j.item(), k.item()] for i,j,k in zip(X[:, 0], normalized_h, normalized_w)])\n",
        "    return X_normalized\n",
        "\n",
        "X_new_normalized = normalize_array(X_new)"
      ],
      "metadata": {
        "id": "o4Op-L7l80Pe"
      },
      "execution_count": 22,
      "outputs": []
    },
    {
      "cell_type": "code",
      "source": [
        "print(X_new_normalized)\n",
        "joshua = X_new_normalized[-1, :]\n",
        "joshua"
      ],
      "metadata": {
        "colab": {
          "base_uri": "https://localhost:8080/"
        },
        "id": "rOP3dUzK9UEy",
        "outputId": "6267598d-6ddf-4dfb-c3b8-9684a9918412"
      },
      "execution_count": 25,
      "outputs": [
        {
          "output_type": "stream",
          "name": "stdout",
          "text": [
            "tensor([[1.0000, 0.7222, 1.0000],\n",
            "        [1.0000, 1.0000, 0.0217],\n",
            "        [1.0000, 0.4444, 0.3478],\n",
            "        [1.0000, 0.7222, 0.3478],\n",
            "        [1.0000, 0.0278, 0.1304],\n",
            "        [1.0000, 1.0000, 0.0217]])\n"
          ]
        },
        {
          "output_type": "execute_result",
          "data": {
            "text/plain": [
              "tensor([1.0000, 1.0000, 0.0217])"
            ]
          },
          "metadata": {},
          "execution_count": 25
        }
      ]
    },
    {
      "cell_type": "code",
      "source": [
        "'fat' if net(joshua[1:]) >= 0.5 else 'not fat'"
      ],
      "metadata": {
        "colab": {
          "base_uri": "https://localhost:8080/",
          "height": 35
        },
        "id": "pNklxE079GLx",
        "outputId": "612454ac-cfc3-4cb4-a43f-23095138d071"
      },
      "execution_count": 24,
      "outputs": [
        {
          "output_type": "execute_result",
          "data": {
            "application/vnd.google.colaboratory.intrinsic+json": {
              "type": "string"
            },
            "text/plain": [
              "'not fat'"
            ]
          },
          "metadata": {},
          "execution_count": 24
        }
      ]
    }
  ]
}