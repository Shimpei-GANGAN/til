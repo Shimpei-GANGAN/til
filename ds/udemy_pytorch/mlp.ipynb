{
  "nbformat": 4,
  "nbformat_minor": 0,
  "metadata": {
    "colab": {
      "name": "mlp.ipynb",
      "provenance": []
    },
    "kernelspec": {
      "name": "python3",
      "display_name": "Python 3"
    },
    "language_info": {
      "name": "python"
    }
  },
  "cells": [
    {
      "cell_type": "code",
      "execution_count": 13,
      "metadata": {
        "colab": {
          "base_uri": "https://localhost:8080/"
        },
        "id": "MYsClwxSAMve",
        "outputId": "ad559c8d-4be8-4de7-b839-a50fa03c841d"
      },
      "outputs": [
        {
          "output_type": "execute_result",
          "data": {
            "text/plain": [
              "tensor([[1., 0.],\n",
              "        [1., 0.],\n",
              "        [1., 0.],\n",
              "        [0., 1.]])"
            ]
          },
          "metadata": {},
          "execution_count": 13
        }
      ],
      "source": [
        "import torch\n",
        "\n",
        "y_and = [0,0,0,1]\n",
        "y = torch.eye(2)[y_and] # one-hot encoding\n",
        "y"
      ]
    },
    {
      "cell_type": "code",
      "source": [
        "import torch.nn as nn\n",
        "\n",
        "\n",
        "class Perceptron(nn.Module):\n",
        "    def __init__(self):\n",
        "        super().__init__()\n",
        "        self.layer1 = nn.Linear(2, 2, bias=True)\n",
        "\n",
        "    def forward(self, x):\n",
        "        x = self.layer1(x)\n",
        "        return torch.log_softmax(x, 1)\n"
      ],
      "metadata": {
        "id": "bmvSrizRAfYM"
      },
      "execution_count": 9,
      "outputs": []
    },
    {
      "cell_type": "code",
      "source": [
        "net = Perceptron()"
      ],
      "metadata": {
        "id": "Ogz-Shj7AvRm"
      },
      "execution_count": 11,
      "outputs": []
    },
    {
      "cell_type": "code",
      "source": [
        "x = [[0,0], [0,1], [1,0], [1,1]]\n",
        "x = torch.Tensor(x)\n",
        "net(x)"
      ],
      "metadata": {
        "colab": {
          "base_uri": "https://localhost:8080/"
        },
        "id": "J2rZfOLhAxm1",
        "outputId": "fb3d5e51-9088-4fab-b523-cadbe8d3a1ef"
      },
      "execution_count": 12,
      "outputs": [
        {
          "output_type": "execute_result",
          "data": {
            "text/plain": [
              "tensor([[-0.4887, -0.9505],\n",
              "        [-0.4236, -1.0632],\n",
              "        [-0.7866, -0.6077],\n",
              "        [-0.6937, -0.6926]], grad_fn=<LogSoftmaxBackward0>)"
            ]
          },
          "metadata": {},
          "execution_count": 12
        }
      ]
    },
    {
      "cell_type": "markdown",
      "source": [
        "## Hyper Parameter Settings\n"
      ],
      "metadata": {
        "id": "JvQsQf7ACJA6"
      }
    },
    {
      "cell_type": "code",
      "source": [
        "loss_fn = nn.BCEWithLogitsLoss()"
      ],
      "metadata": {
        "id": "pLLJPY2RBhJq"
      },
      "execution_count": 14,
      "outputs": []
    },
    {
      "cell_type": "code",
      "source": [
        "import torch.optim as optim\n",
        "\n",
        "optimizer = optim.Adam(net.parameters(), lr=0.3)"
      ],
      "metadata": {
        "id": "Xfd4AbpnB_hD"
      },
      "execution_count": 15,
      "outputs": []
    },
    {
      "cell_type": "code",
      "source": [
        "epochs = 200"
      ],
      "metadata": {
        "id": "v8AWQDggCEef"
      },
      "execution_count": 16,
      "outputs": []
    },
    {
      "cell_type": "markdown",
      "source": [
        "## Train Model"
      ],
      "metadata": {
        "id": "Fz9mUuUeCL8I"
      }
    },
    {
      "cell_type": "code",
      "source": [
        "x"
      ],
      "metadata": {
        "colab": {
          "base_uri": "https://localhost:8080/"
        },
        "id": "yA4pxB3RCGkW",
        "outputId": "883b0118-d6b9-4a08-aee8-3539abd70fa4"
      },
      "execution_count": 17,
      "outputs": [
        {
          "output_type": "execute_result",
          "data": {
            "text/plain": [
              "tensor([[0., 0.],\n",
              "        [0., 1.],\n",
              "        [1., 0.],\n",
              "        [1., 1.]])"
            ]
          },
          "metadata": {},
          "execution_count": 17
        }
      ]
    },
    {
      "cell_type": "code",
      "source": [
        "y"
      ],
      "metadata": {
        "colab": {
          "base_uri": "https://localhost:8080/"
        },
        "id": "ShGo27W7COGt",
        "outputId": "938ecd8e-75e8-4f28-e6e3-e3ef6b574eef"
      },
      "execution_count": 18,
      "outputs": [
        {
          "output_type": "execute_result",
          "data": {
            "text/plain": [
              "tensor([[1., 0.],\n",
              "        [1., 0.],\n",
              "        [1., 0.],\n",
              "        [0., 1.]])"
            ]
          },
          "metadata": {},
          "execution_count": 18
        }
      ]
    },
    {
      "cell_type": "code",
      "source": [
        "net.train()     # change network to train mode, which calculate gradient automatically?\n",
        "losses = []\n",
        "for epoch in range(epochs):\n",
        "    optimizer.zero_grad()\n",
        "    outputs = net(x)\n",
        "    loss = loss_fn(outputs, y)\n",
        "    loss.backward()\n",
        "    optimizer.step()\n",
        "    losses.append(loss)\n"
      ],
      "metadata": {
        "id": "Kmr4aQY2COea"
      },
      "execution_count": 19,
      "outputs": []
    },
    {
      "cell_type": "code",
      "source": [
        "import matplotlib.pyplot as plt\n",
        "\n",
        "plt.plot(losses)\n",
        "plt.show()"
      ],
      "metadata": {
        "colab": {
          "base_uri": "https://localhost:8080/",
          "height": 265
        },
        "id": "j8hstJDyCseq",
        "outputId": "498e6708-45f6-43f3-9f6b-a16c2d29d421"
      },
      "execution_count": 21,
      "outputs": [
        {
          "output_type": "display_data",
          "data": {
            "image/png": "[encoded data removed]",
            "text/plain": [
              "<Figure size 432x288 with 1 Axes>"
            ]
          },
          "metadata": {
            "needs_background": "light"
          }
        }
      ]
    },
    {
      "cell_type": "markdown",
      "source": [
        "## Evaluate model"
      ],
      "metadata": {
        "id": "k5GvRGlvC4DM"
      }
    },
    {
      "cell_type": "code",
      "source": [
        "x"
      ],
      "metadata": {
        "colab": {
          "base_uri": "https://localhost:8080/"
        },
        "id": "JOVNbWrSC6Mx",
        "outputId": "1d1891de-7860-460c-cc7e-50118e807df5"
      },
      "execution_count": 22,
      "outputs": [
        {
          "output_type": "execute_result",
          "data": {
            "text/plain": [
              "tensor([[0., 0.],\n",
              "        [0., 1.],\n",
              "        [1., 0.],\n",
              "        [1., 1.]])"
            ]
          },
          "metadata": {},
          "execution_count": 22
        }
      ]
    },
    {
      "cell_type": "code",
      "source": [
        "y"
      ],
      "metadata": {
        "colab": {
          "base_uri": "https://localhost:8080/"
        },
        "id": "dY3rpViPC63E",
        "outputId": "3703edde-abec-4ef8-9505-eec2a4f65f54"
      },
      "execution_count": 23,
      "outputs": [
        {
          "output_type": "execute_result",
          "data": {
            "text/plain": [
              "tensor([[1., 0.],\n",
              "        [1., 0.],\n",
              "        [1., 0.],\n",
              "        [0., 1.]])"
            ]
          },
          "metadata": {},
          "execution_count": 23
        }
      ]
    },
    {
      "cell_type": "code",
      "source": [
        "y_pred = net(x)\n",
        "print(y_pred)\n",
        "print(y_pred.max(dim=1))\n",
        "print(y_pred.max(dim=1)[1])"
      ],
      "metadata": {
        "colab": {
          "base_uri": "https://localhost:8080/"
        },
        "id": "GeTmVKitC7Ho",
        "outputId": "0dccbba5-2832-4c8b-b93d-2a8520a194e0"
      },
      "execution_count": 28,
      "outputs": [
        {
          "output_type": "stream",
          "name": "stdout",
          "text": [
            "tensor([[ 0.0000e+00, -1.8292e+01],\n",
            "        [-2.1699e-03, -6.1341e+00],\n",
            "        [-2.0847e-03, -6.1742e+00],\n",
            "        [-5.9908e+00, -2.5047e-03]], grad_fn=<LogSoftmaxBackward0>)\n",
            "torch.return_types.max(\n",
            "values=tensor([ 0.0000, -0.0022, -0.0021, -0.0025], grad_fn=<MaxBackward0>),\n",
            "indices=tensor([0, 0, 0, 1]))\n",
            "tensor([0, 0, 0, 1])\n"
          ]
        }
      ]
    },
    {
      "cell_type": "markdown",
      "source": [
        "# MLP"
      ],
      "metadata": {
        "id": "DsSMHvS7DwGb"
      }
    },
    {
      "cell_type": "code",
      "source": [
        "import torch.nn as nn\n",
        "import torch.nn.functional as F\n",
        "\n",
        "class MLP(nn.Module):\n",
        "    def __init__(self):\n",
        "        super().__init__()\n",
        "        self.layer1 = nn.Linear(2, 32, bias=True)\n",
        "        self.layer2 = nn.Linear(32, 32, bias=True)\n",
        "        self.layer3 = nn.Linear(32, 2, bias=True)\n",
        "\n",
        "    def forward(self, x):\n",
        "        x = F.relu(self.layer1(x))\n",
        "        x = F.relu(self.layer2(x))\n",
        "        x = self.layer3(x)\n",
        "        return torch.log_softmax(x, 1)\n"
      ],
      "metadata": {
        "id": "EbkqLOViC_EO"
      },
      "execution_count": 29,
      "outputs": []
    },
    {
      "cell_type": "code",
      "source": [
        "net = MLP()"
      ],
      "metadata": {
        "id": "-Gj1E7tQENgi"
      },
      "execution_count": 30,
      "outputs": []
    },
    {
      "cell_type": "code",
      "source": [
        "loss_fn = nn.BCEWithLogitsLoss()"
      ],
      "metadata": {
        "id": "SCqGtfz5E2X9"
      },
      "execution_count": 36,
      "outputs": []
    },
    {
      "cell_type": "code",
      "source": [
        "import torch.optim as optim\n",
        "\n",
        "optimizer = optim.Adam(net.parameters(), lr=0.3)"
      ],
      "metadata": {
        "id": "yFgCt0rPE7E4"
      },
      "execution_count": 37,
      "outputs": []
    },
    {
      "cell_type": "markdown",
      "source": [
        "### XOR"
      ],
      "metadata": {
        "id": "pY83TyxTEzgl"
      }
    },
    {
      "cell_type": "code",
      "source": [
        "x = torch.Tensor([[0,0], [0,1], [1,0], [1,1]])\n",
        "x"
      ],
      "metadata": {
        "colab": {
          "base_uri": "https://localhost:8080/"
        },
        "id": "8ePDrk5kEPhW",
        "outputId": "64322ede-cdb4-4847-af5e-09f3fdd12518"
      },
      "execution_count": 31,
      "outputs": [
        {
          "output_type": "execute_result",
          "data": {
            "text/plain": [
              "tensor([[0., 0.],\n",
              "        [0., 1.],\n",
              "        [1., 0.],\n",
              "        [1., 1.]])"
            ]
          },
          "metadata": {},
          "execution_count": 31
        }
      ]
    },
    {
      "cell_type": "code",
      "source": [
        "y = torch.eye(2)[[0,1,1,0]]\n",
        "y"
      ],
      "metadata": {
        "colab": {
          "base_uri": "https://localhost:8080/"
        },
        "id": "RVwnmKT9EeuM",
        "outputId": "867a6ca4-7128-4a13-8800-509802453f57"
      },
      "execution_count": 35,
      "outputs": [
        {
          "output_type": "execute_result",
          "data": {
            "text/plain": [
              "tensor([[1., 0.],\n",
              "        [0., 1.],\n",
              "        [0., 1.],\n",
              "        [1., 0.]])"
            ]
          },
          "metadata": {},
          "execution_count": 35
        }
      ]
    },
    {
      "cell_type": "code",
      "source": [
        "net.train()     # change network to train mode, which calculate gradient automatically?\n",
        "losses = []\n",
        "for epoch in range(epochs):\n",
        "    optimizer.zero_grad()\n",
        "    outputs = net(x)\n",
        "    loss = loss_fn(outputs, y)\n",
        "    loss.backward()\n",
        "    optimizer.step()\n",
        "    losses.append(loss)\n"
      ],
      "metadata": {
        "id": "EsN30NN-El4J"
      },
      "execution_count": 38,
      "outputs": []
    },
    {
      "cell_type": "code",
      "source": [
        "import matplotlib.pyplot as plt\n",
        "\n",
        "plt.plot(losses)\n",
        "plt.show()"
      ],
      "metadata": {
        "colab": {
          "base_uri": "https://localhost:8080/",
          "height": 265
        },
        "id": "RSsf_AW5FL55",
        "outputId": "1ffb0b5a-b4a1-42a9-8a6b-86622206b9e2"
      },
      "execution_count": 39,
      "outputs": [
        {
          "output_type": "display_data",
          "data": {
            "image/png": "[encoded data removed]",
            "text/plain": [
              "<Figure size 432x288 with 1 Axes>"
            ]
          },
          "metadata": {
            "needs_background": "light"
          }
        }
      ]
    },
    {
      "cell_type": "code",
      "source": [
        ""
      ],
      "metadata": {
        "id": "1YdV0Jv2FM4G"
      },
      "execution_count": null,
      "outputs": []
    }
  ]
}